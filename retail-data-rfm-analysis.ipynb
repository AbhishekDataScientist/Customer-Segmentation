{
 "cells": [
  {
   "cell_type": "code",
   "execution_count": 1,
   "id": "8beb2c3c",
   "metadata": {
    "_cell_guid": "b1076dfc-b9ad-4769-8c92-a6c4dae69d19",
    "_uuid": "8f2839f25d086af736a60e9eeb907d3b93b6e0e5",
    "execution": {
     "iopub.execute_input": "2021-09-11T17:20:10.242458Z",
     "iopub.status.busy": "2021-09-11T17:20:10.241696Z",
     "iopub.status.idle": "2021-09-11T17:20:11.675384Z",
     "shell.execute_reply": "2021-09-11T17:20:11.676204Z",
     "shell.execute_reply.started": "2021-09-11T16:31:32.539815Z"
    },
    "papermill": {
     "duration": 1.463284,
     "end_time": "2021-09-11T17:20:11.676581",
     "exception": false,
     "start_time": "2021-09-11T17:20:10.213297",
     "status": "completed"
    },
    "tags": []
   },
   "outputs": [
    {
     "name": "stdout",
     "output_type": "stream",
     "text": [
      "/kaggle/input/onlineretail/OnlineRetail.csv\n"
     ]
    }
   ],
   "source": [
    "# This Python 3 environment comes with many helpful analytics libraries installed\n",
    "# It is defined by the kaggle/python Docker image: https://github.com/kaggle/docker-python\n",
    "# For example, here's several helpful packages to load\n",
    "\n",
    "import numpy as np # linear algebra\n",
    "import pandas as pd # data processing, CSV file I/O (e.g. pd.read_csv)\n",
    "\n",
    "# Input data files are available in the read-only \"../input/\" directory\n",
    "# For example, running this (by clicking run or pressing Shift+Enter) will list all files under the input directory\n",
    "import datetime\n",
    "import math\n",
    "from sklearn.preprocessing import StandardScaler\n",
    "from sklearn.cluster import KMeans\n",
    "import matplotlib.pyplot as plt\n",
    "import seaborn as sns\n",
    "import os\n",
    "for dirname, _, filenames in os.walk('/kaggle/input'):\n",
    "    for filename in filenames:\n",
    "        print(os.path.join(dirname, filename))\n",
    "\n",
    "# You can write up to 20GB to the current directory (/kaggle/working/) that gets preserved as output when you create a version using \"Save & Run All\" \n",
    "# You can also write temporary files to /kaggle/temp/, but they won't be saved outside of the current session"
   ]
  },
  {
   "cell_type": "code",
   "execution_count": 2,
   "id": "d9f7fffa",
   "metadata": {
    "execution": {
     "iopub.execute_input": "2021-09-11T17:20:11.710051Z",
     "iopub.status.busy": "2021-09-11T17:20:11.709390Z",
     "iopub.status.idle": "2021-09-11T17:20:13.073803Z",
     "shell.execute_reply": "2021-09-11T17:20:13.074336Z",
     "shell.execute_reply.started": "2021-09-11T16:17:18.995840Z"
    },
    "papermill": {
     "duration": 1.382312,
     "end_time": "2021-09-11T17:20:13.074509",
     "exception": false,
     "start_time": "2021-09-11T17:20:11.692197",
     "status": "completed"
    },
    "tags": []
   },
   "outputs": [
    {
     "data": {
      "text/html": [
       "<div>\n",
       "<style scoped>\n",
       "    .dataframe tbody tr th:only-of-type {\n",
       "        vertical-align: middle;\n",
       "    }\n",
       "\n",
       "    .dataframe tbody tr th {\n",
       "        vertical-align: top;\n",
       "    }\n",
       "\n",
       "    .dataframe thead th {\n",
       "        text-align: right;\n",
       "    }\n",
       "</style>\n",
       "<table border=\"1\" class=\"dataframe\">\n",
       "  <thead>\n",
       "    <tr style=\"text-align: right;\">\n",
       "      <th></th>\n",
       "      <th>InvoiceNo</th>\n",
       "      <th>StockCode</th>\n",
       "      <th>Description</th>\n",
       "      <th>Quantity</th>\n",
       "      <th>InvoiceDate</th>\n",
       "      <th>UnitPrice</th>\n",
       "      <th>CustomerID</th>\n",
       "      <th>Country</th>\n",
       "    </tr>\n",
       "  </thead>\n",
       "  <tbody>\n",
       "    <tr>\n",
       "      <th>0</th>\n",
       "      <td>536365</td>\n",
       "      <td>85123A</td>\n",
       "      <td>WHITE HANGING HEART T-LIGHT HOLDER</td>\n",
       "      <td>6</td>\n",
       "      <td>12/1/2010 8:26</td>\n",
       "      <td>2.55</td>\n",
       "      <td>17850</td>\n",
       "      <td>United Kingdom</td>\n",
       "    </tr>\n",
       "    <tr>\n",
       "      <th>1</th>\n",
       "      <td>536365</td>\n",
       "      <td>71053</td>\n",
       "      <td>WHITE METAL LANTERN</td>\n",
       "      <td>6</td>\n",
       "      <td>12/1/2010 8:26</td>\n",
       "      <td>3.39</td>\n",
       "      <td>17850</td>\n",
       "      <td>United Kingdom</td>\n",
       "    </tr>\n",
       "    <tr>\n",
       "      <th>2</th>\n",
       "      <td>536365</td>\n",
       "      <td>84406B</td>\n",
       "      <td>CREAM CUPID HEARTS COAT HANGER</td>\n",
       "      <td>8</td>\n",
       "      <td>12/1/2010 8:26</td>\n",
       "      <td>2.75</td>\n",
       "      <td>17850</td>\n",
       "      <td>United Kingdom</td>\n",
       "    </tr>\n",
       "    <tr>\n",
       "      <th>3</th>\n",
       "      <td>536365</td>\n",
       "      <td>84029G</td>\n",
       "      <td>KNITTED UNION FLAG HOT WATER BOTTLE</td>\n",
       "      <td>6</td>\n",
       "      <td>12/1/2010 8:26</td>\n",
       "      <td>3.39</td>\n",
       "      <td>17850</td>\n",
       "      <td>United Kingdom</td>\n",
       "    </tr>\n",
       "    <tr>\n",
       "      <th>4</th>\n",
       "      <td>536365</td>\n",
       "      <td>84029E</td>\n",
       "      <td>RED WOOLLY HOTTIE WHITE HEART.</td>\n",
       "      <td>6</td>\n",
       "      <td>12/1/2010 8:26</td>\n",
       "      <td>3.39</td>\n",
       "      <td>17850</td>\n",
       "      <td>United Kingdom</td>\n",
       "    </tr>\n",
       "  </tbody>\n",
       "</table>\n",
       "</div>"
      ],
      "text/plain": [
       "  InvoiceNo StockCode                          Description  Quantity  \\\n",
       "0    536365    85123A   WHITE HANGING HEART T-LIGHT HOLDER         6   \n",
       "1    536365     71053                  WHITE METAL LANTERN         6   \n",
       "2    536365    84406B       CREAM CUPID HEARTS COAT HANGER         8   \n",
       "3    536365    84029G  KNITTED UNION FLAG HOT WATER BOTTLE         6   \n",
       "4    536365    84029E       RED WOOLLY HOTTIE WHITE HEART.         6   \n",
       "\n",
       "      InvoiceDate  UnitPrice CustomerID         Country  \n",
       "0  12/1/2010 8:26       2.55      17850  United Kingdom  \n",
       "1  12/1/2010 8:26       3.39      17850  United Kingdom  \n",
       "2  12/1/2010 8:26       2.75      17850  United Kingdom  \n",
       "3  12/1/2010 8:26       3.39      17850  United Kingdom  \n",
       "4  12/1/2010 8:26       3.39      17850  United Kingdom  "
      ]
     },
     "execution_count": 2,
     "metadata": {},
     "output_type": "execute_result"
    }
   ],
   "source": [
    "import pandas as pd\n",
    "Customer_df=pd.read_csv('/kaggle/input/onlineretail/OnlineRetail.csv',dtype={'CustomerID': str,'InvoiceID': str})\n",
    "Customer_df.head()"
   ]
  },
  {
   "cell_type": "code",
   "execution_count": 3,
   "id": "ee295860",
   "metadata": {
    "execution": {
     "iopub.execute_input": "2021-09-11T17:20:13.108544Z",
     "iopub.status.busy": "2021-09-11T17:20:13.107888Z",
     "iopub.status.idle": "2021-09-11T17:20:13.175799Z",
     "shell.execute_reply": "2021-09-11T17:20:13.176297Z",
     "shell.execute_reply.started": "2021-09-11T16:17:24.527007Z"
    },
    "papermill": {
     "duration": 0.086352,
     "end_time": "2021-09-11T17:20:13.176482",
     "exception": false,
     "start_time": "2021-09-11T17:20:13.090130",
     "status": "completed"
    },
    "tags": []
   },
   "outputs": [
    {
     "data": {
      "text/html": [
       "<div>\n",
       "<style scoped>\n",
       "    .dataframe tbody tr th:only-of-type {\n",
       "        vertical-align: middle;\n",
       "    }\n",
       "\n",
       "    .dataframe tbody tr th {\n",
       "        vertical-align: top;\n",
       "    }\n",
       "\n",
       "    .dataframe thead th {\n",
       "        text-align: right;\n",
       "    }\n",
       "</style>\n",
       "<table border=\"1\" class=\"dataframe\">\n",
       "  <thead>\n",
       "    <tr style=\"text-align: right;\">\n",
       "      <th></th>\n",
       "      <th>Quantity</th>\n",
       "      <th>UnitPrice</th>\n",
       "    </tr>\n",
       "  </thead>\n",
       "  <tbody>\n",
       "    <tr>\n",
       "      <th>count</th>\n",
       "      <td>541909.000000</td>\n",
       "      <td>541909.000000</td>\n",
       "    </tr>\n",
       "    <tr>\n",
       "      <th>mean</th>\n",
       "      <td>9.552250</td>\n",
       "      <td>4.611114</td>\n",
       "    </tr>\n",
       "    <tr>\n",
       "      <th>std</th>\n",
       "      <td>218.081158</td>\n",
       "      <td>96.759853</td>\n",
       "    </tr>\n",
       "    <tr>\n",
       "      <th>min</th>\n",
       "      <td>-80995.000000</td>\n",
       "      <td>-11062.060000</td>\n",
       "    </tr>\n",
       "    <tr>\n",
       "      <th>25%</th>\n",
       "      <td>1.000000</td>\n",
       "      <td>1.250000</td>\n",
       "    </tr>\n",
       "    <tr>\n",
       "      <th>50%</th>\n",
       "      <td>3.000000</td>\n",
       "      <td>2.080000</td>\n",
       "    </tr>\n",
       "    <tr>\n",
       "      <th>75%</th>\n",
       "      <td>10.000000</td>\n",
       "      <td>4.130000</td>\n",
       "    </tr>\n",
       "    <tr>\n",
       "      <th>max</th>\n",
       "      <td>80995.000000</td>\n",
       "      <td>38970.000000</td>\n",
       "    </tr>\n",
       "  </tbody>\n",
       "</table>\n",
       "</div>"
      ],
      "text/plain": [
       "            Quantity      UnitPrice\n",
       "count  541909.000000  541909.000000\n",
       "mean        9.552250       4.611114\n",
       "std       218.081158      96.759853\n",
       "min    -80995.000000  -11062.060000\n",
       "25%         1.000000       1.250000\n",
       "50%         3.000000       2.080000\n",
       "75%        10.000000       4.130000\n",
       "max     80995.000000   38970.000000"
      ]
     },
     "execution_count": 3,
     "metadata": {},
     "output_type": "execute_result"
    }
   ],
   "source": [
    "Customer_df.describe()"
   ]
  },
  {
   "cell_type": "code",
   "execution_count": 4,
   "id": "f7d19752",
   "metadata": {
    "execution": {
     "iopub.execute_input": "2021-09-11T17:20:13.211413Z",
     "iopub.status.busy": "2021-09-11T17:20:13.210716Z",
     "iopub.status.idle": "2021-09-11T17:20:13.246128Z",
     "shell.execute_reply": "2021-09-11T17:20:13.246624Z",
     "shell.execute_reply.started": "2021-09-11T16:17:29.733142Z"
    },
    "papermill": {
     "duration": 0.054566,
     "end_time": "2021-09-11T17:20:13.246823",
     "exception": false,
     "start_time": "2021-09-11T17:20:13.192257",
     "status": "completed"
    },
    "tags": []
   },
   "outputs": [],
   "source": [
    "#removing negative values and replacing them with zero\n",
    "Customer_df.loc[Customer_df['Quantity']<0,'Quantity']=0\n",
    "Customer_df.loc[Customer_df['UnitPrice']<0,'UnitPrice']=0"
   ]
  },
  {
   "cell_type": "code",
   "execution_count": 5,
   "id": "4d7b4b30",
   "metadata": {
    "execution": {
     "iopub.execute_input": "2021-09-11T17:20:13.281674Z",
     "iopub.status.busy": "2021-09-11T17:20:13.280979Z",
     "iopub.status.idle": "2021-09-11T17:20:13.629041Z",
     "shell.execute_reply": "2021-09-11T17:20:13.629533Z",
     "shell.execute_reply.started": "2021-09-11T16:17:32.177142Z"
    },
    "papermill": {
     "duration": 0.36694,
     "end_time": "2021-09-11T17:20:13.629718",
     "exception": false,
     "start_time": "2021-09-11T17:20:13.262778",
     "status": "completed"
    },
    "tags": []
   },
   "outputs": [
    {
     "data": {
      "text/html": [
       "<div>\n",
       "<style scoped>\n",
       "    .dataframe tbody tr th:only-of-type {\n",
       "        vertical-align: middle;\n",
       "    }\n",
       "\n",
       "    .dataframe tbody tr th {\n",
       "        vertical-align: top;\n",
       "    }\n",
       "\n",
       "    .dataframe thead th {\n",
       "        text-align: right;\n",
       "    }\n",
       "</style>\n",
       "<table border=\"1\" class=\"dataframe\">\n",
       "  <thead>\n",
       "    <tr style=\"text-align: right;\">\n",
       "      <th></th>\n",
       "      <th>InvoiceNo</th>\n",
       "      <th>StockCode</th>\n",
       "      <th>Description</th>\n",
       "      <th>Quantity</th>\n",
       "      <th>InvoiceDate</th>\n",
       "      <th>UnitPrice</th>\n",
       "      <th>CustomerID</th>\n",
       "      <th>Country</th>\n",
       "    </tr>\n",
       "  </thead>\n",
       "  <tbody>\n",
       "    <tr>\n",
       "      <th>622</th>\n",
       "      <td>536414</td>\n",
       "      <td>22139</td>\n",
       "      <td>NaN</td>\n",
       "      <td>56</td>\n",
       "      <td>12/1/2010 11:52</td>\n",
       "      <td>0.00</td>\n",
       "      <td>NaN</td>\n",
       "      <td>United Kingdom</td>\n",
       "    </tr>\n",
       "    <tr>\n",
       "      <th>1443</th>\n",
       "      <td>536544</td>\n",
       "      <td>21773</td>\n",
       "      <td>DECORATIVE ROSE BATHROOM BOTTLE</td>\n",
       "      <td>1</td>\n",
       "      <td>12/1/2010 14:32</td>\n",
       "      <td>2.51</td>\n",
       "      <td>NaN</td>\n",
       "      <td>United Kingdom</td>\n",
       "    </tr>\n",
       "    <tr>\n",
       "      <th>1444</th>\n",
       "      <td>536544</td>\n",
       "      <td>21774</td>\n",
       "      <td>DECORATIVE CATS BATHROOM BOTTLE</td>\n",
       "      <td>2</td>\n",
       "      <td>12/1/2010 14:32</td>\n",
       "      <td>2.51</td>\n",
       "      <td>NaN</td>\n",
       "      <td>United Kingdom</td>\n",
       "    </tr>\n",
       "    <tr>\n",
       "      <th>1445</th>\n",
       "      <td>536544</td>\n",
       "      <td>21786</td>\n",
       "      <td>POLKADOT RAIN HAT</td>\n",
       "      <td>4</td>\n",
       "      <td>12/1/2010 14:32</td>\n",
       "      <td>0.85</td>\n",
       "      <td>NaN</td>\n",
       "      <td>United Kingdom</td>\n",
       "    </tr>\n",
       "    <tr>\n",
       "      <th>1446</th>\n",
       "      <td>536544</td>\n",
       "      <td>21787</td>\n",
       "      <td>RAIN PONCHO RETROSPOT</td>\n",
       "      <td>2</td>\n",
       "      <td>12/1/2010 14:32</td>\n",
       "      <td>1.66</td>\n",
       "      <td>NaN</td>\n",
       "      <td>United Kingdom</td>\n",
       "    </tr>\n",
       "    <tr>\n",
       "      <th>...</th>\n",
       "      <td>...</td>\n",
       "      <td>...</td>\n",
       "      <td>...</td>\n",
       "      <td>...</td>\n",
       "      <td>...</td>\n",
       "      <td>...</td>\n",
       "      <td>...</td>\n",
       "      <td>...</td>\n",
       "    </tr>\n",
       "    <tr>\n",
       "      <th>541536</th>\n",
       "      <td>581498</td>\n",
       "      <td>85099B</td>\n",
       "      <td>JUMBO BAG RED RETROSPOT</td>\n",
       "      <td>5</td>\n",
       "      <td>12/9/2011 10:26</td>\n",
       "      <td>4.13</td>\n",
       "      <td>NaN</td>\n",
       "      <td>United Kingdom</td>\n",
       "    </tr>\n",
       "    <tr>\n",
       "      <th>541537</th>\n",
       "      <td>581498</td>\n",
       "      <td>85099C</td>\n",
       "      <td>JUMBO  BAG BAROQUE BLACK WHITE</td>\n",
       "      <td>4</td>\n",
       "      <td>12/9/2011 10:26</td>\n",
       "      <td>4.13</td>\n",
       "      <td>NaN</td>\n",
       "      <td>United Kingdom</td>\n",
       "    </tr>\n",
       "    <tr>\n",
       "      <th>541538</th>\n",
       "      <td>581498</td>\n",
       "      <td>85150</td>\n",
       "      <td>LADIES &amp; GENTLEMEN METAL SIGN</td>\n",
       "      <td>1</td>\n",
       "      <td>12/9/2011 10:26</td>\n",
       "      <td>4.96</td>\n",
       "      <td>NaN</td>\n",
       "      <td>United Kingdom</td>\n",
       "    </tr>\n",
       "    <tr>\n",
       "      <th>541539</th>\n",
       "      <td>581498</td>\n",
       "      <td>85174</td>\n",
       "      <td>S/4 CACTI CANDLES</td>\n",
       "      <td>1</td>\n",
       "      <td>12/9/2011 10:26</td>\n",
       "      <td>10.79</td>\n",
       "      <td>NaN</td>\n",
       "      <td>United Kingdom</td>\n",
       "    </tr>\n",
       "    <tr>\n",
       "      <th>541540</th>\n",
       "      <td>581498</td>\n",
       "      <td>DOT</td>\n",
       "      <td>DOTCOM POSTAGE</td>\n",
       "      <td>1</td>\n",
       "      <td>12/9/2011 10:26</td>\n",
       "      <td>1714.17</td>\n",
       "      <td>NaN</td>\n",
       "      <td>United Kingdom</td>\n",
       "    </tr>\n",
       "  </tbody>\n",
       "</table>\n",
       "<p>135080 rows × 8 columns</p>\n",
       "</div>"
      ],
      "text/plain": [
       "       InvoiceNo StockCode                      Description  Quantity  \\\n",
       "622       536414     22139                              NaN        56   \n",
       "1443      536544     21773  DECORATIVE ROSE BATHROOM BOTTLE         1   \n",
       "1444      536544     21774  DECORATIVE CATS BATHROOM BOTTLE         2   \n",
       "1445      536544     21786               POLKADOT RAIN HAT          4   \n",
       "1446      536544     21787            RAIN PONCHO RETROSPOT         2   \n",
       "...          ...       ...                              ...       ...   \n",
       "541536    581498    85099B          JUMBO BAG RED RETROSPOT         5   \n",
       "541537    581498    85099C   JUMBO  BAG BAROQUE BLACK WHITE         4   \n",
       "541538    581498     85150    LADIES & GENTLEMEN METAL SIGN         1   \n",
       "541539    581498     85174                S/4 CACTI CANDLES         1   \n",
       "541540    581498       DOT                   DOTCOM POSTAGE         1   \n",
       "\n",
       "            InvoiceDate  UnitPrice CustomerID         Country  \n",
       "622     12/1/2010 11:52       0.00        NaN  United Kingdom  \n",
       "1443    12/1/2010 14:32       2.51        NaN  United Kingdom  \n",
       "1444    12/1/2010 14:32       2.51        NaN  United Kingdom  \n",
       "1445    12/1/2010 14:32       0.85        NaN  United Kingdom  \n",
       "1446    12/1/2010 14:32       1.66        NaN  United Kingdom  \n",
       "...                 ...        ...        ...             ...  \n",
       "541536  12/9/2011 10:26       4.13        NaN  United Kingdom  \n",
       "541537  12/9/2011 10:26       4.13        NaN  United Kingdom  \n",
       "541538  12/9/2011 10:26       4.96        NaN  United Kingdom  \n",
       "541539  12/9/2011 10:26      10.79        NaN  United Kingdom  \n",
       "541540  12/9/2011 10:26    1714.17        NaN  United Kingdom  \n",
       "\n",
       "[135080 rows x 8 columns]"
      ]
     },
     "execution_count": 5,
     "metadata": {},
     "output_type": "execute_result"
    }
   ],
   "source": [
    "Customer_df[Customer_df.isnull().any(axis=1)]"
   ]
  },
  {
   "cell_type": "code",
   "execution_count": 6,
   "id": "ecd15604",
   "metadata": {
    "execution": {
     "iopub.execute_input": "2021-09-11T17:20:13.665915Z",
     "iopub.status.busy": "2021-09-11T17:20:13.665277Z",
     "iopub.status.idle": "2021-09-11T17:20:14.032065Z",
     "shell.execute_reply": "2021-09-11T17:20:14.032581Z",
     "shell.execute_reply.started": "2021-09-11T16:17:41.807960Z"
    },
    "papermill": {
     "duration": 0.386479,
     "end_time": "2021-09-11T17:20:14.032772",
     "exception": false,
     "start_time": "2021-09-11T17:20:13.646293",
     "status": "completed"
    },
    "tags": []
   },
   "outputs": [],
   "source": [
    "# drop rows with null values \n",
    "Customer_df=Customer_df.dropna(how='any',axis=0)\n",
    "#Customer_df[Customer_df.isna().any(axis=1)]"
   ]
  },
  {
   "cell_type": "code",
   "execution_count": 7,
   "id": "f96bf615",
   "metadata": {
    "execution": {
     "iopub.execute_input": "2021-09-11T17:20:14.069490Z",
     "iopub.status.busy": "2021-09-11T17:20:14.068795Z",
     "iopub.status.idle": "2021-09-11T17:20:14.323239Z",
     "shell.execute_reply": "2021-09-11T17:20:14.323750Z",
     "shell.execute_reply.started": "2021-09-11T16:17:44.098135Z"
    },
    "papermill": {
     "duration": 0.274275,
     "end_time": "2021-09-11T17:20:14.323927",
     "exception": false,
     "start_time": "2021-09-11T17:20:14.049652",
     "status": "completed"
    },
    "tags": []
   },
   "outputs": [
    {
     "name": "stdout",
     "output_type": "stream",
     "text": [
      "<class 'pandas.core.frame.DataFrame'>\n",
      "Int64Index: 406829 entries, 0 to 541908\n",
      "Data columns (total 8 columns):\n",
      " #   Column       Non-Null Count   Dtype  \n",
      "---  ------       --------------   -----  \n",
      " 0   InvoiceNo    406829 non-null  object \n",
      " 1   StockCode    406829 non-null  object \n",
      " 2   Description  406829 non-null  object \n",
      " 3   Quantity     406829 non-null  int64  \n",
      " 4   InvoiceDate  406829 non-null  object \n",
      " 5   UnitPrice    406829 non-null  float64\n",
      " 6   CustomerID   406829 non-null  object \n",
      " 7   Country      406829 non-null  object \n",
      "dtypes: float64(1), int64(1), object(6)\n",
      "memory usage: 27.9+ MB\n"
     ]
    }
   ],
   "source": [
    "Customer_df.info()\n"
   ]
  },
  {
   "cell_type": "code",
   "execution_count": 8,
   "id": "00e7ba01",
   "metadata": {
    "execution": {
     "iopub.execute_input": "2021-09-11T17:20:14.388069Z",
     "iopub.status.busy": "2021-09-11T17:20:14.387335Z",
     "iopub.status.idle": "2021-09-11T17:20:16.523207Z",
     "shell.execute_reply": "2021-09-11T17:20:16.522543Z",
     "shell.execute_reply.started": "2021-09-11T16:21:14.991239Z"
    },
    "papermill": {
     "duration": 2.182598,
     "end_time": "2021-09-11T17:20:16.523359",
     "exception": false,
     "start_time": "2021-09-11T17:20:14.340761",
     "status": "completed"
    },
    "tags": []
   },
   "outputs": [],
   "source": [
    "\n",
    "Customer_df.InvoiceDate = pd.to_datetime(Customer_df.InvoiceDate)\n",
    "#calculate the amount spent in each transaction\n",
    "Customer_df['amount'] = Customer_df.Quantity*Customer_df.UnitPrice\n",
    "# reference date is one day after transaction day so that the minimum recency is 1\n",
    "refrence_date = Customer_df.InvoiceDate.max() + datetime.timedelta(days = 1)\n"
   ]
  },
  {
   "cell_type": "code",
   "execution_count": 9,
   "id": "345acc1e",
   "metadata": {
    "execution": {
     "iopub.execute_input": "2021-09-11T17:20:16.562681Z",
     "iopub.status.busy": "2021-09-11T17:20:16.561961Z",
     "iopub.status.idle": "2021-09-11T17:20:16.655192Z",
     "shell.execute_reply": "2021-09-11T17:20:16.655708Z",
     "shell.execute_reply.started": "2021-09-11T16:22:20.208642Z"
    },
    "papermill": {
     "duration": 0.115494,
     "end_time": "2021-09-11T17:20:16.655877",
     "exception": false,
     "start_time": "2021-09-11T17:20:16.540383",
     "status": "completed"
    },
    "tags": []
   },
   "outputs": [
    {
     "data": {
      "text/html": [
       "<div>\n",
       "<style scoped>\n",
       "    .dataframe tbody tr th:only-of-type {\n",
       "        vertical-align: middle;\n",
       "    }\n",
       "\n",
       "    .dataframe tbody tr th {\n",
       "        vertical-align: top;\n",
       "    }\n",
       "\n",
       "    .dataframe thead th {\n",
       "        text-align: right;\n",
       "    }\n",
       "</style>\n",
       "<table border=\"1\" class=\"dataframe\">\n",
       "  <thead>\n",
       "    <tr style=\"text-align: right;\">\n",
       "      <th></th>\n",
       "      <th>count</th>\n",
       "      <th>mean</th>\n",
       "      <th>std</th>\n",
       "      <th>min</th>\n",
       "      <th>25%</th>\n",
       "      <th>50%</th>\n",
       "      <th>75%</th>\n",
       "      <th>max</th>\n",
       "    </tr>\n",
       "  </thead>\n",
       "  <tbody>\n",
       "    <tr>\n",
       "      <th>recency</th>\n",
       "      <td>4372.0</td>\n",
       "      <td>92.047118</td>\n",
       "      <td>100.765435</td>\n",
       "      <td>1.0</td>\n",
       "      <td>17.0</td>\n",
       "      <td>50.0</td>\n",
       "      <td>143.0</td>\n",
       "      <td>374.0</td>\n",
       "    </tr>\n",
       "  </tbody>\n",
       "</table>\n",
       "</div>"
      ],
      "text/plain": [
       "          count       mean         std  min   25%   50%    75%    max\n",
       "recency  4372.0  92.047118  100.765435  1.0  17.0  50.0  143.0  374.0"
      ]
     },
     "execution_count": 9,
     "metadata": {},
     "output_type": "execute_result"
    }
   ],
   "source": [
    "# recency is the number of days since the reference date\n",
    "Customer_df['recency'] = (refrence_date - Customer_df.InvoiceDate).astype('timedelta64[D]')\n",
    "# recency per customer, finding the most recent purchase by the customer\n",
    "Customer_Recency_df = Customer_df[['CustomerID', 'recency']].groupby(\"CustomerID\").min().reset_index()\n",
    "Customer_Recency_df.describe().transpose()"
   ]
  },
  {
   "cell_type": "code",
   "execution_count": 10,
   "id": "2b417a3a",
   "metadata": {
    "execution": {
     "iopub.execute_input": "2021-09-11T17:20:16.696651Z",
     "iopub.status.busy": "2021-09-11T17:20:16.695886Z",
     "iopub.status.idle": "2021-09-11T17:20:16.839044Z",
     "shell.execute_reply": "2021-09-11T17:20:16.838474Z",
     "shell.execute_reply.started": "2021-09-11T16:23:06.062594Z"
    },
    "papermill": {
     "duration": 0.166293,
     "end_time": "2021-09-11T17:20:16.839207",
     "exception": false,
     "start_time": "2021-09-11T17:20:16.672914",
     "status": "completed"
    },
    "tags": []
   },
   "outputs": [],
   "source": [
    "#number of purchases per customer. group by invoice number because there might be multiple rows per customer per invoice.\n",
    "Customer_freq = (Customer_df[['CustomerID', 'InvoiceNo']].groupby([\"CustomerID\", 'InvoiceNo']).count().reset_index()).\\\n",
    "                groupby([\"CustomerID\"]).count().reset_index()\n",
    "Customer_freq.rename(columns={'InvoiceNo':'frequency'},inplace=True)\n"
   ]
  },
  {
   "cell_type": "code",
   "execution_count": 11,
   "id": "b807fd3e",
   "metadata": {
    "execution": {
     "iopub.execute_input": "2021-09-11T17:20:16.879952Z",
     "iopub.status.busy": "2021-09-11T17:20:16.879284Z",
     "iopub.status.idle": "2021-09-11T17:20:16.968101Z",
     "shell.execute_reply": "2021-09-11T17:20:16.968624Z",
     "shell.execute_reply.started": "2021-09-11T16:53:24.050190Z"
    },
    "papermill": {
     "duration": 0.112433,
     "end_time": "2021-09-11T17:20:16.968797",
     "exception": false,
     "start_time": "2021-09-11T17:20:16.856364",
     "status": "completed"
    },
    "tags": []
   },
   "outputs": [
    {
     "data": {
      "text/html": [
       "<div>\n",
       "<style scoped>\n",
       "    .dataframe tbody tr th:only-of-type {\n",
       "        vertical-align: middle;\n",
       "    }\n",
       "\n",
       "    .dataframe tbody tr th {\n",
       "        vertical-align: top;\n",
       "    }\n",
       "\n",
       "    .dataframe thead th {\n",
       "        text-align: right;\n",
       "    }\n",
       "</style>\n",
       "<table border=\"1\" class=\"dataframe\">\n",
       "  <thead>\n",
       "    <tr style=\"text-align: right;\">\n",
       "      <th></th>\n",
       "      <th>recency</th>\n",
       "      <th>frequency</th>\n",
       "      <th>amount</th>\n",
       "    </tr>\n",
       "  </thead>\n",
       "  <tbody>\n",
       "    <tr>\n",
       "      <th>count</th>\n",
       "      <td>4372.000000</td>\n",
       "      <td>4372.000000</td>\n",
       "      <td>4372.000000</td>\n",
       "    </tr>\n",
       "    <tr>\n",
       "      <th>mean</th>\n",
       "      <td>92.047118</td>\n",
       "      <td>5.075480</td>\n",
       "      <td>2038.290921</td>\n",
       "    </tr>\n",
       "    <tr>\n",
       "      <th>std</th>\n",
       "      <td>100.765435</td>\n",
       "      <td>9.338754</td>\n",
       "      <td>8956.019171</td>\n",
       "    </tr>\n",
       "    <tr>\n",
       "      <th>min</th>\n",
       "      <td>1.000000</td>\n",
       "      <td>1.000000</td>\n",
       "      <td>0.000100</td>\n",
       "    </tr>\n",
       "    <tr>\n",
       "      <th>25%</th>\n",
       "      <td>17.000000</td>\n",
       "      <td>1.000000</td>\n",
       "      <td>303.602500</td>\n",
       "    </tr>\n",
       "    <tr>\n",
       "      <th>50%</th>\n",
       "      <td>50.000000</td>\n",
       "      <td>3.000000</td>\n",
       "      <td>665.315000</td>\n",
       "    </tr>\n",
       "    <tr>\n",
       "      <th>75%</th>\n",
       "      <td>143.000000</td>\n",
       "      <td>5.000000</td>\n",
       "      <td>1652.790000</td>\n",
       "    </tr>\n",
       "    <tr>\n",
       "      <th>max</th>\n",
       "      <td>374.000000</td>\n",
       "      <td>248.000000</td>\n",
       "      <td>280206.020000</td>\n",
       "    </tr>\n",
       "  </tbody>\n",
       "</table>\n",
       "</div>"
      ],
      "text/plain": [
       "           recency    frequency         amount\n",
       "count  4372.000000  4372.000000    4372.000000\n",
       "mean     92.047118     5.075480    2038.290921\n",
       "std     100.765435     9.338754    8956.019171\n",
       "min       1.000000     1.000000       0.000100\n",
       "25%      17.000000     1.000000     303.602500\n",
       "50%      50.000000     3.000000     665.315000\n",
       "75%     143.000000     5.000000    1652.790000\n",
       "max     374.000000   248.000000  280206.020000"
      ]
     },
     "execution_count": 11,
     "metadata": {},
     "output_type": "execute_result"
    }
   ],
   "source": [
    "# amount: monetary value the amount spend by each customer\n",
    "Customer_monetary_val = Customer_df[['CustomerID', 'amount']].groupby(\"CustomerID\").sum().reset_index()\n",
    "Customer_RFM =Customer_Recency_df.merge(Customer_freq).merge(Customer_monetary_val)\n",
    "Customer_RFM.loc[Customer_RFM['amount']==0,'amount']=0.0001\n",
    "Customer_RFM.describe()"
   ]
  },
  {
   "cell_type": "code",
   "execution_count": 12,
   "id": "e447bb90",
   "metadata": {
    "execution": {
     "iopub.execute_input": "2021-09-11T17:20:17.020923Z",
     "iopub.status.busy": "2021-09-11T17:20:17.020248Z",
     "iopub.status.idle": "2021-09-11T17:20:17.028220Z",
     "shell.execute_reply": "2021-09-11T17:20:17.027572Z",
     "shell.execute_reply.started": "2021-09-11T16:54:35.080986Z"
    },
    "papermill": {
     "duration": 0.041843,
     "end_time": "2021-09-11T17:20:17.028381",
     "exception": false,
     "start_time": "2021-09-11T17:20:16.986538",
     "status": "completed"
    },
    "tags": []
   },
   "outputs": [],
   "source": [
    "# data is skewed so log transform and standard scaler helps to normalize it. \n",
    "Customer_RFM['recency_log'] = Customer_RFM['recency'].apply(math.log)\n",
    "Customer_RFM['frequency_log'] =Customer_RFM['frequency'].apply(math.log)\n",
    "Customer_RFM['amount_log'] =Customer_RFM['amount'].apply(math.log)\n",
    "scaler = StandardScaler()\n",
    "scaled_features = scaler.fit_transform(Customer_RFM[['amount_log', 'recency_log','frequency_log']])\n"
   ]
  },
  {
   "cell_type": "code",
   "execution_count": 13,
   "id": "e50c624b",
   "metadata": {
    "execution": {
     "iopub.execute_input": "2021-09-11T17:20:17.069759Z",
     "iopub.status.busy": "2021-09-11T17:20:17.069032Z",
     "iopub.status.idle": "2021-09-11T17:20:17.198134Z",
     "shell.execute_reply": "2021-09-11T17:20:17.198718Z",
     "shell.execute_reply.started": "2021-09-11T16:58:04.359535Z"
    },
    "papermill": {
     "duration": 0.152731,
     "end_time": "2021-09-11T17:20:17.198894",
     "exception": false,
     "start_time": "2021-09-11T17:20:17.046163",
     "status": "completed"
    },
    "tags": []
   },
   "outputs": [],
   "source": [
    "\n",
    " \n",
    "# used 4 clusters here but the number of clusters should be determined based on the Silhouette analysis\n",
    "kmeans = KMeans(n_clusters=4, init=\"random\", n_init=10, max_iter=300,random_state=42)\n",
    "kmeans.fit(scaled_features)\n",
    "\n",
    "# join the clusters to the main data\n",
    "Customer_RFM['clusters_4'] = kmeans.labels_\n",
    "cluster_centers=kmeans.cluster_centers_"
   ]
  },
  {
   "cell_type": "code",
   "execution_count": 14,
   "id": "489df424",
   "metadata": {
    "execution": {
     "iopub.execute_input": "2021-09-11T17:20:17.260470Z",
     "iopub.status.busy": "2021-09-11T17:20:17.259437Z",
     "iopub.status.idle": "2021-09-11T17:20:17.266545Z",
     "shell.execute_reply": "2021-09-11T17:20:17.267118Z",
     "shell.execute_reply.started": "2021-09-11T16:58:41.298866Z"
    },
    "papermill": {
     "duration": 0.04715,
     "end_time": "2021-09-11T17:20:17.267318",
     "exception": false,
     "start_time": "2021-09-11T17:20:17.220168",
     "status": "completed"
    },
    "tags": []
   },
   "outputs": [
    {
     "data": {
      "text/html": [
       "<div>\n",
       "<style scoped>\n",
       "    .dataframe tbody tr th:only-of-type {\n",
       "        vertical-align: middle;\n",
       "    }\n",
       "\n",
       "    .dataframe tbody tr th {\n",
       "        vertical-align: top;\n",
       "    }\n",
       "\n",
       "    .dataframe thead th {\n",
       "        text-align: right;\n",
       "    }\n",
       "</style>\n",
       "<table border=\"1\" class=\"dataframe\">\n",
       "  <thead>\n",
       "    <tr style=\"text-align: right;\">\n",
       "      <th></th>\n",
       "      <th>CustomerID</th>\n",
       "      <th>recency</th>\n",
       "      <th>frequency</th>\n",
       "      <th>amount</th>\n",
       "      <th>recency_log</th>\n",
       "      <th>frequency_log</th>\n",
       "      <th>amount_log</th>\n",
       "      <th>clusters_4</th>\n",
       "    </tr>\n",
       "  </thead>\n",
       "  <tbody>\n",
       "    <tr>\n",
       "      <th>0</th>\n",
       "      <td>12346</td>\n",
       "      <td>326.0</td>\n",
       "      <td>2</td>\n",
       "      <td>77183.60</td>\n",
       "      <td>5.786897</td>\n",
       "      <td>0.693147</td>\n",
       "      <td>11.253942</td>\n",
       "      <td>3</td>\n",
       "    </tr>\n",
       "    <tr>\n",
       "      <th>1</th>\n",
       "      <td>12347</td>\n",
       "      <td>2.0</td>\n",
       "      <td>7</td>\n",
       "      <td>4310.00</td>\n",
       "      <td>0.693147</td>\n",
       "      <td>1.945910</td>\n",
       "      <td>8.368693</td>\n",
       "      <td>1</td>\n",
       "    </tr>\n",
       "    <tr>\n",
       "      <th>2</th>\n",
       "      <td>12348</td>\n",
       "      <td>75.0</td>\n",
       "      <td>4</td>\n",
       "      <td>1797.24</td>\n",
       "      <td>4.317488</td>\n",
       "      <td>1.386294</td>\n",
       "      <td>7.494007</td>\n",
       "      <td>3</td>\n",
       "    </tr>\n",
       "    <tr>\n",
       "      <th>3</th>\n",
       "      <td>12349</td>\n",
       "      <td>19.0</td>\n",
       "      <td>1</td>\n",
       "      <td>1757.55</td>\n",
       "      <td>2.944439</td>\n",
       "      <td>0.000000</td>\n",
       "      <td>7.471676</td>\n",
       "      <td>2</td>\n",
       "    </tr>\n",
       "    <tr>\n",
       "      <th>4</th>\n",
       "      <td>12350</td>\n",
       "      <td>310.0</td>\n",
       "      <td>1</td>\n",
       "      <td>334.40</td>\n",
       "      <td>5.736572</td>\n",
       "      <td>0.000000</td>\n",
       "      <td>5.812338</td>\n",
       "      <td>0</td>\n",
       "    </tr>\n",
       "  </tbody>\n",
       "</table>\n",
       "</div>"
      ],
      "text/plain": [
       "  CustomerID  recency  frequency    amount  recency_log  frequency_log  \\\n",
       "0      12346    326.0          2  77183.60     5.786897       0.693147   \n",
       "1      12347      2.0          7   4310.00     0.693147       1.945910   \n",
       "2      12348     75.0          4   1797.24     4.317488       1.386294   \n",
       "3      12349     19.0          1   1757.55     2.944439       0.000000   \n",
       "4      12350    310.0          1    334.40     5.736572       0.000000   \n",
       "\n",
       "   amount_log  clusters_4  \n",
       "0   11.253942           3  \n",
       "1    8.368693           1  \n",
       "2    7.494007           3  \n",
       "3    7.471676           2  \n",
       "4    5.812338           0  "
      ]
     },
     "metadata": {},
     "output_type": "display_data"
    }
   ],
   "source": [
    "display(Customer_RFM.head())\n",
    "features = ['amount',  'recency',  'frequency']\n",
    "scaler.inverse_transform(kmeans.cluster_centers_)\n",
    "data_inversed = scaler.inverse_transform(cluster_centers)\n",
    "data_transformed=pd.DataFrame(np.exp(data_inversed),columns=features)\n",
    "data_transformed.reset_index(inplace=True)\n",
    "data_transformed.rename(columns={\"index\": \"Cluster\"},inplace=True)"
   ]
  },
  {
   "cell_type": "code",
   "execution_count": 15,
   "id": "f728633d",
   "metadata": {
    "execution": {
     "iopub.execute_input": "2021-09-11T17:20:17.320598Z",
     "iopub.status.busy": "2021-09-11T17:20:17.319849Z",
     "iopub.status.idle": "2021-09-11T17:20:18.293495Z",
     "shell.execute_reply": "2021-09-11T17:20:18.292848Z",
     "shell.execute_reply.started": "2021-09-11T17:08:54.214914Z"
    },
    "papermill": {
     "duration": 1.004027,
     "end_time": "2021-09-11T17:20:18.293671",
     "exception": false,
     "start_time": "2021-09-11T17:20:17.289644",
     "status": "completed"
    },
    "tags": []
   },
   "outputs": [
    {
     "data": {
      "text/plain": [
       "(0.0, 75.0)"
      ]
     },
     "execution_count": 15,
     "metadata": {},
     "output_type": "execute_result"
    },
    {
     "data": {
      "image/png": "[encoded data removed]",
      "text/plain": [
       "<Figure size 1440x504 with 3 Axes>"
      ]
     },
     "metadata": {},
     "output_type": "display_data"
    }
   ],
   "source": [
    "sns.set_style(\"darkgrid\")\n",
    "fig = plt.figure(figsize=(20,7))\n",
    "f1 = fig.add_subplot(131)\n",
    "sns.set(font_scale =2)\n",
    "ax1=sns.boxplot(x=Customer_RFM['clusters_4'],y=Customer_RFM['amount'])\n",
    "ax1.set_title('Monetary value', fontsize = 25)\n",
    "ax1.set_ylabel('Amount ($)', fontsize =25)\n",
    "ax1.set_xlabel ('Cluster', fontsize = 25)\n",
    "ax1.set_ylim(top=20000,bottom=0)\n",
    "\n",
    "f1 = fig.add_subplot(132)\n",
    "sns.set(font_scale = 2)\n",
    "ax2=sns.boxplot(x=Customer_RFM['clusters_4'],y=Customer_RFM[ 'recency'])\n",
    "ax2.set_title('Recency', fontsize =25)\n",
    "ax2.set_ylabel('Recency  (days)', fontsize =25)\n",
    "ax2.set_xlabel ('Cluster', fontsize = 25)\n",
    "ax2.set_ylim(top=500,bottom=0)\n",
    "\n",
    "f1 = fig.add_subplot(133)\n",
    "sns.set(font_scale = 2)\n",
    "ax3=sns.boxplot(x=Customer_RFM['clusters_4'],y=Customer_RFM[ 'frequency'])\n",
    "ax3.set_title('Frequency', fontsize = 25)\n",
    "ax3.set_ylabel('Frequency', fontsize =25)\n",
    "ax3.set_xlabel ('Cluster', fontsize = 25)\n",
    "ax3.set_ylim(top=75,bottom=0)\n"
   ]
  },
  {
   "cell_type": "markdown",
   "id": "55474445",
   "metadata": {
    "papermill": {
     "duration": 0.023606,
     "end_time": "2021-09-11T17:20:18.342704",
     "exception": false,
     "start_time": "2021-09-11T17:20:18.319098",
     "status": "completed"
    },
    "tags": []
   },
   "source": [
    "Cluster 0 is hibernating. Last purchase was long back, low spenders and low number of orders.  Action: Offer other relevant products and special discounts. Recreate brand value.\n",
    "\n",
    "Cluster 1 are promising customers. Bought recently but didn’t spend much. Action: Create brand awareness, offer deals.\n",
    "\n",
    "Cluster 2 are the champions. This group buy often, buy recently and spend the most. Action: Reward them. They can be early adopters of new products, and they can promote your brand. This group would be a good target for cross-sell/upsell.\n",
    "\n",
    "Cluster 3 made big purchases, and often, but not recently! Win them back via newer products, don’t lose them to competition. \n"
   ]
  },
  {
   "cell_type": "code",
   "execution_count": null,
   "id": "599544f8",
   "metadata": {
    "papermill": {
     "duration": 0.020515,
     "end_time": "2021-09-11T17:20:18.384299",
     "exception": false,
     "start_time": "2021-09-11T17:20:18.363784",
     "status": "completed"
    },
    "tags": []
   },
   "outputs": [],
   "source": []
  }
 ],
 "metadata": {
  "kernelspec": {
   "display_name": "Python 3",
   "language": "python",
   "name": "python3"
  },
  "language_info": {
   "codemirror_mode": {
    "name": "ipython",
    "version": 3
   },
   "file_extension": ".py",
   "mimetype": "text/x-python",
   "name": "python",
   "nbconvert_exporter": "python",
   "pygments_lexer": "ipython3",
   "version": "3.8.8"
  },
  "papermill": {
   "default_parameters": {},
   "duration": 17.762119,
   "end_time": "2021-09-11T17:20:19.889676",
   "environment_variables": {},
   "exception": null,
   "input_path": "__notebook__.ipynb",
   "output_path": "__notebook__.ipynb",
   "parameters": {},
   "start_time": "2021-09-11T17:20:02.127557",
   "version": "2.3.3"
  }
 },
 "nbformat": 4,
 "nbformat_minor": 5
}
