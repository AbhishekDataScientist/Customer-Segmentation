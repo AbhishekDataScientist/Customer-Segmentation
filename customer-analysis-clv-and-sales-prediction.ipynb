{
 "cells": [
  {
   "cell_type": "code",
   "execution_count": 1,
   "metadata": {
    "_cell_guid": "b1076dfc-b9ad-4769-8c92-a6c4dae69d19",
    "_uuid": "8f2839f25d086af736a60e9eeb907d3b93b6e0e5",
    "execution": {
     "iopub.execute_input": "2020-11-04T04:07:01.664300Z",
     "iopub.status.busy": "2020-11-04T04:07:01.662458Z",
     "iopub.status.idle": "2020-11-04T04:07:01.671398Z",
     "shell.execute_reply": "2020-11-04T04:07:01.670324Z"
    },
    "papermill": {
     "duration": 0.043467,
     "end_time": "2020-11-04T04:07:01.671586",
     "exception": false,
     "start_time": "2020-11-04T04:07:01.628119",
     "status": "completed"
    },
    "tags": []
   },
   "outputs": [
    {
     "name": "stdout",
     "output_type": "stream",
     "text": [
      "/kaggle/input/onlineretail/OnlineRetail.csv\n"
     ]
    }
   ],
   "source": [
    "# This Python 3 environment comes with many helpful analytics libraries installed\n",
    "# It is defined by the kaggle/python Docker image: https://github.com/kaggle/docker-python\n",
    "# For example, here's several helpful packages to load\n",
    "\n",
    "import numpy as np # linear algebra\n",
    "import pandas as pd # data processing, CSV file I/O (e.g. pd.read_csv)\n",
    "\n",
    "# Input data files are available in the read-only \"../input/\" directory\n",
    "# For example, running this (by clicking run or pressing Shift+Enter) will list all files under the input directory\n",
    "\n",
    "import os\n",
    "for dirname, _, filenames in os.walk('/kaggle/input'):\n",
    "    for filename in filenames:\n",
    "        print(os.path.join(dirname, filename))\n",
    "\n",
    "# You can write up to 20GB to the current directory (/kaggle/working/) that gets preserved as output when you create a version using \"Save & Run All\" \n",
    "# You can also write temporary files to /kaggle/temp/, but they won't be saved outside of the current session"
   ]
  },
  {
   "cell_type": "code",
   "execution_count": 2,
   "metadata": {
    "_cell_guid": "79c7e3d0-c299-4dcb-8224-4455121ee9b0",
    "_uuid": "d629ff2d2480ee46fbb7e2d37f6b5fab8052498a",
    "execution": {
     "iopub.execute_input": "2020-11-04T04:07:01.729843Z",
     "iopub.status.busy": "2020-11-04T04:07:01.728952Z",
     "iopub.status.idle": "2020-11-04T04:07:02.897139Z",
     "shell.execute_reply": "2020-11-04T04:07:02.897807Z"
    },
    "papermill": {
     "duration": 1.20111,
     "end_time": "2020-11-04T04:07:02.897999",
     "exception": false,
     "start_time": "2020-11-04T04:07:01.696889",
     "status": "completed"
    },
    "tags": []
   },
   "outputs": [],
   "source": [
    "#Loading libraries \n",
    "import numpy as np\n",
    "import pandas as pd\n",
    "import matplotlib.pyplot as plt\n",
    "import seaborn as sns"
   ]
  },
  {
   "cell_type": "code",
   "execution_count": 3,
   "metadata": {
    "execution": {
     "iopub.execute_input": "2020-11-04T04:07:02.950569Z",
     "iopub.status.busy": "2020-11-04T04:07:02.949758Z",
     "iopub.status.idle": "2020-11-04T04:07:10.030804Z",
     "shell.execute_reply": "2020-11-04T04:07:10.030042Z"
    },
    "papermill": {
     "duration": 7.110101,
     "end_time": "2020-11-04T04:07:10.030932",
     "exception": false,
     "start_time": "2020-11-04T04:07:02.920831",
     "status": "completed"
    },
    "tags": []
   },
   "outputs": [
    {
     "data": {
      "text/html": [
       "<div>\n",
       "<style scoped>\n",
       "    .dataframe tbody tr th:only-of-type {\n",
       "        vertical-align: middle;\n",
       "    }\n",
       "\n",
       "    .dataframe tbody tr th {\n",
       "        vertical-align: top;\n",
       "    }\n",
       "\n",
       "    .dataframe thead th {\n",
       "        text-align: right;\n",
       "    }\n",
       "</style>\n",
       "<table border=\"1\" class=\"dataframe\">\n",
       "  <thead>\n",
       "    <tr style=\"text-align: right;\">\n",
       "      <th></th>\n",
       "      <th>InvoiceNo</th>\n",
       "      <th>StockCode</th>\n",
       "      <th>Description</th>\n",
       "      <th>Quantity</th>\n",
       "      <th>InvoiceDate</th>\n",
       "      <th>UnitPrice</th>\n",
       "      <th>CustomerID</th>\n",
       "      <th>Country</th>\n",
       "    </tr>\n",
       "  </thead>\n",
       "  <tbody>\n",
       "    <tr>\n",
       "      <th>0</th>\n",
       "      <td>536365</td>\n",
       "      <td>85123A</td>\n",
       "      <td>WHITE HANGING HEART T-LIGHT HOLDER</td>\n",
       "      <td>6</td>\n",
       "      <td>12/1/2010 8:26</td>\n",
       "      <td>2.55</td>\n",
       "      <td>17850.0</td>\n",
       "      <td>United Kingdom</td>\n",
       "    </tr>\n",
       "    <tr>\n",
       "      <th>1</th>\n",
       "      <td>536365</td>\n",
       "      <td>71053</td>\n",
       "      <td>WHITE METAL LANTERN</td>\n",
       "      <td>6</td>\n",
       "      <td>12/1/2010 8:26</td>\n",
       "      <td>3.39</td>\n",
       "      <td>17850.0</td>\n",
       "      <td>United Kingdom</td>\n",
       "    </tr>\n",
       "    <tr>\n",
       "      <th>2</th>\n",
       "      <td>536365</td>\n",
       "      <td>84406B</td>\n",
       "      <td>CREAM CUPID HEARTS COAT HANGER</td>\n",
       "      <td>8</td>\n",
       "      <td>12/1/2010 8:26</td>\n",
       "      <td>2.75</td>\n",
       "      <td>17850.0</td>\n",
       "      <td>United Kingdom</td>\n",
       "    </tr>\n",
       "    <tr>\n",
       "      <th>3</th>\n",
       "      <td>536365</td>\n",
       "      <td>84029G</td>\n",
       "      <td>KNITTED UNION FLAG HOT WATER BOTTLE</td>\n",
       "      <td>6</td>\n",
       "      <td>12/1/2010 8:26</td>\n",
       "      <td>3.39</td>\n",
       "      <td>17850.0</td>\n",
       "      <td>United Kingdom</td>\n",
       "    </tr>\n",
       "    <tr>\n",
       "      <th>4</th>\n",
       "      <td>536365</td>\n",
       "      <td>84029E</td>\n",
       "      <td>RED WOOLLY HOTTIE WHITE HEART.</td>\n",
       "      <td>6</td>\n",
       "      <td>12/1/2010 8:26</td>\n",
       "      <td>3.39</td>\n",
       "      <td>17850.0</td>\n",
       "      <td>United Kingdom</td>\n",
       "    </tr>\n",
       "  </tbody>\n",
       "</table>\n",
       "</div>"
      ],
      "text/plain": [
       "  InvoiceNo StockCode                          Description  Quantity  \\\n",
       "0    536365    85123A   WHITE HANGING HEART T-LIGHT HOLDER         6   \n",
       "1    536365     71053                  WHITE METAL LANTERN         6   \n",
       "2    536365    84406B       CREAM CUPID HEARTS COAT HANGER         8   \n",
       "3    536365    84029G  KNITTED UNION FLAG HOT WATER BOTTLE         6   \n",
       "4    536365    84029E       RED WOOLLY HOTTIE WHITE HEART.         6   \n",
       "\n",
       "      InvoiceDate  UnitPrice  CustomerID         Country  \n",
       "0  12/1/2010 8:26       2.55     17850.0  United Kingdom  \n",
       "1  12/1/2010 8:26       3.39     17850.0  United Kingdom  \n",
       "2  12/1/2010 8:26       2.75     17850.0  United Kingdom  \n",
       "3  12/1/2010 8:26       3.39     17850.0  United Kingdom  \n",
       "4  12/1/2010 8:26       3.39     17850.0  United Kingdom  "
      ]
     },
     "execution_count": 3,
     "metadata": {},
     "output_type": "execute_result"
    }
   ],
   "source": [
    "#Loading the dataset \n",
    "online = pd.read_csv('../input/onlineretail/OnlineRetail.csv',  engine='python')\n",
    "online.head()"
   ]
  },
  {
   "cell_type": "code",
   "execution_count": 4,
   "metadata": {
    "execution": {
     "iopub.execute_input": "2020-11-04T04:07:10.092695Z",
     "iopub.status.busy": "2020-11-04T04:07:10.091601Z",
     "iopub.status.idle": "2020-11-04T04:12:04.485821Z",
     "shell.execute_reply": "2020-11-04T04:12:04.486504Z"
    },
    "papermill": {
     "duration": 294.431739,
     "end_time": "2020-11-04T04:12:04.486697",
     "exception": false,
     "start_time": "2020-11-04T04:07:10.054958",
     "status": "completed"
    },
    "tags": []
   },
   "outputs": [
    {
     "data": {
      "text/html": [
       "<div>\n",
       "<style scoped>\n",
       "    .dataframe tbody tr th:only-of-type {\n",
       "        vertical-align: middle;\n",
       "    }\n",
       "\n",
       "    .dataframe tbody tr th {\n",
       "        vertical-align: top;\n",
       "    }\n",
       "\n",
       "    .dataframe thead th {\n",
       "        text-align: right;\n",
       "    }\n",
       "</style>\n",
       "<table border=\"1\" class=\"dataframe\">\n",
       "  <thead>\n",
       "    <tr style=\"text-align: right;\">\n",
       "      <th></th>\n",
       "      <th>InvoiceNo</th>\n",
       "      <th>StockCode</th>\n",
       "      <th>Description</th>\n",
       "      <th>Quantity</th>\n",
       "      <th>InvoiceDate</th>\n",
       "      <th>UnitPrice</th>\n",
       "      <th>CustomerID</th>\n",
       "      <th>Country</th>\n",
       "      <th>invoice_value</th>\n",
       "      <th>Year</th>\n",
       "      <th>Month</th>\n",
       "      <th>Day</th>\n",
       "      <th>Date</th>\n",
       "    </tr>\n",
       "  </thead>\n",
       "  <tbody>\n",
       "    <tr>\n",
       "      <th>541904</th>\n",
       "      <td>581587</td>\n",
       "      <td>22613</td>\n",
       "      <td>PACK OF 20 SPACEBOY NAPKINS</td>\n",
       "      <td>12</td>\n",
       "      <td>12/9/2011 12:50</td>\n",
       "      <td>0.85</td>\n",
       "      <td>12680.0</td>\n",
       "      <td>France</td>\n",
       "      <td>10.20</td>\n",
       "      <td>2011</td>\n",
       "      <td>12</td>\n",
       "      <td>9</td>\n",
       "      <td>2011-12-09</td>\n",
       "    </tr>\n",
       "    <tr>\n",
       "      <th>541905</th>\n",
       "      <td>581587</td>\n",
       "      <td>22899</td>\n",
       "      <td>CHILDREN'S APRON DOLLY GIRL</td>\n",
       "      <td>6</td>\n",
       "      <td>12/9/2011 12:50</td>\n",
       "      <td>2.10</td>\n",
       "      <td>12680.0</td>\n",
       "      <td>France</td>\n",
       "      <td>12.60</td>\n",
       "      <td>2011</td>\n",
       "      <td>12</td>\n",
       "      <td>9</td>\n",
       "      <td>2011-12-09</td>\n",
       "    </tr>\n",
       "    <tr>\n",
       "      <th>541906</th>\n",
       "      <td>581587</td>\n",
       "      <td>23254</td>\n",
       "      <td>CHILDRENS CUTLERY DOLLY GIRL</td>\n",
       "      <td>4</td>\n",
       "      <td>12/9/2011 12:50</td>\n",
       "      <td>4.15</td>\n",
       "      <td>12680.0</td>\n",
       "      <td>France</td>\n",
       "      <td>16.60</td>\n",
       "      <td>2011</td>\n",
       "      <td>12</td>\n",
       "      <td>9</td>\n",
       "      <td>2011-12-09</td>\n",
       "    </tr>\n",
       "    <tr>\n",
       "      <th>541907</th>\n",
       "      <td>581587</td>\n",
       "      <td>23255</td>\n",
       "      <td>CHILDRENS CUTLERY CIRCUS PARADE</td>\n",
       "      <td>4</td>\n",
       "      <td>12/9/2011 12:50</td>\n",
       "      <td>4.15</td>\n",
       "      <td>12680.0</td>\n",
       "      <td>France</td>\n",
       "      <td>16.60</td>\n",
       "      <td>2011</td>\n",
       "      <td>12</td>\n",
       "      <td>9</td>\n",
       "      <td>2011-12-09</td>\n",
       "    </tr>\n",
       "    <tr>\n",
       "      <th>541908</th>\n",
       "      <td>581587</td>\n",
       "      <td>22138</td>\n",
       "      <td>BAKING SET 9 PIECE RETROSPOT</td>\n",
       "      <td>3</td>\n",
       "      <td>12/9/2011 12:50</td>\n",
       "      <td>4.95</td>\n",
       "      <td>12680.0</td>\n",
       "      <td>France</td>\n",
       "      <td>14.85</td>\n",
       "      <td>2011</td>\n",
       "      <td>12</td>\n",
       "      <td>9</td>\n",
       "      <td>2011-12-09</td>\n",
       "    </tr>\n",
       "  </tbody>\n",
       "</table>\n",
       "</div>"
      ],
      "text/plain": [
       "       InvoiceNo StockCode                      Description  Quantity  \\\n",
       "541904    581587     22613      PACK OF 20 SPACEBOY NAPKINS        12   \n",
       "541905    581587     22899     CHILDREN'S APRON DOLLY GIRL          6   \n",
       "541906    581587     23254    CHILDRENS CUTLERY DOLLY GIRL          4   \n",
       "541907    581587     23255  CHILDRENS CUTLERY CIRCUS PARADE         4   \n",
       "541908    581587     22138    BAKING SET 9 PIECE RETROSPOT          3   \n",
       "\n",
       "            InvoiceDate  UnitPrice  CustomerID Country  invoice_value  Year  \\\n",
       "541904  12/9/2011 12:50       0.85     12680.0  France          10.20  2011   \n",
       "541905  12/9/2011 12:50       2.10     12680.0  France          12.60  2011   \n",
       "541906  12/9/2011 12:50       4.15     12680.0  France          16.60  2011   \n",
       "541907  12/9/2011 12:50       4.15     12680.0  France          16.60  2011   \n",
       "541908  12/9/2011 12:50       4.95     12680.0  France          14.85  2011   \n",
       "\n",
       "        Month  Day        Date  \n",
       "541904     12    9  2011-12-09  \n",
       "541905     12    9  2011-12-09  \n",
       "541906     12    9  2011-12-09  \n",
       "541907     12    9  2011-12-09  \n",
       "541908     12    9  2011-12-09  "
      ]
     },
     "execution_count": 4,
     "metadata": {},
     "output_type": "execute_result"
    }
   ],
   "source": [
    "#Adding columns: invoice_value,Year, Month, Day and Date to online dataframe\n",
    "online['invoice_value'] = online['Quantity']*online['UnitPrice']\n",
    "online['Year'] = pd.DatetimeIndex(online['InvoiceDate']).year\n",
    "online['Month'] = pd.DatetimeIndex(online['InvoiceDate']).month\n",
    "online['Day'] =  pd.DatetimeIndex(online['InvoiceDate']).day\n",
    "online['Date'] = pd.DatetimeIndex(online['InvoiceDate']).date\n",
    "online.tail()"
   ]
  },
  {
   "cell_type": "code",
   "execution_count": 5,
   "metadata": {
    "execution": {
     "iopub.execute_input": "2020-11-04T04:12:04.544773Z",
     "iopub.status.busy": "2020-11-04T04:12:04.543889Z",
     "iopub.status.idle": "2020-11-04T04:12:04.594422Z",
     "shell.execute_reply": "2020-11-04T04:12:04.593707Z"
    },
    "papermill": {
     "duration": 0.082848,
     "end_time": "2020-11-04T04:12:04.594552",
     "exception": false,
     "start_time": "2020-11-04T04:12:04.511704",
     "status": "completed"
    },
    "tags": []
   },
   "outputs": [],
   "source": [
    "#Monthly revenue is sum up all 'invoice_value' in a month\n",
    "monthly = online.groupby(['Year', 'Month'])['invoice_value'].sum()\n",
    "monthly = monthly.to_frame()\n",
    "monthly = monthly.set_index(pd.Index(monthly.index))"
   ]
  },
  {
   "cell_type": "code",
   "execution_count": 6,
   "metadata": {
    "execution": {
     "iopub.execute_input": "2020-11-04T04:12:04.670734Z",
     "iopub.status.busy": "2020-11-04T04:12:04.669951Z",
     "iopub.status.idle": "2020-11-04T04:12:04.957741Z",
     "shell.execute_reply": "2020-11-04T04:12:04.957038Z"
    },
    "papermill": {
     "duration": 0.336916,
     "end_time": "2020-11-04T04:12:04.957905",
     "exception": false,
     "start_time": "2020-11-04T04:12:04.620989",
     "status": "completed"
    },
    "tags": []
   },
   "outputs": [
    {
     "data": {
      "image/png": "[encoded data removed]",
      "text/plain": [
       "<Figure size 720x432 with 1 Axes>"
      ]
     },
     "metadata": {},
     "output_type": "display_data"
    }
   ],
   "source": [
    "#Plotting the monthly revenue\n",
    "sns.set_style('whitegrid')\n",
    "h = sns.barplot(x = 'invoice_value', y = monthly.index, data = monthly, color = 'lightseagreen')\n",
    "h.figure.set_size_inches(10, 6)\n",
    "h.set_xlabel('Revenue in Millions GBP', size = 12)\n",
    "h.set_ylabel('Month of Year', size = 12)\n",
    "h.set_title('Monthly Revenue', size = 14, y = 1.05)\n",
    "plt.show()"
   ]
  },
  {
   "cell_type": "code",
   "execution_count": 7,
   "metadata": {
    "execution": {
     "iopub.execute_input": "2020-11-04T04:12:05.029799Z",
     "iopub.status.busy": "2020-11-04T04:12:05.028954Z",
     "iopub.status.idle": "2020-11-04T04:12:05.109417Z",
     "shell.execute_reply": "2020-11-04T04:12:05.108685Z"
    },
    "papermill": {
     "duration": 0.124634,
     "end_time": "2020-11-04T04:12:05.109550",
     "exception": false,
     "start_time": "2020-11-04T04:12:04.984916",
     "status": "completed"
    },
    "tags": []
   },
   "outputs": [
    {
     "data": {
      "text/html": [
       "<div>\n",
       "<style scoped>\n",
       "    .dataframe tbody tr th:only-of-type {\n",
       "        vertical-align: middle;\n",
       "    }\n",
       "\n",
       "    .dataframe tbody tr th {\n",
       "        vertical-align: top;\n",
       "    }\n",
       "\n",
       "    .dataframe thead th {\n",
       "        text-align: right;\n",
       "    }\n",
       "</style>\n",
       "<table border=\"1\" class=\"dataframe\">\n",
       "  <thead>\n",
       "    <tr style=\"text-align: right;\">\n",
       "      <th></th>\n",
       "      <th>invoice_value</th>\n",
       "    </tr>\n",
       "    <tr>\n",
       "      <th>Country</th>\n",
       "      <th></th>\n",
       "    </tr>\n",
       "  </thead>\n",
       "  <tbody>\n",
       "    <tr>\n",
       "      <th>United Kingdom</th>\n",
       "      <td>8.187806e+06</td>\n",
       "    </tr>\n",
       "    <tr>\n",
       "      <th>Netherlands</th>\n",
       "      <td>2.846615e+05</td>\n",
       "    </tr>\n",
       "    <tr>\n",
       "      <th>EIRE</th>\n",
       "      <td>2.632768e+05</td>\n",
       "    </tr>\n",
       "    <tr>\n",
       "      <th>Germany</th>\n",
       "      <td>2.216982e+05</td>\n",
       "    </tr>\n",
       "    <tr>\n",
       "      <th>France</th>\n",
       "      <td>1.974039e+05</td>\n",
       "    </tr>\n",
       "  </tbody>\n",
       "</table>\n",
       "</div>"
      ],
      "text/plain": [
       "                invoice_value\n",
       "Country                      \n",
       "United Kingdom   8.187806e+06\n",
       "Netherlands      2.846615e+05\n",
       "EIRE             2.632768e+05\n",
       "Germany          2.216982e+05\n",
       "France           1.974039e+05"
      ]
     },
     "execution_count": 7,
     "metadata": {},
     "output_type": "execute_result"
    }
   ],
   "source": [
    "#Revenue by countries is sum up of all 'invoice_value' for each country.\n",
    "revenue_per_country = online.groupby(['Country'])['invoice_value'].sum().sort_values(ascending=False)\n",
    "revenue_per_country = revenue_per_country.to_frame()\n",
    "revenue_per_country.head()"
   ]
  },
  {
   "cell_type": "code",
   "execution_count": 8,
   "metadata": {
    "execution": {
     "iopub.execute_input": "2020-11-04T04:12:05.212972Z",
     "iopub.status.busy": "2020-11-04T04:12:05.210705Z",
     "iopub.status.idle": "2020-11-04T04:12:05.638005Z",
     "shell.execute_reply": "2020-11-04T04:12:05.637015Z"
    },
    "papermill": {
     "duration": 0.499861,
     "end_time": "2020-11-04T04:12:05.638158",
     "exception": false,
     "start_time": "2020-11-04T04:12:05.138297",
     "status": "completed"
    },
    "tags": []
   },
   "outputs": [
    {
     "data": {
      "image/png": "[encoded data removed]",
      "text/plain": [
       "<Figure size 864x720 with 1 Axes>"
      ]
     },
     "metadata": {},
     "output_type": "display_data"
    }
   ],
   "source": [
    "#Plotting countries revenue. As the domestic revenue is 30 times higher than the 2nd highest foreign market - Netherlands, \n",
    "#So we exclude the UK from our chart, to see the values in other countries. \n",
    "\n",
    "#Excuding the UK from the dataset\n",
    "country = revenue_per_country[revenue_per_country.index != 'United Kingdom']\n",
    "\n",
    "#Plotting \n",
    "\n",
    "g = sns.barplot(x = 'invoice_value', y = country.index , data = country, color = 'darkcyan')\n",
    "g.figure.set_size_inches(12, 10)\n",
    "g.set_xlabel('Revenue in GBP', size = 12)\n",
    "g.set_ylabel('Country', size = 12)\n",
    "g.set_title('Revenue in Countries outside the UK', size = 14, y = 1.05)\n",
    "plt.show()"
   ]
  },
  {
   "cell_type": "code",
   "execution_count": 9,
   "metadata": {
    "execution": {
     "iopub.execute_input": "2020-11-04T04:12:05.701308Z",
     "iopub.status.busy": "2020-11-04T04:12:05.700536Z",
     "iopub.status.idle": "2020-11-04T04:12:05.709719Z",
     "shell.execute_reply": "2020-11-04T04:12:05.709008Z"
    },
    "papermill": {
     "duration": 0.042899,
     "end_time": "2020-11-04T04:12:05.709857",
     "exception": false,
     "start_time": "2020-11-04T04:12:05.666958",
     "status": "completed"
    },
    "tags": []
   },
   "outputs": [
    {
     "name": "stdout",
     "output_type": "stream",
     "text": [
      "Total revenue of the business represented in the dataset is 9747748.0  GBP\n"
     ]
    }
   ],
   "source": [
    "#The total revenue \n",
    "rev = online['invoice_value'].sum()\n",
    "print('Total revenue of the business represented in the dataset is', np.round(rev,0), ' GBP')"
   ]
  },
  {
   "cell_type": "markdown",
   "metadata": {
    "papermill": {
     "duration": 0.0298,
     "end_time": "2020-11-04T04:12:05.769515",
     "exception": false,
     "start_time": "2020-11-04T04:12:05.739715",
     "status": "completed"
    },
    "tags": []
   },
   "source": [
    "### An overview of the dataset and the business\n",
    "The dataset recorded sales transactions from 1/12/2010 to 9/12/2011, 12 months and 9 days. The total revenue for all recorded time is 9,74 million GBP(assumption),  for the last 9 days of the dataset is about 0.42 million GBP, so annual income for this business recorded is 9.3 million GBP. \n",
    "\n",
    "Nov is the busiest month with the highest earnings, following by October and September. Revenue from earlier months of the year was much lower than later months. \n",
    "\n",
    "With only 9 days in Dec 2011, revenue reached 0.42 million GBP, from my prediction, it could get up to 1.5 million by the end of the month due to holiday season. If that prediction is accurate, the earnings of Dec 2011 would be doubled of Dec the previous year. Another assumption is, this was a new business. \n",
    "\n",
    "The foreign market of the business is surrounding European countries and Australia (!). However, it only took 8.5% total revenue of the company.\n",
    "\n",
    "For further analysis, I will exclude Dec 2011 from the dataset"
   ]
  },
  {
   "cell_type": "code",
   "execution_count": 10,
   "metadata": {
    "execution": {
     "iopub.execute_input": "2020-11-04T04:12:05.839923Z",
     "iopub.status.busy": "2020-11-04T04:12:05.838685Z",
     "iopub.status.idle": "2020-11-04T04:12:06.275536Z",
     "shell.execute_reply": "2020-11-04T04:12:06.274859Z"
    },
    "papermill": {
     "duration": 0.475419,
     "end_time": "2020-11-04T04:12:06.275664",
     "exception": false,
     "start_time": "2020-11-04T04:12:05.800245",
     "status": "completed"
    },
    "tags": []
   },
   "outputs": [],
   "source": [
    "#Excluding Dec, 2011 \n",
    "df1 = online[(online['Year']==2010)]\n",
    "df2 = online[(online['Month']!=12)]\n",
    "df = pd.concat([df1,df2])\n"
   ]
  },
  {
   "cell_type": "code",
   "execution_count": 11,
   "metadata": {
    "execution": {
     "iopub.execute_input": "2020-11-04T04:12:06.343320Z",
     "iopub.status.busy": "2020-11-04T04:12:06.342526Z",
     "iopub.status.idle": "2020-11-04T04:12:06.524861Z",
     "shell.execute_reply": "2020-11-04T04:12:06.523918Z"
    },
    "papermill": {
     "duration": 0.219643,
     "end_time": "2020-11-04T04:12:06.525014",
     "exception": false,
     "start_time": "2020-11-04T04:12:06.305371",
     "status": "completed"
    },
    "tags": []
   },
   "outputs": [],
   "source": [
    "#Groupping revenue per invoice \n",
    "invoice = df.groupby(['Month','InvoiceNo'])['invoice_value'].sum()\n",
    "invoice = invoice.to_frame()\n",
    "invoice = invoice.reset_index()"
   ]
  },
  {
   "cell_type": "code",
   "execution_count": 12,
   "metadata": {
    "execution": {
     "iopub.execute_input": "2020-11-04T04:12:06.595248Z",
     "iopub.status.busy": "2020-11-04T04:12:06.594253Z",
     "iopub.status.idle": "2020-11-04T04:12:07.000437Z",
     "shell.execute_reply": "2020-11-04T04:12:06.999790Z"
    },
    "papermill": {
     "duration": 0.445665,
     "end_time": "2020-11-04T04:12:07.000655",
     "exception": false,
     "start_time": "2020-11-04T04:12:06.554990",
     "status": "completed"
    },
    "tags": []
   },
   "outputs": [
    {
     "data": {
      "image/png": "[encoded data removed]",
      "text/plain": [
       "<Figure size 1080x576 with 1 Axes>"
      ]
     },
     "metadata": {},
     "output_type": "display_data"
    }
   ],
   "source": [
    "#Plotting the invoice distribution for each month\n",
    "g = sns.boxplot(x = 'Month',y= 'invoice_value', data = invoice, order = [12, 1, 2, 3, 4, 5, 6, 7, 8, 9, 10, 11])\n",
    "g.set_title('Invoice values distribution over months', size = 16, y = 1.05)\n",
    "g.set_xlabel('Month', size = 14)\n",
    "g.set_ylabel('Invoice Value in GBP', size = 14)\n",
    "g.figure.set_size_inches(15, 8)\n",
    "plt.show()"
   ]
  },
  {
   "cell_type": "code",
   "execution_count": 13,
   "metadata": {
    "execution": {
     "iopub.execute_input": "2020-11-04T04:12:07.076794Z",
     "iopub.status.busy": "2020-11-04T04:12:07.075487Z",
     "iopub.status.idle": "2020-11-04T04:12:07.599435Z",
     "shell.execute_reply": "2020-11-04T04:12:07.600189Z"
    },
    "papermill": {
     "duration": 0.566791,
     "end_time": "2020-11-04T04:12:07.600378",
     "exception": false,
     "start_time": "2020-11-04T04:12:07.033587",
     "status": "completed"
    },
    "tags": []
   },
   "outputs": [
    {
     "data": {
      "image/png": "[encoded data removed]",
      "text/plain": [
       "<Figure size 1080x864 with 1 Axes>"
      ]
     },
     "metadata": {},
     "output_type": "display_data"
    }
   ],
   "source": [
    "#There are big outliners in pervious plots, so we will slice into the smaller range with more density value\n",
    "g = sns.boxplot(x = 'Month',y= 'invoice_value', data = invoice, order = [12, 1, 2, 3, 4, 5, 6, 7, 8, 9, 10, 11])\n",
    "g.set_title('Invoice values distribution over months', size = 16, y = 1.05)\n",
    "g.set_xlabel('Month', size = 14)\n",
    "g.set_ylabel('Invoice Value in GBP', size = 14)\n",
    "g.figure.set_size_inches(15, 12)\n",
    "g.set_ylim(-5000, 10000)\n",
    "plt.show()"
   ]
  },
  {
   "cell_type": "code",
   "execution_count": 14,
   "metadata": {
    "execution": {
     "iopub.execute_input": "2020-11-04T04:12:07.676636Z",
     "iopub.status.busy": "2020-11-04T04:12:07.675570Z",
     "iopub.status.idle": "2020-11-04T04:12:08.069781Z",
     "shell.execute_reply": "2020-11-04T04:12:08.070640Z"
    },
    "papermill": {
     "duration": 0.437947,
     "end_time": "2020-11-04T04:12:08.070964",
     "exception": false,
     "start_time": "2020-11-04T04:12:07.633017",
     "status": "completed"
    },
    "tags": []
   },
   "outputs": [
    {
     "data": {
      "image/png": "[encoded data removed]",
      "text/plain": [
       "<Figure size 1080x576 with 1 Axes>"
      ]
     },
     "metadata": {},
     "output_type": "display_data"
    }
   ],
   "source": [
    "#Groupping revenue by day\n",
    "daily = df.groupby(['Month', 'Day'])['invoice_value'].sum()\n",
    "daily = daily.to_frame()\n",
    "daily = daily.reset_index()\n",
    "\n",
    "#Plotting daily revenue distribution over months\n",
    "g = sns.boxplot(x = 'Month',y= 'invoice_value', data = daily, order = [12, 1, 2, 3, 4, 5, 6, 7, 8, 9, 10, 11])\n",
    "g.figure.set_size_inches(15, 8)\n",
    "g.set_title('Daily revenue distribution by month', size = 14, y = 1.05)\n",
    "g.set_ylabel('Daily Revenue - GBP', size = 12)\n",
    "g.set_xlabel('Month', size = 12)\n",
    "plt.show()"
   ]
  },
  {
   "cell_type": "markdown",
   "metadata": {
    "papermill": {
     "duration": 0.037292,
     "end_time": "2020-11-04T04:12:08.147448",
     "exception": false,
     "start_time": "2020-11-04T04:12:08.110156",
     "status": "completed"
    },
    "tags": []
   },
   "source": [
    "### Customer Analysis\n",
    "\n",
    "The first boxplot shows that dataset has numbers of extreme outliners. It looks like there were a couple of big contracts (or input mistakes) they were likely to make but then got cancelled. \n",
    "\n",
    "Many of other outliners dropped to the range of 20K GBP, which is way larger than an average bill of any normal person to buy for their home. In other words, they do business with other business as well. \n",
    "\n",
    "Zooming into the smaller range (The 2nd boxplot), the number of outliners still significant. Even though the invoice values are not much varied over months, but the daily revenue distribution over months (Box plot 3rd) are significantly different from months to months. Concretely, these outliners have effected strongly on daily income. There is not enough data to conclude, but I can predict that B2B had a big impact on this business. Taking good care of them would be the core strategy. "
   ]
  },
  {
   "cell_type": "markdown",
   "metadata": {
    "papermill": {
     "duration": 0.037154,
     "end_time": "2020-11-04T04:12:08.219698",
     "exception": false,
     "start_time": "2020-11-04T04:12:08.182544",
     "status": "completed"
    },
    "tags": []
   },
   "source": [
    "### Calculating CLTV\n",
    "\n",
    "There are multiple methods to calculate CLTV to use in specific purposes. For this business and the dataset available, I will estimate CLTV by the granular formula, which is driven by how frequency a customer purchases with the business, what are their average value per purchase and the estimate customer lifespan. \n",
    "\n",
    "Customer lifespan is a critical metric which heavily depended on the business model itself. When it comes to customer lifespan, it’s important to understand the difference between being a contractual and non-contractual business. Most online-stores are non-contractual businesses, it means, when a transaction is made, it is effectively over. From this article of https://www.shopify.ca/blog/customer-lifetime-value, I estimate the life-span of customer for this business is 24 months. "
   ]
  },
  {
   "cell_type": "code",
   "execution_count": 15,
   "metadata": {
    "execution": {
     "iopub.execute_input": "2020-11-04T04:12:08.306092Z",
     "iopub.status.busy": "2020-11-04T04:12:08.305159Z",
     "iopub.status.idle": "2020-11-04T04:12:08.587042Z",
     "shell.execute_reply": "2020-11-04T04:12:08.586441Z"
    },
    "papermill": {
     "duration": 0.328212,
     "end_time": "2020-11-04T04:12:08.587173",
     "exception": false,
     "start_time": "2020-11-04T04:12:08.258961",
     "status": "completed"
    },
    "tags": []
   },
   "outputs": [
    {
     "name": "stdout",
     "output_type": "stream",
     "text": [
      "Average granular CLV is 804.4 USD\n"
     ]
    }
   ],
   "source": [
    "#Granular CLTV Calculation \n",
    "\n",
    "#Calculate average revenue per invoice \n",
    "revenue_per_purchase = online.groupby(['InvoiceNo'])['invoice_value'].mean().mean()\n",
    "\n",
    "#Calculate average number unique invoices per customer per month\n",
    "freg = online.groupby(['CustomerID', 'Month'])['InvoiceNo'].nunique().mean()\n",
    "\n",
    "#Define customer life-spand to 24 months\n",
    "lifespand_months = 24\n",
    "\n",
    "#Calculate granular CLV\n",
    "cltv_granular = revenue_per_purchase*freg*lifespand_months\n",
    "\n",
    "# Print granular CLV value\n",
    "print('Average granular CLV is {:.1f} USD'.format(cltv_granular))"
   ]
  },
  {
   "cell_type": "code",
   "execution_count": 16,
   "metadata": {
    "execution": {
     "iopub.execute_input": "2020-11-04T04:12:08.664652Z",
     "iopub.status.busy": "2020-11-04T04:12:08.663119Z",
     "iopub.status.idle": "2020-11-04T04:12:08.682318Z",
     "shell.execute_reply": "2020-11-04T04:12:08.682905Z"
    },
    "papermill": {
     "duration": 0.060796,
     "end_time": "2020-11-04T04:12:08.683077",
     "exception": false,
     "start_time": "2020-11-04T04:12:08.622281",
     "status": "completed"
    },
    "tags": []
   },
   "outputs": [
    {
     "data": {
      "text/plain": [
       "Month\n",
       "1     35147\n",
       "2     27707\n",
       "3     36748\n",
       "4     29916\n",
       "5     37030\n",
       "6     36874\n",
       "7     39518\n",
       "8     35284\n",
       "9     50226\n",
       "10    60742\n",
       "11    84711\n",
       "dtype: int64"
      ]
     },
     "execution_count": 16,
     "metadata": {},
     "output_type": "execute_result"
    }
   ],
   "source": [
    "#Using Linear Regression to predict next month's purchase\n",
    "#Inspecting for sales distribution by months\n",
    "df2.groupby(['Month']).size()"
   ]
  },
  {
   "cell_type": "code",
   "execution_count": 17,
   "metadata": {
    "execution": {
     "iopub.execute_input": "2020-11-04T04:12:08.929643Z",
     "iopub.status.busy": "2020-11-04T04:12:08.779863Z",
     "iopub.status.idle": "2020-11-04T04:12:10.085417Z",
     "shell.execute_reply": "2020-11-04T04:12:10.084355Z"
    },
    "papermill": {
     "duration": 1.362744,
     "end_time": "2020-11-04T04:12:10.085587",
     "exception": false,
     "start_time": "2020-11-04T04:12:08.722843",
     "status": "completed"
    },
    "tags": []
   },
   "outputs": [
    {
     "name": "stderr",
     "output_type": "stream",
     "text": [
      "/opt/conda/lib/python3.7/site-packages/ipykernel_launcher.py:1: SettingWithCopyWarning: \n",
      "A value is trying to be set on a copy of a slice from a DataFrame.\n",
      "Try using .loc[row_indexer,col_indexer] = value instead\n",
      "\n",
      "See the caveats in the documentation: https://pandas.pydata.org/pandas-docs/stable/user_guide/indexing.html#returning-a-view-versus-a-copy\n",
      "  \"\"\"Entry point for launching an IPython kernel.\n",
      "/opt/conda/lib/python3.7/site-packages/ipykernel_launcher.py:7: FutureWarning: The pandas.datetime class is deprecated and will be removed from pandas in a future version. Import from datetime module instead.\n",
      "  import sys\n"
     ]
    },
    {
     "name": "stdout",
     "output_type": "stream",
     "text": [
      "<class 'pandas.core.frame.DataFrame'>\n",
      "RangeIndex: 3838 entries, 0 to 3837\n",
      "Data columns (total 6 columns):\n",
      " #   Column          Non-Null Count  Dtype  \n",
      "---  ------          --------------  -----  \n",
      " 0   CustomerID      3838 non-null   float64\n",
      " 1   recency         3838 non-null   int64  \n",
      " 2   frequency       3838 non-null   int64  \n",
      " 3   monetary        3838 non-null   float64\n",
      " 4   quantity_avg    3838 non-null   float64\n",
      " 5   quantity_total  3838 non-null   int64  \n",
      "dtypes: float64(3), int64(3)\n",
      "memory usage: 180.0 KB\n"
     ]
    }
   ],
   "source": [
    "df2['Date'] = pd.to_datetime(df2['Date'])\n",
    "\n",
    "#Exclude target variable\n",
    "online_X=df2[df2['Month']!= 11] \n",
    "\n",
    "# Define the snapshot date\n",
    "NOW = pd.datetime(2011,11,1)\n",
    "\n",
    "# Calculate recency by subtracting current date from the latest InvoiceDate\n",
    "features = online_X.groupby('CustomerID').agg({\n",
    "  'Date': lambda x: (NOW - x.max()).days,\n",
    "  # Calculate frequency by counting unique number of invoices\n",
    "  'InvoiceNo': pd.Series.nunique,\n",
    "  # Calculate monetary value by summing all spend values\n",
    "  'invoice_value': np.sum,\n",
    "  # Calculate average and total quantity\n",
    "  'Quantity': ['mean', 'sum']}).reset_index()\n",
    "\n",
    "# Rename the columns\n",
    "features.columns = ['CustomerID', 'recency', 'frequency', 'monetary', 'quantity_avg', 'quantity_total']\n",
    "features.info()"
   ]
  },
  {
   "cell_type": "code",
   "execution_count": 18,
   "metadata": {
    "execution": {
     "iopub.execute_input": "2020-11-04T04:12:10.176620Z",
     "iopub.status.busy": "2020-11-04T04:12:10.175830Z",
     "iopub.status.idle": "2020-11-04T04:12:11.708100Z",
     "shell.execute_reply": "2020-11-04T04:12:11.707311Z"
    },
    "papermill": {
     "duration": 1.58115,
     "end_time": "2020-11-04T04:12:11.708235",
     "exception": false,
     "start_time": "2020-11-04T04:12:10.127085",
     "status": "completed"
    },
    "tags": []
   },
   "outputs": [
    {
     "data": {
      "text/plain": [
       "<bound method DataFrame.info of Month       1   2   3   4   5   6   7   8   9   10  11\n",
       "CustomerID                                            \n",
       "12346.0      2   0   0   0   0   0   0   0   0   0   0\n",
       "12347.0      1   0   0   1   0   1   0   1   0   1   0\n",
       "12348.0      1   0   0   1   0   0   0   0   1   0   0\n",
       "12349.0      0   0   0   0   0   0   0   0   0   0   1\n",
       "12350.0      0   1   0   0   0   0   0   0   0   0   0\n",
       "...         ..  ..  ..  ..  ..  ..  ..  ..  ..  ..  ..\n",
       "18280.0      0   0   1   0   0   0   0   0   0   0   0\n",
       "18281.0      0   0   0   0   0   1   0   0   0   0   0\n",
       "18282.0      0   0   0   0   0   0   0   2   0   0   0\n",
       "18283.0      2   1   0   1   1   2   2   0   1   1   4\n",
       "18287.0      0   0   0   0   1   0   0   0   0   2   0\n",
       "\n",
       "[4197 rows x 11 columns]>"
      ]
     },
     "execution_count": 18,
     "metadata": {},
     "output_type": "execute_result"
    }
   ],
   "source": [
    "#Build pivot table with monthly transaction per customer \n",
    "cust_month_tx = pd.pivot_table(data = df2, index = ['CustomerID'], \n",
    "                              values = 'InvoiceNo', columns = ['Month'], \n",
    "                              aggfunc = pd.Series.nunique, fill_value = 0)\n",
    "\n",
    "cust_month_tx.info"
   ]
  },
  {
   "cell_type": "code",
   "execution_count": 19,
   "metadata": {
    "execution": {
     "iopub.execute_input": "2020-11-04T04:12:11.792930Z",
     "iopub.status.busy": "2020-11-04T04:12:11.792119Z",
     "iopub.status.idle": "2020-11-04T04:12:11.838773Z",
     "shell.execute_reply": "2020-11-04T04:12:11.839407Z"
    },
    "papermill": {
     "duration": 0.093493,
     "end_time": "2020-11-04T04:12:11.839624",
     "exception": false,
     "start_time": "2020-11-04T04:12:11.746131",
     "status": "completed"
    },
    "tags": []
   },
   "outputs": [
    {
     "data": {
      "text/html": [
       "<div>\n",
       "<style scoped>\n",
       "    .dataframe tbody tr th:only-of-type {\n",
       "        vertical-align: middle;\n",
       "    }\n",
       "\n",
       "    .dataframe tbody tr th {\n",
       "        vertical-align: top;\n",
       "    }\n",
       "\n",
       "    .dataframe thead th {\n",
       "        text-align: right;\n",
       "    }\n",
       "</style>\n",
       "<table border=\"1\" class=\"dataframe\">\n",
       "  <thead>\n",
       "    <tr style=\"text-align: right;\">\n",
       "      <th></th>\n",
       "      <th>CustomerID</th>\n",
       "      <th>recency</th>\n",
       "      <th>frequency</th>\n",
       "      <th>monetary</th>\n",
       "      <th>quantity_avg</th>\n",
       "      <th>quantity_total</th>\n",
       "      <th>1</th>\n",
       "      <th>2</th>\n",
       "      <th>3</th>\n",
       "      <th>4</th>\n",
       "      <th>5</th>\n",
       "      <th>6</th>\n",
       "      <th>7</th>\n",
       "      <th>8</th>\n",
       "      <th>9</th>\n",
       "      <th>10</th>\n",
       "      <th>11</th>\n",
       "    </tr>\n",
       "  </thead>\n",
       "  <tbody>\n",
       "    <tr>\n",
       "      <th>0</th>\n",
       "      <td>12346.0</td>\n",
       "      <td>287</td>\n",
       "      <td>2</td>\n",
       "      <td>0.00</td>\n",
       "      <td>0.000000</td>\n",
       "      <td>0</td>\n",
       "      <td>2</td>\n",
       "      <td>0</td>\n",
       "      <td>0</td>\n",
       "      <td>0</td>\n",
       "      <td>0</td>\n",
       "      <td>0</td>\n",
       "      <td>0</td>\n",
       "      <td>0</td>\n",
       "      <td>0</td>\n",
       "      <td>0</td>\n",
       "      <td>0</td>\n",
       "    </tr>\n",
       "    <tr>\n",
       "      <th>1</th>\n",
       "      <td>12347.0</td>\n",
       "      <td>1</td>\n",
       "      <td>5</td>\n",
       "      <td>3373.39</td>\n",
       "      <td>13.907143</td>\n",
       "      <td>1947</td>\n",
       "      <td>1</td>\n",
       "      <td>0</td>\n",
       "      <td>0</td>\n",
       "      <td>1</td>\n",
       "      <td>0</td>\n",
       "      <td>1</td>\n",
       "      <td>0</td>\n",
       "      <td>1</td>\n",
       "      <td>0</td>\n",
       "      <td>1</td>\n",
       "      <td>0</td>\n",
       "    </tr>\n",
       "    <tr>\n",
       "      <th>2</th>\n",
       "      <td>12348.0</td>\n",
       "      <td>37</td>\n",
       "      <td>3</td>\n",
       "      <td>904.44</td>\n",
       "      <td>77.642857</td>\n",
       "      <td>1087</td>\n",
       "      <td>1</td>\n",
       "      <td>0</td>\n",
       "      <td>0</td>\n",
       "      <td>1</td>\n",
       "      <td>0</td>\n",
       "      <td>0</td>\n",
       "      <td>0</td>\n",
       "      <td>0</td>\n",
       "      <td>1</td>\n",
       "      <td>0</td>\n",
       "      <td>0</td>\n",
       "    </tr>\n",
       "    <tr>\n",
       "      <th>3</th>\n",
       "      <td>12350.0</td>\n",
       "      <td>272</td>\n",
       "      <td>1</td>\n",
       "      <td>334.40</td>\n",
       "      <td>11.588235</td>\n",
       "      <td>197</td>\n",
       "      <td>0</td>\n",
       "      <td>1</td>\n",
       "      <td>0</td>\n",
       "      <td>0</td>\n",
       "      <td>0</td>\n",
       "      <td>0</td>\n",
       "      <td>0</td>\n",
       "      <td>0</td>\n",
       "      <td>0</td>\n",
       "      <td>0</td>\n",
       "      <td>0</td>\n",
       "    </tr>\n",
       "    <tr>\n",
       "      <th>4</th>\n",
       "      <td>12352.0</td>\n",
       "      <td>34</td>\n",
       "      <td>10</td>\n",
       "      <td>1233.68</td>\n",
       "      <td>4.287500</td>\n",
       "      <td>343</td>\n",
       "      <td>0</td>\n",
       "      <td>1</td>\n",
       "      <td>7</td>\n",
       "      <td>0</td>\n",
       "      <td>0</td>\n",
       "      <td>0</td>\n",
       "      <td>0</td>\n",
       "      <td>0</td>\n",
       "      <td>2</td>\n",
       "      <td>0</td>\n",
       "      <td>1</td>\n",
       "    </tr>\n",
       "    <tr>\n",
       "      <th>...</th>\n",
       "      <td>...</td>\n",
       "      <td>...</td>\n",
       "      <td>...</td>\n",
       "      <td>...</td>\n",
       "      <td>...</td>\n",
       "      <td>...</td>\n",
       "      <td>...</td>\n",
       "      <td>...</td>\n",
       "      <td>...</td>\n",
       "      <td>...</td>\n",
       "      <td>...</td>\n",
       "      <td>...</td>\n",
       "      <td>...</td>\n",
       "      <td>...</td>\n",
       "      <td>...</td>\n",
       "      <td>...</td>\n",
       "      <td>...</td>\n",
       "    </tr>\n",
       "    <tr>\n",
       "      <th>3833</th>\n",
       "      <td>18280.0</td>\n",
       "      <td>239</td>\n",
       "      <td>1</td>\n",
       "      <td>180.60</td>\n",
       "      <td>4.500000</td>\n",
       "      <td>45</td>\n",
       "      <td>0</td>\n",
       "      <td>0</td>\n",
       "      <td>1</td>\n",
       "      <td>0</td>\n",
       "      <td>0</td>\n",
       "      <td>0</td>\n",
       "      <td>0</td>\n",
       "      <td>0</td>\n",
       "      <td>0</td>\n",
       "      <td>0</td>\n",
       "      <td>0</td>\n",
       "    </tr>\n",
       "    <tr>\n",
       "      <th>3834</th>\n",
       "      <td>18281.0</td>\n",
       "      <td>142</td>\n",
       "      <td>1</td>\n",
       "      <td>80.82</td>\n",
       "      <td>7.714286</td>\n",
       "      <td>54</td>\n",
       "      <td>0</td>\n",
       "      <td>0</td>\n",
       "      <td>0</td>\n",
       "      <td>0</td>\n",
       "      <td>0</td>\n",
       "      <td>1</td>\n",
       "      <td>0</td>\n",
       "      <td>0</td>\n",
       "      <td>0</td>\n",
       "      <td>0</td>\n",
       "      <td>0</td>\n",
       "    </tr>\n",
       "    <tr>\n",
       "      <th>3835</th>\n",
       "      <td>18282.0</td>\n",
       "      <td>84</td>\n",
       "      <td>2</td>\n",
       "      <td>98.76</td>\n",
       "      <td>8.750000</td>\n",
       "      <td>70</td>\n",
       "      <td>0</td>\n",
       "      <td>0</td>\n",
       "      <td>0</td>\n",
       "      <td>0</td>\n",
       "      <td>0</td>\n",
       "      <td>0</td>\n",
       "      <td>0</td>\n",
       "      <td>2</td>\n",
       "      <td>0</td>\n",
       "      <td>0</td>\n",
       "      <td>0</td>\n",
       "    </tr>\n",
       "    <tr>\n",
       "      <th>3836</th>\n",
       "      <td>18283.0</td>\n",
       "      <td>5</td>\n",
       "      <td>11</td>\n",
       "      <td>1235.32</td>\n",
       "      <td>1.652977</td>\n",
       "      <td>805</td>\n",
       "      <td>2</td>\n",
       "      <td>1</td>\n",
       "      <td>0</td>\n",
       "      <td>1</td>\n",
       "      <td>1</td>\n",
       "      <td>2</td>\n",
       "      <td>2</td>\n",
       "      <td>0</td>\n",
       "      <td>1</td>\n",
       "      <td>1</td>\n",
       "      <td>4</td>\n",
       "    </tr>\n",
       "    <tr>\n",
       "      <th>3837</th>\n",
       "      <td>18287.0</td>\n",
       "      <td>4</td>\n",
       "      <td>3</td>\n",
       "      <td>1837.28</td>\n",
       "      <td>22.657143</td>\n",
       "      <td>1586</td>\n",
       "      <td>0</td>\n",
       "      <td>0</td>\n",
       "      <td>0</td>\n",
       "      <td>0</td>\n",
       "      <td>1</td>\n",
       "      <td>0</td>\n",
       "      <td>0</td>\n",
       "      <td>0</td>\n",
       "      <td>0</td>\n",
       "      <td>2</td>\n",
       "      <td>0</td>\n",
       "    </tr>\n",
       "  </tbody>\n",
       "</table>\n",
       "<p>3838 rows × 17 columns</p>\n",
       "</div>"
      ],
      "text/plain": [
       "      CustomerID  recency  frequency  monetary  quantity_avg  quantity_total  \\\n",
       "0        12346.0      287          2      0.00      0.000000               0   \n",
       "1        12347.0        1          5   3373.39     13.907143            1947   \n",
       "2        12348.0       37          3    904.44     77.642857            1087   \n",
       "3        12350.0      272          1    334.40     11.588235             197   \n",
       "4        12352.0       34         10   1233.68      4.287500             343   \n",
       "...          ...      ...        ...       ...           ...             ...   \n",
       "3833     18280.0      239          1    180.60      4.500000              45   \n",
       "3834     18281.0      142          1     80.82      7.714286              54   \n",
       "3835     18282.0       84          2     98.76      8.750000              70   \n",
       "3836     18283.0        5         11   1235.32      1.652977             805   \n",
       "3837     18287.0        4          3   1837.28     22.657143            1586   \n",
       "\n",
       "      1  2  3  4  5  6  7  8  9  10  11  \n",
       "0     2  0  0  0  0  0  0  0  0   0   0  \n",
       "1     1  0  0  1  0  1  0  1  0   1   0  \n",
       "2     1  0  0  1  0  0  0  0  1   0   0  \n",
       "3     0  1  0  0  0  0  0  0  0   0   0  \n",
       "4     0  1  7  0  0  0  0  0  2   0   1  \n",
       "...  .. .. .. .. .. .. .. .. ..  ..  ..  \n",
       "3833  0  0  1  0  0  0  0  0  0   0   0  \n",
       "3834  0  0  0  0  0  1  0  0  0   0   0  \n",
       "3835  0  0  0  0  0  0  0  2  0   0   0  \n",
       "3836  2  1  0  1  1  2  2  0  1   1   4  \n",
       "3837  0  0  0  0  1  0  0  0  0   2   0  \n",
       "\n",
       "[3838 rows x 17 columns]"
      ]
     },
     "execution_count": 19,
     "metadata": {},
     "output_type": "execute_result"
    }
   ],
   "source": [
    "#Flat the pivot table\n",
    "flattened = pd.DataFrame(cust_month_tx.to_records())\n",
    "\n",
    "#Left join Flattened pivot table to the features table on CustomerID\n",
    "join = features.merge(flattened, on = 'CustomerID')\n",
    "join"
   ]
  },
  {
   "cell_type": "code",
   "execution_count": 20,
   "metadata": {
    "execution": {
     "iopub.execute_input": "2020-11-04T04:12:11.929367Z",
     "iopub.status.busy": "2020-11-04T04:12:11.928137Z",
     "iopub.status.idle": "2020-11-04T04:12:11.935108Z",
     "shell.execute_reply": "2020-11-04T04:12:11.934391Z"
    },
    "papermill": {
     "duration": 0.055243,
     "end_time": "2020-11-04T04:12:11.935268",
     "exception": false,
     "start_time": "2020-11-04T04:12:11.880025",
     "status": "completed"
    },
    "tags": []
   },
   "outputs": [],
   "source": [
    "#Finalise data preparation and split to train/test\n",
    "\n",
    "#Store identifier and target variable column names\n",
    "custid = ['CustomerID']\n",
    "target = ['11']\n",
    "#Extract target variable \n",
    "Y = join[target]\n",
    "\n",
    "#Extract features for culumns name\n",
    "cols = [col for col in features.columns if col not in custid]\n",
    "\n",
    "#Store features\n",
    "X = features[cols]"
   ]
  },
  {
   "cell_type": "code",
   "execution_count": 21,
   "metadata": {
    "execution": {
     "iopub.execute_input": "2020-11-04T04:12:12.028639Z",
     "iopub.status.busy": "2020-11-04T04:12:12.027560Z",
     "iopub.status.idle": "2020-11-04T04:12:12.189035Z",
     "shell.execute_reply": "2020-11-04T04:12:12.188259Z"
    },
    "papermill": {
     "duration": 0.213999,
     "end_time": "2020-11-04T04:12:12.189166",
     "exception": false,
     "start_time": "2020-11-04T04:12:11.975167",
     "status": "completed"
    },
    "tags": []
   },
   "outputs": [
    {
     "name": "stdout",
     "output_type": "stream",
     "text": [
      "(2878, 5) (960, 5) (2878, 1) (960, 1)\n"
     ]
    }
   ],
   "source": [
    "from sklearn.model_selection import train_test_split\n",
    "#Split data to training and testing\n",
    "train_X, test_X, train_Y, test_Y = train_test_split(X, Y, test_size=0.25, random_state = 99)\n",
    "\n",
    "#Print the shape of the datasets\n",
    "print(train_X.shape, test_X.shape, train_Y.shape, test_Y.shape )"
   ]
  },
  {
   "cell_type": "code",
   "execution_count": 22,
   "metadata": {
    "execution": {
     "iopub.execute_input": "2020-11-04T04:12:12.282684Z",
     "iopub.status.busy": "2020-11-04T04:12:12.281593Z",
     "iopub.status.idle": "2020-11-04T04:12:12.450833Z",
     "shell.execute_reply": "2020-11-04T04:12:12.449821Z"
    },
    "papermill": {
     "duration": 0.218583,
     "end_time": "2020-11-04T04:12:12.450973",
     "exception": false,
     "start_time": "2020-11-04T04:12:12.232390",
     "status": "completed"
    },
    "tags": []
   },
   "outputs": [],
   "source": [
    "from sklearn.linear_model import LinearRegression\n",
    "# Initialize linear regression instance\n",
    "linreg = LinearRegression()\n",
    "\n",
    "# Fit the model to training dataset\n",
    "linreg.fit(train_X, train_Y)\n",
    "\n",
    "# Predict the target variable for training data\n",
    "train_pred_Y = linreg.predict(train_X)\n",
    "\n",
    "# Predict the target variable for testing data\n",
    "test_pred_Y = linreg.predict(test_X)"
   ]
  },
  {
   "cell_type": "code",
   "execution_count": 23,
   "metadata": {
    "execution": {
     "iopub.execute_input": "2020-11-04T04:12:12.561351Z",
     "iopub.status.busy": "2020-11-04T04:12:12.560231Z",
     "iopub.status.idle": "2020-11-04T04:12:12.564097Z",
     "shell.execute_reply": "2020-11-04T04:12:12.564927Z"
    },
    "papermill": {
     "duration": 0.074792,
     "end_time": "2020-11-04T04:12:12.568806",
     "exception": false,
     "start_time": "2020-11-04T04:12:12.494014",
     "status": "completed"
    },
    "tags": []
   },
   "outputs": [
    {
     "name": "stdout",
     "output_type": "stream",
     "text": [
      "RMSE train: 1.1701949844696629; RMSE test: 1.0159673743701567\n",
      "MAE train: 0.6862575178063991, MAE test: 0.641645526988784\n"
     ]
    }
   ],
   "source": [
    "from sklearn.metrics import mean_squared_error\n",
    "from sklearn.metrics import mean_absolute_error\n",
    "# Calculate root mean squared error on training data\n",
    "rmse_train = np.sqrt(mean_squared_error(train_Y, train_pred_Y))\n",
    "\n",
    "# Calculate mean absolute error on training data\n",
    "mae_train = mean_absolute_error(train_Y, train_pred_Y)\n",
    "\n",
    "# Calculate root mean squared error on testing data\n",
    "rmse_test = np.sqrt(mean_squared_error(test_Y, test_pred_Y))\n",
    "\n",
    "# Calculate mean absolute error on testing data\n",
    "mae_test = mean_absolute_error(test_Y, test_pred_Y)\n",
    "\n",
    "# Print the performance metrics\n",
    "print('RMSE train: {}; RMSE test: {}\\nMAE train: {}, MAE test: {}'.format(rmse_train, rmse_test, mae_train, mae_test))"
   ]
  },
  {
   "cell_type": "code",
   "execution_count": 24,
   "metadata": {
    "execution": {
     "iopub.execute_input": "2020-11-04T04:12:12.709556Z",
     "iopub.status.busy": "2020-11-04T04:12:12.708643Z",
     "iopub.status.idle": "2020-11-04T04:12:13.576819Z",
     "shell.execute_reply": "2020-11-04T04:12:13.577469Z"
    },
    "papermill": {
     "duration": 0.941525,
     "end_time": "2020-11-04T04:12:13.577677",
     "exception": false,
     "start_time": "2020-11-04T04:12:12.636152",
     "status": "completed"
    },
    "tags": []
   },
   "outputs": [
    {
     "name": "stdout",
     "output_type": "stream",
     "text": [
      "                                 OLS Regression Results                                \n",
      "=======================================================================================\n",
      "Dep. Variable:                     11   R-squared (uncentered):                   0.618\n",
      "Model:                            OLS   Adj. R-squared (uncentered):              0.618\n",
      "Method:                 Least Squares   F-statistic:                              930.8\n",
      "Date:                Wed, 04 Nov 2020   Prob (F-statistic):                        0.00\n",
      "Time:                        04:12:13   Log-Likelihood:                         -4536.2\n",
      "No. Observations:                2878   AIC:                                      9082.\n",
      "Df Residuals:                    2873   BIC:                                      9112.\n",
      "Df Model:                           5                                                  \n",
      "Covariance Type:            nonrobust                                                  \n",
      "==================================================================================\n",
      "                     coef    std err          t      P>|t|      [0.025      0.975]\n",
      "----------------------------------------------------------------------------------\n",
      "recency           -0.0003      0.000     -1.634      0.102      -0.001    6.29e-05\n",
      "frequency          0.1671      0.003     54.698      0.000       0.161       0.173\n",
      "monetary        7.238e-06   7.14e-06      1.014      0.311   -6.76e-06    2.12e-05\n",
      "quantity_avg      -0.0002      0.000     -0.936      0.349      -0.001       0.000\n",
      "quantity_total -1.084e-05   1.29e-05     -0.839      0.401   -3.62e-05    1.45e-05\n",
      "==============================================================================\n",
      "Omnibus:                     3050.656   Durbin-Watson:                   1.941\n",
      "Prob(Omnibus):                  0.000   Jarque-Bera (JB):          1103534.374\n",
      "Skew:                           4.615   Prob(JB):                         0.00\n",
      "Kurtosis:                      98.485   Cond. No.                     1.24e+03\n",
      "==============================================================================\n",
      "\n",
      "Warnings:\n",
      "[1] Standard Errors assume that the covariance matrix of the errors is correctly specified.\n",
      "[2] The condition number is large, 1.24e+03. This might indicate that there are\n",
      "strong multicollinearity or other numerical problems.\n"
     ]
    }
   ],
   "source": [
    "# Import `statsmodels.api` module\n",
    "import statsmodels.api as sm\n",
    "\n",
    "# Initialize model instance on the training data\n",
    "olsreg = sm.OLS(train_Y, train_X)\n",
    "\n",
    "# Fit the model\n",
    "olsreg = olsreg.fit()\n",
    "\n",
    "# Print model summary\n",
    "print(olsreg.summary())"
   ]
  },
  {
   "cell_type": "code",
   "execution_count": null,
   "metadata": {
    "papermill": {
     "duration": 0.043509,
     "end_time": "2020-11-04T04:12:13.672367",
     "exception": false,
     "start_time": "2020-11-04T04:12:13.628858",
     "status": "completed"
    },
    "tags": []
   },
   "outputs": [],
   "source": []
  }
 ],
 "metadata": {
  "kernelspec": {
   "display_name": "Python 3",
   "language": "python",
   "name": "python3"
  },
  "language_info": {
   "codemirror_mode": {
    "name": "ipython",
    "version": 3
   },
   "file_extension": ".py",
   "mimetype": "text/x-python",
   "name": "python",
   "nbconvert_exporter": "python",
   "pygments_lexer": "ipython3",
   "version": "3.8.8"
  },
  "papermill": {
   "duration": 317.960645,
   "end_time": "2020-11-04T04:12:13.825852",
   "environment_variables": {},
   "exception": null,
   "input_path": "__notebook__.ipynb",
   "output_path": "__notebook__.ipynb",
   "parameters": {},
   "start_time": "2020-11-04T04:06:55.865207",
   "version": "2.1.0"
  }
 },
 "nbformat": 4,
 "nbformat_minor": 4
}
