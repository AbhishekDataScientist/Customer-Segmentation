{
 "cells": [
  {
   "cell_type": "code",
   "execution_count": 1,
   "id": "e8f3f144",
   "metadata": {
    "_cell_guid": "b1076dfc-b9ad-4769-8c92-a6c4dae69d19",
    "_uuid": "8f2839f25d086af736a60e9eeb907d3b93b6e0e5",
    "execution": {
     "iopub.execute_input": "2021-07-08T12:56:17.225247Z",
     "iopub.status.busy": "2021-07-08T12:56:17.220182Z",
     "iopub.status.idle": "2021-07-08T12:56:17.242108Z",
     "shell.execute_reply": "2021-07-08T12:56:17.242683Z",
     "shell.execute_reply.started": "2021-07-08T11:54:35.950900Z"
    },
    "papermill": {
     "duration": 0.085943,
     "end_time": "2021-07-08T12:56:17.243031",
     "exception": false,
     "start_time": "2021-07-08T12:56:17.157088",
     "status": "completed"
    },
    "tags": []
   },
   "outputs": [
    {
     "name": "stdout",
     "output_type": "stream",
     "text": [
      "/kaggle/input/onlineretail/OnlineRetail.csv\n"
     ]
    }
   ],
   "source": [
    "# This Python 3 environment comes with many helpful analytics libraries installed\n",
    "# It is defined by the kaggle/python Docker image: https://github.com/kaggle/docker-python\n",
    "# For example, here's several helpful packages to load\n",
    "\n",
    "import numpy as np # linear algebra\n",
    "import pandas as pd # data processing, CSV file I/O (e.g. pd.read_csv)\n",
    "\n",
    "# Input data files are available in the read-only \"../input/\" directory\n",
    "# For example, running this (by clicking run or pressing Shift+Enter) will list all files under the input directory\n",
    "\n",
    "import os\n",
    "for dirname, _, filenames in os.walk('/kaggle/input'):\n",
    "    for filename in filenames:\n",
    "        print(os.path.join(dirname, filename))\n",
    "\n",
    "# You can write up to 20GB to the current directory (/kaggle/working/) that gets preserved as output when you create a version using \"Save & Run All\" \n",
    "# You can also write temporary files to /kaggle/temp/, but they won't be saved outside of the current session"
   ]
  },
  {
   "cell_type": "code",
   "execution_count": 2,
   "id": "c1b12059",
   "metadata": {
    "execution": {
     "iopub.execute_input": "2021-07-08T12:56:17.335667Z",
     "iopub.status.busy": "2021-07-08T12:56:17.334705Z",
     "iopub.status.idle": "2021-07-08T12:56:18.684772Z",
     "shell.execute_reply": "2021-07-08T12:56:18.685360Z",
     "shell.execute_reply.started": "2021-07-08T12:48:50.660194Z"
    },
    "papermill": {
     "duration": 1.397618,
     "end_time": "2021-07-08T12:56:18.685585",
     "exception": false,
     "start_time": "2021-07-08T12:56:17.287967",
     "status": "completed"
    },
    "tags": []
   },
   "outputs": [
    {
     "name": "stdout",
     "output_type": "stream",
     "text": [
      "['onlineretail']\n"
     ]
    }
   ],
   "source": [
    "import numpy as np\n",
    "import pandas as pd\n",
    "import datetime as dt\n",
    "\n",
    "pd.set_option('display.max_columns', None)\n",
    "pd.set_option('display.float_format', lambda x: '%.5f' % x)\n",
    "\n",
    "import matplotlib.pyplot as plt\n",
    "import squarify\n",
    "import seaborn as sns\n",
    "\n",
    "\n",
    "import os\n",
    "print(os.listdir('../input/'))\n",
    "\n",
    "\n",
    "import warnings\n",
    "warnings.filterwarnings(\"ignore\")\n",
    "warnings.simplefilter(action='ignore', category=FutureWarning)"
   ]
  },
  {
   "cell_type": "markdown",
   "id": "54e9406f",
   "metadata": {
    "papermill": {
     "duration": 0.028662,
     "end_time": "2021-07-08T12:56:18.744906",
     "exception": false,
     "start_time": "2021-07-08T12:56:18.716244",
     "status": "completed"
    },
    "tags": []
   },
   "source": [
    "# read data"
   ]
  },
  {
   "cell_type": "code",
   "execution_count": 3,
   "id": "d3ec9c20",
   "metadata": {
    "execution": {
     "iopub.execute_input": "2021-07-08T12:56:18.808205Z",
     "iopub.status.busy": "2021-07-08T12:56:18.807673Z",
     "iopub.status.idle": "2021-07-08T12:56:20.391966Z",
     "shell.execute_reply": "2021-07-08T12:56:20.391168Z",
     "shell.execute_reply.started": "2021-07-08T11:54:37.277117Z"
    },
    "papermill": {
     "duration": 1.618156,
     "end_time": "2021-07-08T12:56:20.392139",
     "exception": false,
     "start_time": "2021-07-08T12:56:18.773983",
     "status": "completed"
    },
    "tags": []
   },
   "outputs": [
    {
     "name": "stdout",
     "output_type": "stream",
     "text": [
      "(541909, 8)\n"
     ]
    },
    {
     "data": {
      "text/html": [
       "<div>\n",
       "<style scoped>\n",
       "    .dataframe tbody tr th:only-of-type {\n",
       "        vertical-align: middle;\n",
       "    }\n",
       "\n",
       "    .dataframe tbody tr th {\n",
       "        vertical-align: top;\n",
       "    }\n",
       "\n",
       "    .dataframe thead th {\n",
       "        text-align: right;\n",
       "    }\n",
       "</style>\n",
       "<table border=\"1\" class=\"dataframe\">\n",
       "  <thead>\n",
       "    <tr style=\"text-align: right;\">\n",
       "      <th></th>\n",
       "      <th>InvoiceNo</th>\n",
       "      <th>StockCode</th>\n",
       "      <th>Description</th>\n",
       "      <th>Quantity</th>\n",
       "      <th>InvoiceDate</th>\n",
       "      <th>UnitPrice</th>\n",
       "      <th>CustomerID</th>\n",
       "      <th>Country</th>\n",
       "    </tr>\n",
       "  </thead>\n",
       "  <tbody>\n",
       "    <tr>\n",
       "      <th>0</th>\n",
       "      <td>536365</td>\n",
       "      <td>85123A</td>\n",
       "      <td>WHITE HANGING HEART T-LIGHT HOLDER</td>\n",
       "      <td>6</td>\n",
       "      <td>12/1/2010 8:26</td>\n",
       "      <td>2.55000</td>\n",
       "      <td>17850.00000</td>\n",
       "      <td>United Kingdom</td>\n",
       "    </tr>\n",
       "    <tr>\n",
       "      <th>1</th>\n",
       "      <td>536365</td>\n",
       "      <td>71053</td>\n",
       "      <td>WHITE METAL LANTERN</td>\n",
       "      <td>6</td>\n",
       "      <td>12/1/2010 8:26</td>\n",
       "      <td>3.39000</td>\n",
       "      <td>17850.00000</td>\n",
       "      <td>United Kingdom</td>\n",
       "    </tr>\n",
       "    <tr>\n",
       "      <th>2</th>\n",
       "      <td>536365</td>\n",
       "      <td>84406B</td>\n",
       "      <td>CREAM CUPID HEARTS COAT HANGER</td>\n",
       "      <td>8</td>\n",
       "      <td>12/1/2010 8:26</td>\n",
       "      <td>2.75000</td>\n",
       "      <td>17850.00000</td>\n",
       "      <td>United Kingdom</td>\n",
       "    </tr>\n",
       "    <tr>\n",
       "      <th>3</th>\n",
       "      <td>536365</td>\n",
       "      <td>84029G</td>\n",
       "      <td>KNITTED UNION FLAG HOT WATER BOTTLE</td>\n",
       "      <td>6</td>\n",
       "      <td>12/1/2010 8:26</td>\n",
       "      <td>3.39000</td>\n",
       "      <td>17850.00000</td>\n",
       "      <td>United Kingdom</td>\n",
       "    </tr>\n",
       "    <tr>\n",
       "      <th>4</th>\n",
       "      <td>536365</td>\n",
       "      <td>84029E</td>\n",
       "      <td>RED WOOLLY HOTTIE WHITE HEART.</td>\n",
       "      <td>6</td>\n",
       "      <td>12/1/2010 8:26</td>\n",
       "      <td>3.39000</td>\n",
       "      <td>17850.00000</td>\n",
       "      <td>United Kingdom</td>\n",
       "    </tr>\n",
       "  </tbody>\n",
       "</table>\n",
       "</div>"
      ],
      "text/plain": [
       "  InvoiceNo StockCode                          Description  Quantity  \\\n",
       "0    536365    85123A   WHITE HANGING HEART T-LIGHT HOLDER         6   \n",
       "1    536365     71053                  WHITE METAL LANTERN         6   \n",
       "2    536365    84406B       CREAM CUPID HEARTS COAT HANGER         8   \n",
       "3    536365    84029G  KNITTED UNION FLAG HOT WATER BOTTLE         6   \n",
       "4    536365    84029E       RED WOOLLY HOTTIE WHITE HEART.         6   \n",
       "\n",
       "      InvoiceDate  UnitPrice  CustomerID         Country  \n",
       "0  12/1/2010 8:26    2.55000 17850.00000  United Kingdom  \n",
       "1  12/1/2010 8:26    3.39000 17850.00000  United Kingdom  \n",
       "2  12/1/2010 8:26    2.75000 17850.00000  United Kingdom  \n",
       "3  12/1/2010 8:26    3.39000 17850.00000  United Kingdom  \n",
       "4  12/1/2010 8:26    3.39000 17850.00000  United Kingdom  "
      ]
     },
     "execution_count": 3,
     "metadata": {},
     "output_type": "execute_result"
    }
   ],
   "source": [
    "df = pd.read_csv('../input/onlineretail/OnlineRetail.csv', encoding = 'unicode_escape')\n",
    "print(df.shape)\n",
    "df.head()"
   ]
  },
  {
   "cell_type": "code",
   "execution_count": 4,
   "id": "dc966bfc",
   "metadata": {
    "execution": {
     "iopub.execute_input": "2021-07-08T12:56:20.485646Z",
     "iopub.status.busy": "2021-07-08T12:56:20.484930Z",
     "iopub.status.idle": "2021-07-08T12:56:20.598618Z",
     "shell.execute_reply": "2021-07-08T12:56:20.599165Z",
     "shell.execute_reply.started": "2021-07-08T11:54:38.632698Z"
    },
    "papermill": {
     "duration": 0.1642,
     "end_time": "2021-07-08T12:56:20.599387",
     "exception": false,
     "start_time": "2021-07-08T12:56:20.435187",
     "status": "completed"
    },
    "tags": []
   },
   "outputs": [
    {
     "name": "stdout",
     "output_type": "stream",
     "text": [
      "<class 'pandas.core.frame.DataFrame'>\n",
      "RangeIndex: 541909 entries, 0 to 541908\n",
      "Data columns (total 8 columns):\n",
      " #   Column       Non-Null Count   Dtype  \n",
      "---  ------       --------------   -----  \n",
      " 0   InvoiceNo    541909 non-null  object \n",
      " 1   StockCode    541909 non-null  object \n",
      " 2   Description  540455 non-null  object \n",
      " 3   Quantity     541909 non-null  int64  \n",
      " 4   InvoiceDate  541909 non-null  object \n",
      " 5   UnitPrice    541909 non-null  float64\n",
      " 6   CustomerID   406829 non-null  float64\n",
      " 7   Country      541909 non-null  object \n",
      "dtypes: float64(2), int64(1), object(5)\n",
      "memory usage: 33.1+ MB\n"
     ]
    }
   ],
   "source": [
    "df.info()"
   ]
  },
  {
   "cell_type": "markdown",
   "id": "14013260",
   "metadata": {
    "papermill": {
     "duration": 0.043584,
     "end_time": "2021-07-08T12:56:20.689727",
     "exception": false,
     "start_time": "2021-07-08T12:56:20.646143",
     "status": "completed"
    },
    "tags": []
   },
   "source": [
    "# Data Preperation"
   ]
  },
  {
   "cell_type": "code",
   "execution_count": 5,
   "id": "5789ced1",
   "metadata": {
    "execution": {
     "iopub.execute_input": "2021-07-08T12:56:20.785318Z",
     "iopub.status.busy": "2021-07-08T12:56:20.784758Z",
     "iopub.status.idle": "2021-07-08T12:56:21.150039Z",
     "shell.execute_reply": "2021-07-08T12:56:21.149443Z",
     "shell.execute_reply.started": "2021-07-08T12:28:45.329074Z"
    },
    "papermill": {
     "duration": 0.416202,
     "end_time": "2021-07-08T12:56:21.150169",
     "exception": false,
     "start_time": "2021-07-08T12:56:20.733967",
     "status": "completed"
    },
    "tags": []
   },
   "outputs": [],
   "source": [
    "df.dropna(inplace=True)\n",
    "# there are negative values on Quantity variable, this is caused by the refund invoices (Invoices containing the letter \"C\"), reassign df without refund invoices\n",
    "df = df[~df[\"InvoiceNo\"].str.contains(\"C\", na=False)]"
   ]
  },
  {
   "cell_type": "code",
   "execution_count": 6,
   "id": "9c886f54",
   "metadata": {
    "execution": {
     "iopub.execute_input": "2021-07-08T12:56:21.219061Z",
     "iopub.status.busy": "2021-07-08T12:56:21.218339Z",
     "iopub.status.idle": "2021-07-08T12:56:21.279061Z",
     "shell.execute_reply": "2021-07-08T12:56:21.278409Z",
     "shell.execute_reply.started": "2021-07-08T12:28:57.845169Z"
    },
    "papermill": {
     "duration": 0.100199,
     "end_time": "2021-07-08T12:56:21.279222",
     "exception": false,
     "start_time": "2021-07-08T12:56:21.179023",
     "status": "completed"
    },
    "tags": []
   },
   "outputs": [
    {
     "data": {
      "text/html": [
       "<div>\n",
       "<style scoped>\n",
       "    .dataframe tbody tr th:only-of-type {\n",
       "        vertical-align: middle;\n",
       "    }\n",
       "\n",
       "    .dataframe tbody tr th {\n",
       "        vertical-align: top;\n",
       "    }\n",
       "\n",
       "    .dataframe thead th {\n",
       "        text-align: right;\n",
       "    }\n",
       "</style>\n",
       "<table border=\"1\" class=\"dataframe\">\n",
       "  <thead>\n",
       "    <tr style=\"text-align: right;\">\n",
       "      <th></th>\n",
       "      <th>count</th>\n",
       "      <th>mean</th>\n",
       "      <th>std</th>\n",
       "      <th>min</th>\n",
       "      <th>1%</th>\n",
       "      <th>5%</th>\n",
       "      <th>10%</th>\n",
       "      <th>25%</th>\n",
       "      <th>50%</th>\n",
       "      <th>75%</th>\n",
       "      <th>90%</th>\n",
       "      <th>95%</th>\n",
       "      <th>99%</th>\n",
       "      <th>max</th>\n",
       "    </tr>\n",
       "  </thead>\n",
       "  <tbody>\n",
       "    <tr>\n",
       "      <th>Quantity</th>\n",
       "      <td>397924.00000</td>\n",
       "      <td>13.02182</td>\n",
       "      <td>180.42021</td>\n",
       "      <td>1.00000</td>\n",
       "      <td>1.00000</td>\n",
       "      <td>1.00000</td>\n",
       "      <td>1.00000</td>\n",
       "      <td>2.00000</td>\n",
       "      <td>6.00000</td>\n",
       "      <td>12.00000</td>\n",
       "      <td>24.00000</td>\n",
       "      <td>36.00000</td>\n",
       "      <td>120.00000</td>\n",
       "      <td>80995.00000</td>\n",
       "    </tr>\n",
       "    <tr>\n",
       "      <th>UnitPrice</th>\n",
       "      <td>397924.00000</td>\n",
       "      <td>3.11617</td>\n",
       "      <td>22.09679</td>\n",
       "      <td>0.00000</td>\n",
       "      <td>0.21000</td>\n",
       "      <td>0.42000</td>\n",
       "      <td>0.55000</td>\n",
       "      <td>1.25000</td>\n",
       "      <td>1.95000</td>\n",
       "      <td>3.75000</td>\n",
       "      <td>6.35000</td>\n",
       "      <td>8.50000</td>\n",
       "      <td>14.95000</td>\n",
       "      <td>8142.75000</td>\n",
       "    </tr>\n",
       "    <tr>\n",
       "      <th>CustomerID</th>\n",
       "      <td>397924.00000</td>\n",
       "      <td>15294.31517</td>\n",
       "      <td>1713.16988</td>\n",
       "      <td>12346.00000</td>\n",
       "      <td>12415.00000</td>\n",
       "      <td>12627.00000</td>\n",
       "      <td>12883.00000</td>\n",
       "      <td>13969.00000</td>\n",
       "      <td>15159.00000</td>\n",
       "      <td>16795.00000</td>\n",
       "      <td>17725.00000</td>\n",
       "      <td>17912.00000</td>\n",
       "      <td>18211.00000</td>\n",
       "      <td>18287.00000</td>\n",
       "    </tr>\n",
       "  </tbody>\n",
       "</table>\n",
       "</div>"
      ],
      "text/plain": [
       "                  count        mean        std         min          1%  \\\n",
       "Quantity   397924.00000    13.02182  180.42021     1.00000     1.00000   \n",
       "UnitPrice  397924.00000     3.11617   22.09679     0.00000     0.21000   \n",
       "CustomerID 397924.00000 15294.31517 1713.16988 12346.00000 12415.00000   \n",
       "\n",
       "                    5%         10%         25%         50%         75%  \\\n",
       "Quantity       1.00000     1.00000     2.00000     6.00000    12.00000   \n",
       "UnitPrice      0.42000     0.55000     1.25000     1.95000     3.75000   \n",
       "CustomerID 12627.00000 12883.00000 13969.00000 15159.00000 16795.00000   \n",
       "\n",
       "                   90%         95%         99%         max  \n",
       "Quantity      24.00000    36.00000   120.00000 80995.00000  \n",
       "UnitPrice      6.35000     8.50000    14.95000  8142.75000  \n",
       "CustomerID 17725.00000 17912.00000 18211.00000 18287.00000  "
      ]
     },
     "execution_count": 6,
     "metadata": {},
     "output_type": "execute_result"
    }
   ],
   "source": [
    "df.describe([0.01, 0.05, 0.10, 0.25, 0.50, 0.75, 0.90, 0.95, 0.99]).T"
   ]
  },
  {
   "cell_type": "markdown",
   "id": "92fd090f",
   "metadata": {
    "papermill": {
     "duration": 0.045606,
     "end_time": "2021-07-08T12:56:21.370194",
     "exception": false,
     "start_time": "2021-07-08T12:56:21.324588",
     "status": "completed"
    },
    "tags": []
   },
   "source": [
    "#### negative values are excluded. We are not removing outliers (such as the max value on Quantity and Price variables)"
   ]
  },
  {
   "cell_type": "markdown",
   "id": "898af013",
   "metadata": {
    "papermill": {
     "duration": 0.044293,
     "end_time": "2021-07-08T12:56:21.457731",
     "exception": false,
     "start_time": "2021-07-08T12:56:21.413438",
     "status": "completed"
    },
    "tags": []
   },
   "source": [
    "# data visualization"
   ]
  },
  {
   "cell_type": "code",
   "execution_count": 7,
   "id": "d7da7944",
   "metadata": {
    "execution": {
     "iopub.execute_input": "2021-07-08T12:56:21.554265Z",
     "iopub.status.busy": "2021-07-08T12:56:21.553555Z",
     "iopub.status.idle": "2021-07-08T12:56:22.766907Z",
     "shell.execute_reply": "2021-07-08T12:56:22.767805Z",
     "shell.execute_reply.started": "2021-07-08T12:36:20.435988Z"
    },
    "papermill": {
     "duration": 1.265415,
     "end_time": "2021-07-08T12:56:22.768099",
     "exception": false,
     "start_time": "2021-07-08T12:56:21.502684",
     "status": "completed"
    },
    "tags": []
   },
   "outputs": [
    {
     "data": {
      "image/png": "[encoded data removed]",
      "text/plain": [
       "<Figure size 432x288 with 1 Axes>"
      ]
     },
     "metadata": {
      "needs_background": "light"
     },
     "output_type": "display_data"
    }
   ],
   "source": [
    "df[[\"Quantity\", \"UnitPrice\"]].boxplot();"
   ]
  },
  {
   "cell_type": "code",
   "execution_count": 8,
   "id": "dad721fb",
   "metadata": {
    "execution": {
     "iopub.execute_input": "2021-07-08T12:56:22.907951Z",
     "iopub.status.busy": "2021-07-08T12:56:22.906179Z",
     "iopub.status.idle": "2021-07-08T12:56:23.283314Z",
     "shell.execute_reply": "2021-07-08T12:56:23.282819Z",
     "shell.execute_reply.started": "2021-07-08T12:29:41.247631Z"
    },
    "papermill": {
     "duration": 0.459388,
     "end_time": "2021-07-08T12:56:23.283462",
     "exception": false,
     "start_time": "2021-07-08T12:56:22.824074",
     "status": "completed"
    },
    "tags": []
   },
   "outputs": [
    {
     "data": {
      "image/png": "[encoded data removed]",
      "text/plain": [
       "<Figure size 864x720 with 1 Axes>"
      ]
     },
     "metadata": {
      "needs_background": "light"
     },
     "output_type": "display_data"
    }
   ],
   "source": [
    "# checking the different values for country in the dataset\n",
    "\n",
    "plt.rcParams['figure.figsize'] = (12, 10)\n",
    "a = df['Country'].value_counts().head(21)[1:]\n",
    "sns.barplot(x = a.values, y = a.index, palette = 'PuBuGn_d')\n",
    "plt.title('Top 20 Countries having Online Retail Market except UK', fontsize = 20)\n",
    "plt.xlabel('Names of Countries')\n",
    "plt.ylabel('Count')\n",
    "plt.show()"
   ]
  },
  {
   "cell_type": "code",
   "execution_count": 9,
   "id": "1b7b9ce4",
   "metadata": {
    "execution": {
     "iopub.execute_input": "2021-07-08T12:56:23.366344Z",
     "iopub.status.busy": "2021-07-08T12:56:23.365523Z",
     "iopub.status.idle": "2021-07-08T12:56:23.693074Z",
     "shell.execute_reply": "2021-07-08T12:56:23.692530Z",
     "shell.execute_reply.started": "2021-07-08T12:29:43.774675Z"
    },
    "papermill": {
     "duration": 0.376356,
     "end_time": "2021-07-08T12:56:23.693200",
     "exception": false,
     "start_time": "2021-07-08T12:56:23.316844",
     "status": "completed"
    },
    "tags": []
   },
   "outputs": [
    {
     "data": {
      "image/png": "[encoded data removed]",
      "text/plain": [
       "<Figure size 1080x504 with 1 Axes>"
      ]
     },
     "metadata": {
      "needs_background": "light"
     },
     "output_type": "display_data"
    }
   ],
   "source": [
    "# looking at each country's sales\n",
    "color = plt.cm.viridis(np.linspace(0, 1, 20))\n",
    "df['Sales'] = df['UnitPrice'] * df['Quantity']\n",
    "df['Sales'].groupby(df['Country']).agg('sum').sort_values(ascending = False).head(21)[1:].plot.bar(figsize = (15, 7),color = color)\n",
    "#sns.barplot(x = b.values, y = b.index, palette = 'magma')\n",
    "plt.title('Top 20 Sales of all the Countries Except UK', fontsize = 20)\n",
    "plt.xlabel('Names of the Countries')\n",
    "plt.ylabel('Number of sales')\n",
    "plt.show()"
   ]
  },
  {
   "cell_type": "code",
   "execution_count": 10,
   "id": "cc5158c7",
   "metadata": {
    "execution": {
     "iopub.execute_input": "2021-07-08T12:56:23.767486Z",
     "iopub.status.busy": "2021-07-08T12:56:23.766836Z",
     "iopub.status.idle": "2021-07-08T12:56:24.640048Z",
     "shell.execute_reply": "2021-07-08T12:56:24.639153Z",
     "shell.execute_reply.started": "2021-07-08T12:29:44.192821Z"
    },
    "papermill": {
     "duration": 0.912891,
     "end_time": "2021-07-08T12:56:24.640223",
     "exception": false,
     "start_time": "2021-07-08T12:56:23.727332",
     "status": "completed"
    },
    "tags": []
   },
   "outputs": [
    {
     "name": "stdout",
     "output_type": "stream",
     "text": [
      "<wordcloud.wordcloud.WordCloud object at 0x7fdef5117390>\n"
     ]
    },
    {
     "data": {
      "image/png": "[encoded data removed]",
      "text/plain": [
       "<Figure size 864x864 with 1 Axes>"
      ]
     },
     "metadata": {
      "needs_background": "light"
     },
     "output_type": "display_data"
    }
   ],
   "source": [
    "from wordcloud import WordCloud\n",
    "from wordcloud import STOPWORDS\n",
    "\n",
    "stopwords = set(STOPWORDS)\n",
    "wordcloud = WordCloud(background_color = 'white', width = 900, height = 900).generate(str(df['Description']))\n",
    "\n",
    "print(wordcloud)\n",
    "plt.rcParams['figure.figsize'] = (12, 12)\n",
    "plt.axis('off')\n",
    "plt.imshow(wordcloud)\n",
    "plt.title('Most Occuring word in the Description list', fontsize = 20)\n",
    "plt.show()"
   ]
  },
  {
   "cell_type": "code",
   "execution_count": 11,
   "id": "eb56eb3d",
   "metadata": {
    "execution": {
     "iopub.execute_input": "2021-07-08T12:56:24.759541Z",
     "iopub.status.busy": "2021-07-08T12:56:24.758830Z",
     "iopub.status.idle": "2021-07-08T12:56:24.877850Z",
     "shell.execute_reply": "2021-07-08T12:56:24.877030Z",
     "shell.execute_reply.started": "2021-07-08T12:29:44.988458Z"
    },
    "papermill": {
     "duration": 0.181021,
     "end_time": "2021-07-08T12:56:24.878036",
     "exception": false,
     "start_time": "2021-07-08T12:56:24.697015",
     "status": "completed"
    },
    "tags": []
   },
   "outputs": [
    {
     "name": "stdout",
     "output_type": "stream",
     "text": [
      "There are 4339 number of different customers\n",
      "There are 37 number of different countries who do online retailing from UK\n"
     ]
    }
   ],
   "source": [
    "# checking how many unique customer IDs and different number of unique countriesare there\n",
    "\n",
    "x = df['CustomerID'].nunique()\n",
    "y = df['Country'].nunique()\n",
    "\n",
    "# printing the value\n",
    "print(\"There are {} number of different customers\".format(x))\n",
    "print(\"There are {} number of different countries who do online retailing from UK\".format(y))\n"
   ]
  },
  {
   "cell_type": "code",
   "execution_count": 12,
   "id": "8131d3e5",
   "metadata": {
    "execution": {
     "iopub.execute_input": "2021-07-08T12:56:25.060504Z",
     "iopub.status.busy": "2021-07-08T12:56:25.059681Z",
     "iopub.status.idle": "2021-07-08T12:56:25.335524Z",
     "shell.execute_reply": "2021-07-08T12:56:25.334872Z",
     "shell.execute_reply.started": "2021-07-08T12:29:45.078139Z"
    },
    "papermill": {
     "duration": 0.402263,
     "end_time": "2021-07-08T12:56:25.335681",
     "exception": false,
     "start_time": "2021-07-08T12:56:24.933418",
     "status": "completed"
    },
    "tags": []
   },
   "outputs": [
    {
     "data": {
      "image/png": "[encoded data removed]",
      "text/plain": [
       "<Figure size 864x864 with 1 Axes>"
      ]
     },
     "metadata": {
      "needs_background": "light"
     },
     "output_type": "display_data"
    }
   ],
   "source": [
    "# time-series plot for Australia\n",
    "\n",
    "dataset = df[df['Country'] == 'Australia']\n",
    "dataset.plot(x = 'InvoiceDate', y = 'Sales')\n",
    "plt.title('Time-Series for Australia', fontsize = 20)\n",
    "plt.xlabel('Date of Purchase')\n",
    "plt.ylabel('Sales Amount')\n",
    "plt.show()"
   ]
  },
  {
   "cell_type": "markdown",
   "id": "1dbe90ec",
   "metadata": {
    "papermill": {
     "duration": 0.045716,
     "end_time": "2021-07-08T12:56:25.422782",
     "exception": false,
     "start_time": "2021-07-08T12:56:25.377066",
     "status": "completed"
    },
    "tags": []
   },
   "source": [
    "# Cohort Analysis"
   ]
  },
  {
   "cell_type": "code",
   "execution_count": 13,
   "id": "db4b216d",
   "metadata": {
    "execution": {
     "iopub.execute_input": "2021-07-08T12:56:25.555825Z",
     "iopub.status.busy": "2021-07-08T12:56:25.555222Z",
     "iopub.status.idle": "2021-07-08T12:56:27.301576Z",
     "shell.execute_reply": "2021-07-08T12:56:27.301003Z",
     "shell.execute_reply.started": "2021-07-08T12:30:01.518103Z"
    },
    "papermill": {
     "duration": 1.833056,
     "end_time": "2021-07-08T12:56:27.301752",
     "exception": false,
     "start_time": "2021-07-08T12:56:25.468696",
     "status": "completed"
    },
    "tags": []
   },
   "outputs": [
    {
     "data": {
      "text/html": [
       "<div>\n",
       "<style scoped>\n",
       "    .dataframe tbody tr th:only-of-type {\n",
       "        vertical-align: middle;\n",
       "    }\n",
       "\n",
       "    .dataframe tbody tr th {\n",
       "        vertical-align: top;\n",
       "    }\n",
       "\n",
       "    .dataframe thead th {\n",
       "        text-align: right;\n",
       "    }\n",
       "</style>\n",
       "<table border=\"1\" class=\"dataframe\">\n",
       "  <thead>\n",
       "    <tr style=\"text-align: right;\">\n",
       "      <th></th>\n",
       "      <th>InvoiceNo</th>\n",
       "      <th>StockCode</th>\n",
       "      <th>Description</th>\n",
       "      <th>Quantity</th>\n",
       "      <th>InvoiceDate</th>\n",
       "      <th>UnitPrice</th>\n",
       "      <th>CustomerID</th>\n",
       "      <th>Country</th>\n",
       "      <th>Sales</th>\n",
       "    </tr>\n",
       "  </thead>\n",
       "  <tbody>\n",
       "    <tr>\n",
       "      <th>0</th>\n",
       "      <td>536365</td>\n",
       "      <td>85123A</td>\n",
       "      <td>WHITE HANGING HEART T-LIGHT HOLDER</td>\n",
       "      <td>6</td>\n",
       "      <td>2010-12-01 08:26:00</td>\n",
       "      <td>2.55000</td>\n",
       "      <td>17850.00000</td>\n",
       "      <td>United Kingdom</td>\n",
       "      <td>15.30000</td>\n",
       "    </tr>\n",
       "    <tr>\n",
       "      <th>1</th>\n",
       "      <td>536365</td>\n",
       "      <td>71053</td>\n",
       "      <td>WHITE METAL LANTERN</td>\n",
       "      <td>6</td>\n",
       "      <td>2010-12-01 08:26:00</td>\n",
       "      <td>3.39000</td>\n",
       "      <td>17850.00000</td>\n",
       "      <td>United Kingdom</td>\n",
       "      <td>20.34000</td>\n",
       "    </tr>\n",
       "  </tbody>\n",
       "</table>\n",
       "</div>"
      ],
      "text/plain": [
       "  InvoiceNo StockCode                         Description  Quantity  \\\n",
       "0    536365    85123A  WHITE HANGING HEART T-LIGHT HOLDER         6   \n",
       "1    536365     71053                 WHITE METAL LANTERN         6   \n",
       "\n",
       "          InvoiceDate  UnitPrice  CustomerID         Country    Sales  \n",
       "0 2010-12-01 08:26:00    2.55000 17850.00000  United Kingdom 15.30000  \n",
       "1 2010-12-01 08:26:00    3.39000 17850.00000  United Kingdom 20.34000  "
      ]
     },
     "execution_count": 13,
     "metadata": {},
     "output_type": "execute_result"
    }
   ],
   "source": [
    "df['InvoiceDate'] = pd.to_datetime(df['InvoiceDate'])\n",
    "df.head(2)"
   ]
  },
  {
   "cell_type": "code",
   "execution_count": 14,
   "id": "9b60ef01",
   "metadata": {
    "execution": {
     "iopub.execute_input": "2021-07-08T12:56:27.389277Z",
     "iopub.status.busy": "2021-07-08T12:56:27.388746Z",
     "iopub.status.idle": "2021-07-08T12:56:29.534788Z",
     "shell.execute_reply": "2021-07-08T12:56:29.534150Z",
     "shell.execute_reply.started": "2021-07-08T12:30:02.348527Z"
    },
    "papermill": {
     "duration": 2.191136,
     "end_time": "2021-07-08T12:56:29.534936",
     "exception": false,
     "start_time": "2021-07-08T12:56:27.343800",
     "status": "completed"
    },
    "tags": []
   },
   "outputs": [
    {
     "data": {
      "text/html": [
       "<div>\n",
       "<style scoped>\n",
       "    .dataframe tbody tr th:only-of-type {\n",
       "        vertical-align: middle;\n",
       "    }\n",
       "\n",
       "    .dataframe tbody tr th {\n",
       "        vertical-align: top;\n",
       "    }\n",
       "\n",
       "    .dataframe thead th {\n",
       "        text-align: right;\n",
       "    }\n",
       "</style>\n",
       "<table border=\"1\" class=\"dataframe\">\n",
       "  <thead>\n",
       "    <tr style=\"text-align: right;\">\n",
       "      <th></th>\n",
       "      <th>InvoiceNo</th>\n",
       "      <th>StockCode</th>\n",
       "      <th>Description</th>\n",
       "      <th>Quantity</th>\n",
       "      <th>InvoiceDate</th>\n",
       "      <th>UnitPrice</th>\n",
       "      <th>CustomerID</th>\n",
       "      <th>Country</th>\n",
       "      <th>Sales</th>\n",
       "      <th>InvoiceMonth</th>\n",
       "      <th>CohortMonth</th>\n",
       "    </tr>\n",
       "  </thead>\n",
       "  <tbody>\n",
       "    <tr>\n",
       "      <th>0</th>\n",
       "      <td>536365</td>\n",
       "      <td>85123A</td>\n",
       "      <td>WHITE HANGING HEART T-LIGHT HOLDER</td>\n",
       "      <td>6</td>\n",
       "      <td>2010-12-01 08:26:00</td>\n",
       "      <td>2.55000</td>\n",
       "      <td>17850.00000</td>\n",
       "      <td>United Kingdom</td>\n",
       "      <td>15.30000</td>\n",
       "      <td>2010-12-01</td>\n",
       "      <td>2010-12-01</td>\n",
       "    </tr>\n",
       "    <tr>\n",
       "      <th>1</th>\n",
       "      <td>536365</td>\n",
       "      <td>71053</td>\n",
       "      <td>WHITE METAL LANTERN</td>\n",
       "      <td>6</td>\n",
       "      <td>2010-12-01 08:26:00</td>\n",
       "      <td>3.39000</td>\n",
       "      <td>17850.00000</td>\n",
       "      <td>United Kingdom</td>\n",
       "      <td>20.34000</td>\n",
       "      <td>2010-12-01</td>\n",
       "      <td>2010-12-01</td>\n",
       "    </tr>\n",
       "    <tr>\n",
       "      <th>2</th>\n",
       "      <td>536365</td>\n",
       "      <td>84406B</td>\n",
       "      <td>CREAM CUPID HEARTS COAT HANGER</td>\n",
       "      <td>8</td>\n",
       "      <td>2010-12-01 08:26:00</td>\n",
       "      <td>2.75000</td>\n",
       "      <td>17850.00000</td>\n",
       "      <td>United Kingdom</td>\n",
       "      <td>22.00000</td>\n",
       "      <td>2010-12-01</td>\n",
       "      <td>2010-12-01</td>\n",
       "    </tr>\n",
       "    <tr>\n",
       "      <th>3</th>\n",
       "      <td>536365</td>\n",
       "      <td>84029G</td>\n",
       "      <td>KNITTED UNION FLAG HOT WATER BOTTLE</td>\n",
       "      <td>6</td>\n",
       "      <td>2010-12-01 08:26:00</td>\n",
       "      <td>3.39000</td>\n",
       "      <td>17850.00000</td>\n",
       "      <td>United Kingdom</td>\n",
       "      <td>20.34000</td>\n",
       "      <td>2010-12-01</td>\n",
       "      <td>2010-12-01</td>\n",
       "    </tr>\n",
       "    <tr>\n",
       "      <th>4</th>\n",
       "      <td>536365</td>\n",
       "      <td>84029E</td>\n",
       "      <td>RED WOOLLY HOTTIE WHITE HEART.</td>\n",
       "      <td>6</td>\n",
       "      <td>2010-12-01 08:26:00</td>\n",
       "      <td>3.39000</td>\n",
       "      <td>17850.00000</td>\n",
       "      <td>United Kingdom</td>\n",
       "      <td>20.34000</td>\n",
       "      <td>2010-12-01</td>\n",
       "      <td>2010-12-01</td>\n",
       "    </tr>\n",
       "  </tbody>\n",
       "</table>\n",
       "</div>"
      ],
      "text/plain": [
       "  InvoiceNo StockCode                          Description  Quantity  \\\n",
       "0    536365    85123A   WHITE HANGING HEART T-LIGHT HOLDER         6   \n",
       "1    536365     71053                  WHITE METAL LANTERN         6   \n",
       "2    536365    84406B       CREAM CUPID HEARTS COAT HANGER         8   \n",
       "3    536365    84029G  KNITTED UNION FLAG HOT WATER BOTTLE         6   \n",
       "4    536365    84029E       RED WOOLLY HOTTIE WHITE HEART.         6   \n",
       "\n",
       "          InvoiceDate  UnitPrice  CustomerID         Country    Sales  \\\n",
       "0 2010-12-01 08:26:00    2.55000 17850.00000  United Kingdom 15.30000   \n",
       "1 2010-12-01 08:26:00    3.39000 17850.00000  United Kingdom 20.34000   \n",
       "2 2010-12-01 08:26:00    2.75000 17850.00000  United Kingdom 22.00000   \n",
       "3 2010-12-01 08:26:00    3.39000 17850.00000  United Kingdom 20.34000   \n",
       "4 2010-12-01 08:26:00    3.39000 17850.00000  United Kingdom 20.34000   \n",
       "\n",
       "  InvoiceMonth CohortMonth  \n",
       "0   2010-12-01  2010-12-01  \n",
       "1   2010-12-01  2010-12-01  \n",
       "2   2010-12-01  2010-12-01  \n",
       "3   2010-12-01  2010-12-01  \n",
       "4   2010-12-01  2010-12-01  "
      ]
     },
     "execution_count": 14,
     "metadata": {},
     "output_type": "execute_result"
    }
   ],
   "source": [
    "#creating invoice month column to see first month when customer purchased \n",
    "df['InvoiceMonth'] = df['InvoiceDate'].apply(lambda x: dt.datetime(x.year, x.month, 1))\n",
    "\n",
    "#assign smallest invoice value to each customer\n",
    "df['CohortMonth'] = df.groupby('CustomerID')['InvoiceMonth'].transform('min')\n",
    "df.head()"
   ]
  },
  {
   "cell_type": "code",
   "execution_count": 15,
   "id": "a8fe43dc",
   "metadata": {
    "execution": {
     "iopub.execute_input": "2021-07-08T12:56:29.618496Z",
     "iopub.status.busy": "2021-07-08T12:56:29.617911Z",
     "iopub.status.idle": "2021-07-08T12:56:29.623495Z",
     "shell.execute_reply": "2021-07-08T12:56:29.624065Z",
     "shell.execute_reply.started": "2021-07-08T12:30:05.040577Z"
    },
    "papermill": {
     "duration": 0.049031,
     "end_time": "2021-07-08T12:56:29.624255",
     "exception": false,
     "start_time": "2021-07-08T12:56:29.575224",
     "status": "completed"
    },
    "tags": []
   },
   "outputs": [],
   "source": [
    "#function to extract year, month, day as integers\n",
    "def get_date_int(df, column):\n",
    "    year = df[column].dt.year\n",
    "    month = df[column].dt.month\n",
    "    day = df[column].dt.day\n",
    "    return year, month, day"
   ]
  },
  {
   "cell_type": "code",
   "execution_count": 16,
   "id": "b19637a2",
   "metadata": {
    "execution": {
     "iopub.execute_input": "2021-07-08T12:56:29.710055Z",
     "iopub.status.busy": "2021-07-08T12:56:29.709223Z",
     "iopub.status.idle": "2021-07-08T12:56:29.828809Z",
     "shell.execute_reply": "2021-07-08T12:56:29.828060Z",
     "shell.execute_reply.started": "2021-07-08T12:30:05.048581Z"
    },
    "papermill": {
     "duration": 0.163772,
     "end_time": "2021-07-08T12:56:29.828968",
     "exception": false,
     "start_time": "2021-07-08T12:56:29.665196",
     "status": "completed"
    },
    "tags": []
   },
   "outputs": [],
   "source": [
    "#extract month\n",
    "invoice_year, invoice_month, _ = get_date_int(df, 'InvoiceMonth')\n",
    "cohort_year, cohort_month, _ = get_date_int(df, 'CohortMonth')"
   ]
  },
  {
   "cell_type": "code",
   "execution_count": 17,
   "id": "8c794b26",
   "metadata": {
    "execution": {
     "iopub.execute_input": "2021-07-08T12:56:29.952145Z",
     "iopub.status.busy": "2021-07-08T12:56:29.951156Z",
     "iopub.status.idle": "2021-07-08T12:56:29.957887Z",
     "shell.execute_reply": "2021-07-08T12:56:29.957115Z",
     "shell.execute_reply.started": "2021-07-08T12:30:05.278107Z"
    },
    "papermill": {
     "duration": 0.071737,
     "end_time": "2021-07-08T12:56:29.958049",
     "exception": false,
     "start_time": "2021-07-08T12:56:29.886312",
     "status": "completed"
    },
    "tags": []
   },
   "outputs": [],
   "source": [
    "years_diff = invoice_year - cohort_year\n",
    "months_diff = invoice_month - cohort_month"
   ]
  },
  {
   "cell_type": "code",
   "execution_count": 18,
   "id": "ce057416",
   "metadata": {
    "execution": {
     "iopub.execute_input": "2021-07-08T12:56:30.095508Z",
     "iopub.status.busy": "2021-07-08T12:56:30.094399Z",
     "iopub.status.idle": "2021-07-08T12:56:30.123880Z",
     "shell.execute_reply": "2021-07-08T12:56:30.123179Z",
     "shell.execute_reply.started": "2021-07-08T12:30:05.286386Z"
    },
    "papermill": {
     "duration": 0.099689,
     "end_time": "2021-07-08T12:56:30.124064",
     "exception": false,
     "start_time": "2021-07-08T12:56:30.024375",
     "status": "completed"
    },
    "tags": []
   },
   "outputs": [
    {
     "data": {
      "text/html": [
       "<div>\n",
       "<style scoped>\n",
       "    .dataframe tbody tr th:only-of-type {\n",
       "        vertical-align: middle;\n",
       "    }\n",
       "\n",
       "    .dataframe tbody tr th {\n",
       "        vertical-align: top;\n",
       "    }\n",
       "\n",
       "    .dataframe thead th {\n",
       "        text-align: right;\n",
       "    }\n",
       "</style>\n",
       "<table border=\"1\" class=\"dataframe\">\n",
       "  <thead>\n",
       "    <tr style=\"text-align: right;\">\n",
       "      <th></th>\n",
       "      <th>InvoiceNo</th>\n",
       "      <th>StockCode</th>\n",
       "      <th>Description</th>\n",
       "      <th>Quantity</th>\n",
       "      <th>InvoiceDate</th>\n",
       "      <th>UnitPrice</th>\n",
       "      <th>CustomerID</th>\n",
       "      <th>Country</th>\n",
       "      <th>Sales</th>\n",
       "      <th>InvoiceMonth</th>\n",
       "      <th>CohortMonth</th>\n",
       "      <th>CohortIndex</th>\n",
       "    </tr>\n",
       "  </thead>\n",
       "  <tbody>\n",
       "    <tr>\n",
       "      <th>0</th>\n",
       "      <td>536365</td>\n",
       "      <td>85123A</td>\n",
       "      <td>WHITE HANGING HEART T-LIGHT HOLDER</td>\n",
       "      <td>6</td>\n",
       "      <td>2010-12-01 08:26:00</td>\n",
       "      <td>2.55000</td>\n",
       "      <td>17850.00000</td>\n",
       "      <td>United Kingdom</td>\n",
       "      <td>15.30000</td>\n",
       "      <td>2010-12-01</td>\n",
       "      <td>2010-12-01</td>\n",
       "      <td>1</td>\n",
       "    </tr>\n",
       "    <tr>\n",
       "      <th>1</th>\n",
       "      <td>536365</td>\n",
       "      <td>71053</td>\n",
       "      <td>WHITE METAL LANTERN</td>\n",
       "      <td>6</td>\n",
       "      <td>2010-12-01 08:26:00</td>\n",
       "      <td>3.39000</td>\n",
       "      <td>17850.00000</td>\n",
       "      <td>United Kingdom</td>\n",
       "      <td>20.34000</td>\n",
       "      <td>2010-12-01</td>\n",
       "      <td>2010-12-01</td>\n",
       "      <td>1</td>\n",
       "    </tr>\n",
       "  </tbody>\n",
       "</table>\n",
       "</div>"
      ],
      "text/plain": [
       "  InvoiceNo StockCode                         Description  Quantity  \\\n",
       "0    536365    85123A  WHITE HANGING HEART T-LIGHT HOLDER         6   \n",
       "1    536365     71053                 WHITE METAL LANTERN         6   \n",
       "\n",
       "          InvoiceDate  UnitPrice  CustomerID         Country    Sales  \\\n",
       "0 2010-12-01 08:26:00    2.55000 17850.00000  United Kingdom 15.30000   \n",
       "1 2010-12-01 08:26:00    3.39000 17850.00000  United Kingdom 20.34000   \n",
       "\n",
       "  InvoiceMonth CohortMonth  CohortIndex  \n",
       "0   2010-12-01  2010-12-01            1  \n",
       "1   2010-12-01  2010-12-01            1  "
      ]
     },
     "execution_count": 18,
     "metadata": {},
     "output_type": "execute_result"
    }
   ],
   "source": [
    "# Extract the difference in days from all previous values\n",
    "df['CohortIndex'] = years_diff * 12 + months_diff + 1\n",
    "df.head(2)"
   ]
  },
  {
   "cell_type": "code",
   "execution_count": 19,
   "id": "eee89b52",
   "metadata": {
    "execution": {
     "iopub.execute_input": "2021-07-08T12:56:30.249924Z",
     "iopub.status.busy": "2021-07-08T12:56:30.249026Z",
     "iopub.status.idle": "2021-07-08T12:56:30.336511Z",
     "shell.execute_reply": "2021-07-08T12:56:30.335786Z",
     "shell.execute_reply.started": "2021-07-08T12:30:05.793729Z"
    },
    "papermill": {
     "duration": 0.154743,
     "end_time": "2021-07-08T12:56:30.336684",
     "exception": false,
     "start_time": "2021-07-08T12:56:30.181941",
     "status": "completed"
    },
    "tags": []
   },
   "outputs": [],
   "source": [
    "#count monthly active customers from each cohort\n",
    "cohort_data = df.groupby(['CohortMonth', 'CohortIndex'])['CustomerID'].apply(pd.Series.nunique).reset_index()\n",
    "cohort_counts = cohort_data.pivot(index='CohortMonth', columns = 'CohortIndex', values='CustomerID')"
   ]
  },
  {
   "cell_type": "code",
   "execution_count": 20,
   "id": "4817a489",
   "metadata": {
    "execution": {
     "iopub.execute_input": "2021-07-08T12:56:30.476799Z",
     "iopub.status.busy": "2021-07-08T12:56:30.464052Z",
     "iopub.status.idle": "2021-07-08T12:56:30.483803Z",
     "shell.execute_reply": "2021-07-08T12:56:30.483282Z",
     "shell.execute_reply.started": "2021-07-08T12:30:06.915237Z"
    },
    "papermill": {
     "duration": 0.088927,
     "end_time": "2021-07-08T12:56:30.483947",
     "exception": false,
     "start_time": "2021-07-08T12:56:30.395020",
     "status": "completed"
    },
    "tags": []
   },
   "outputs": [
    {
     "data": {
      "text/html": [
       "<div>\n",
       "<style scoped>\n",
       "    .dataframe tbody tr th:only-of-type {\n",
       "        vertical-align: middle;\n",
       "    }\n",
       "\n",
       "    .dataframe tbody tr th {\n",
       "        vertical-align: top;\n",
       "    }\n",
       "\n",
       "    .dataframe thead th {\n",
       "        text-align: right;\n",
       "    }\n",
       "</style>\n",
       "<table border=\"1\" class=\"dataframe\">\n",
       "  <thead>\n",
       "    <tr style=\"text-align: right;\">\n",
       "      <th>CohortIndex</th>\n",
       "      <th>1</th>\n",
       "      <th>2</th>\n",
       "      <th>3</th>\n",
       "      <th>4</th>\n",
       "      <th>5</th>\n",
       "      <th>6</th>\n",
       "      <th>7</th>\n",
       "      <th>8</th>\n",
       "      <th>9</th>\n",
       "      <th>10</th>\n",
       "      <th>11</th>\n",
       "      <th>12</th>\n",
       "      <th>13</th>\n",
       "    </tr>\n",
       "    <tr>\n",
       "      <th>CohortMonth</th>\n",
       "      <th></th>\n",
       "      <th></th>\n",
       "      <th></th>\n",
       "      <th></th>\n",
       "      <th></th>\n",
       "      <th></th>\n",
       "      <th></th>\n",
       "      <th></th>\n",
       "      <th></th>\n",
       "      <th></th>\n",
       "      <th></th>\n",
       "      <th></th>\n",
       "      <th></th>\n",
       "    </tr>\n",
       "  </thead>\n",
       "  <tbody>\n",
       "    <tr>\n",
       "      <th>2010-12-01</th>\n",
       "      <td>100.00000</td>\n",
       "      <td>36.60000</td>\n",
       "      <td>32.30000</td>\n",
       "      <td>38.40000</td>\n",
       "      <td>36.30000</td>\n",
       "      <td>39.80000</td>\n",
       "      <td>36.30000</td>\n",
       "      <td>34.90000</td>\n",
       "      <td>35.40000</td>\n",
       "      <td>39.50000</td>\n",
       "      <td>37.40000</td>\n",
       "      <td>50.30000</td>\n",
       "      <td>26.60000</td>\n",
       "    </tr>\n",
       "    <tr>\n",
       "      <th>2011-01-01</th>\n",
       "      <td>100.00000</td>\n",
       "      <td>22.10000</td>\n",
       "      <td>26.60000</td>\n",
       "      <td>23.00000</td>\n",
       "      <td>32.10000</td>\n",
       "      <td>28.80000</td>\n",
       "      <td>24.70000</td>\n",
       "      <td>24.20000</td>\n",
       "      <td>30.00000</td>\n",
       "      <td>32.60000</td>\n",
       "      <td>36.50000</td>\n",
       "      <td>11.80000</td>\n",
       "      <td>NaN</td>\n",
       "    </tr>\n",
       "    <tr>\n",
       "      <th>2011-02-01</th>\n",
       "      <td>100.00000</td>\n",
       "      <td>18.70000</td>\n",
       "      <td>18.70000</td>\n",
       "      <td>28.40000</td>\n",
       "      <td>27.10000</td>\n",
       "      <td>24.70000</td>\n",
       "      <td>25.30000</td>\n",
       "      <td>27.90000</td>\n",
       "      <td>24.70000</td>\n",
       "      <td>30.50000</td>\n",
       "      <td>6.80000</td>\n",
       "      <td>NaN</td>\n",
       "      <td>NaN</td>\n",
       "    </tr>\n",
       "    <tr>\n",
       "      <th>2011-03-01</th>\n",
       "      <td>100.00000</td>\n",
       "      <td>15.00000</td>\n",
       "      <td>25.20000</td>\n",
       "      <td>19.90000</td>\n",
       "      <td>22.30000</td>\n",
       "      <td>16.80000</td>\n",
       "      <td>26.80000</td>\n",
       "      <td>23.00000</td>\n",
       "      <td>27.90000</td>\n",
       "      <td>8.60000</td>\n",
       "      <td>NaN</td>\n",
       "      <td>NaN</td>\n",
       "      <td>NaN</td>\n",
       "    </tr>\n",
       "    <tr>\n",
       "      <th>2011-04-01</th>\n",
       "      <td>100.00000</td>\n",
       "      <td>21.30000</td>\n",
       "      <td>20.30000</td>\n",
       "      <td>21.00000</td>\n",
       "      <td>19.70000</td>\n",
       "      <td>22.70000</td>\n",
       "      <td>21.70000</td>\n",
       "      <td>26.00000</td>\n",
       "      <td>7.30000</td>\n",
       "      <td>NaN</td>\n",
       "      <td>NaN</td>\n",
       "      <td>NaN</td>\n",
       "      <td>NaN</td>\n",
       "    </tr>\n",
       "    <tr>\n",
       "      <th>2011-05-01</th>\n",
       "      <td>100.00000</td>\n",
       "      <td>19.00000</td>\n",
       "      <td>17.30000</td>\n",
       "      <td>17.30000</td>\n",
       "      <td>20.80000</td>\n",
       "      <td>23.20000</td>\n",
       "      <td>26.40000</td>\n",
       "      <td>9.50000</td>\n",
       "      <td>NaN</td>\n",
       "      <td>NaN</td>\n",
       "      <td>NaN</td>\n",
       "      <td>NaN</td>\n",
       "      <td>NaN</td>\n",
       "    </tr>\n",
       "    <tr>\n",
       "      <th>2011-06-01</th>\n",
       "      <td>100.00000</td>\n",
       "      <td>17.40000</td>\n",
       "      <td>15.70000</td>\n",
       "      <td>26.40000</td>\n",
       "      <td>23.10000</td>\n",
       "      <td>33.50000</td>\n",
       "      <td>9.50000</td>\n",
       "      <td>NaN</td>\n",
       "      <td>NaN</td>\n",
       "      <td>NaN</td>\n",
       "      <td>NaN</td>\n",
       "      <td>NaN</td>\n",
       "      <td>NaN</td>\n",
       "    </tr>\n",
       "    <tr>\n",
       "      <th>2011-07-01</th>\n",
       "      <td>100.00000</td>\n",
       "      <td>18.10000</td>\n",
       "      <td>20.70000</td>\n",
       "      <td>22.30000</td>\n",
       "      <td>27.10000</td>\n",
       "      <td>11.20000</td>\n",
       "      <td>NaN</td>\n",
       "      <td>NaN</td>\n",
       "      <td>NaN</td>\n",
       "      <td>NaN</td>\n",
       "      <td>NaN</td>\n",
       "      <td>NaN</td>\n",
       "      <td>NaN</td>\n",
       "    </tr>\n",
       "    <tr>\n",
       "      <th>2011-08-01</th>\n",
       "      <td>100.00000</td>\n",
       "      <td>20.70000</td>\n",
       "      <td>24.90000</td>\n",
       "      <td>24.30000</td>\n",
       "      <td>12.40000</td>\n",
       "      <td>NaN</td>\n",
       "      <td>NaN</td>\n",
       "      <td>NaN</td>\n",
       "      <td>NaN</td>\n",
       "      <td>NaN</td>\n",
       "      <td>NaN</td>\n",
       "      <td>NaN</td>\n",
       "      <td>NaN</td>\n",
       "    </tr>\n",
       "    <tr>\n",
       "      <th>2011-09-01</th>\n",
       "      <td>100.00000</td>\n",
       "      <td>23.40000</td>\n",
       "      <td>30.10000</td>\n",
       "      <td>11.40000</td>\n",
       "      <td>NaN</td>\n",
       "      <td>NaN</td>\n",
       "      <td>NaN</td>\n",
       "      <td>NaN</td>\n",
       "      <td>NaN</td>\n",
       "      <td>NaN</td>\n",
       "      <td>NaN</td>\n",
       "      <td>NaN</td>\n",
       "      <td>NaN</td>\n",
       "    </tr>\n",
       "    <tr>\n",
       "      <th>2011-10-01</th>\n",
       "      <td>100.00000</td>\n",
       "      <td>24.00000</td>\n",
       "      <td>11.50000</td>\n",
       "      <td>NaN</td>\n",
       "      <td>NaN</td>\n",
       "      <td>NaN</td>\n",
       "      <td>NaN</td>\n",
       "      <td>NaN</td>\n",
       "      <td>NaN</td>\n",
       "      <td>NaN</td>\n",
       "      <td>NaN</td>\n",
       "      <td>NaN</td>\n",
       "      <td>NaN</td>\n",
       "    </tr>\n",
       "    <tr>\n",
       "      <th>2011-11-01</th>\n",
       "      <td>100.00000</td>\n",
       "      <td>11.10000</td>\n",
       "      <td>NaN</td>\n",
       "      <td>NaN</td>\n",
       "      <td>NaN</td>\n",
       "      <td>NaN</td>\n",
       "      <td>NaN</td>\n",
       "      <td>NaN</td>\n",
       "      <td>NaN</td>\n",
       "      <td>NaN</td>\n",
       "      <td>NaN</td>\n",
       "      <td>NaN</td>\n",
       "      <td>NaN</td>\n",
       "    </tr>\n",
       "    <tr>\n",
       "      <th>2011-12-01</th>\n",
       "      <td>100.00000</td>\n",
       "      <td>NaN</td>\n",
       "      <td>NaN</td>\n",
       "      <td>NaN</td>\n",
       "      <td>NaN</td>\n",
       "      <td>NaN</td>\n",
       "      <td>NaN</td>\n",
       "      <td>NaN</td>\n",
       "      <td>NaN</td>\n",
       "      <td>NaN</td>\n",
       "      <td>NaN</td>\n",
       "      <td>NaN</td>\n",
       "      <td>NaN</td>\n",
       "    </tr>\n",
       "  </tbody>\n",
       "</table>\n",
       "</div>"
      ],
      "text/plain": [
       "CohortIndex        1        2        3        4        5        6        7   \\\n",
       "CohortMonth                                                                   \n",
       "2010-12-01  100.00000 36.60000 32.30000 38.40000 36.30000 39.80000 36.30000   \n",
       "2011-01-01  100.00000 22.10000 26.60000 23.00000 32.10000 28.80000 24.70000   \n",
       "2011-02-01  100.00000 18.70000 18.70000 28.40000 27.10000 24.70000 25.30000   \n",
       "2011-03-01  100.00000 15.00000 25.20000 19.90000 22.30000 16.80000 26.80000   \n",
       "2011-04-01  100.00000 21.30000 20.30000 21.00000 19.70000 22.70000 21.70000   \n",
       "2011-05-01  100.00000 19.00000 17.30000 17.30000 20.80000 23.20000 26.40000   \n",
       "2011-06-01  100.00000 17.40000 15.70000 26.40000 23.10000 33.50000  9.50000   \n",
       "2011-07-01  100.00000 18.10000 20.70000 22.30000 27.10000 11.20000      NaN   \n",
       "2011-08-01  100.00000 20.70000 24.90000 24.30000 12.40000      NaN      NaN   \n",
       "2011-09-01  100.00000 23.40000 30.10000 11.40000      NaN      NaN      NaN   \n",
       "2011-10-01  100.00000 24.00000 11.50000      NaN      NaN      NaN      NaN   \n",
       "2011-11-01  100.00000 11.10000      NaN      NaN      NaN      NaN      NaN   \n",
       "2011-12-01  100.00000      NaN      NaN      NaN      NaN      NaN      NaN   \n",
       "\n",
       "CohortIndex       8        9        10       11       12       13  \n",
       "CohortMonth                                                        \n",
       "2010-12-01  34.90000 35.40000 39.50000 37.40000 50.30000 26.60000  \n",
       "2011-01-01  24.20000 30.00000 32.60000 36.50000 11.80000      NaN  \n",
       "2011-02-01  27.90000 24.70000 30.50000  6.80000      NaN      NaN  \n",
       "2011-03-01  23.00000 27.90000  8.60000      NaN      NaN      NaN  \n",
       "2011-04-01  26.00000  7.30000      NaN      NaN      NaN      NaN  \n",
       "2011-05-01   9.50000      NaN      NaN      NaN      NaN      NaN  \n",
       "2011-06-01       NaN      NaN      NaN      NaN      NaN      NaN  \n",
       "2011-07-01       NaN      NaN      NaN      NaN      NaN      NaN  \n",
       "2011-08-01       NaN      NaN      NaN      NaN      NaN      NaN  \n",
       "2011-09-01       NaN      NaN      NaN      NaN      NaN      NaN  \n",
       "2011-10-01       NaN      NaN      NaN      NaN      NaN      NaN  \n",
       "2011-11-01       NaN      NaN      NaN      NaN      NaN      NaN  \n",
       "2011-12-01       NaN      NaN      NaN      NaN      NaN      NaN  "
      ]
     },
     "execution_count": 20,
     "metadata": {},
     "output_type": "execute_result"
    }
   ],
   "source": [
    "#Customer retention\n",
    "cohort_sizes = cohort_counts.iloc[:,0]\n",
    "retention = cohort_counts.divide(cohort_sizes, axis=0)\n",
    "retention = retention.round(3) * 100\n",
    "retention.head(20)"
   ]
  },
  {
   "cell_type": "code",
   "execution_count": 21,
   "id": "f1ff591c",
   "metadata": {
    "execution": {
     "iopub.execute_input": "2021-07-08T12:56:30.598065Z",
     "iopub.status.busy": "2021-07-08T12:56:30.597467Z",
     "iopub.status.idle": "2021-07-08T12:56:31.375885Z",
     "shell.execute_reply": "2021-07-08T12:56:31.375106Z",
     "shell.execute_reply.started": "2021-07-08T12:30:11.378651Z"
    },
    "papermill": {
     "duration": 0.846266,
     "end_time": "2021-07-08T12:56:31.376047",
     "exception": false,
     "start_time": "2021-07-08T12:56:30.529781",
     "status": "completed"
    },
    "tags": []
   },
   "outputs": [
    {
     "data": {
      "image/png": "[encoded data removed]",
      "text/plain": [
       "<Figure size 1080x576 with 2 Axes>"
      ]
     },
     "metadata": {
      "needs_background": "light"
     },
     "output_type": "display_data"
    }
   ],
   "source": [
    "month_list = [\"Dec '10\", \"Jan '11\", \"Feb '11\", \"Mar '11\", \"Apr '11\",\\\n",
    "              \"May '11\", \"Jun '11\", \"Jul '11\", \"Aug '11\", \"Sep '11\", \\\n",
    "              \"Oct '11\", \"Nov '11\", \"Dec '11\"]\n",
    "\n",
    "plt.figure(figsize=(15,8))\n",
    "plt.title('Retention by Monthly Cohorts')\n",
    "sns.heatmap(data=retention,\n",
    "            annot = True,\n",
    "            cmap = \"Greens\",\n",
    "            vmin = 0.0,\n",
    "            vmax = list(retention.max().sort_values(ascending = False))[1]+3,\n",
    "            fmt = '.1f',\n",
    "            linewidth = 0.3,\n",
    "            yticklabels=month_list)\n",
    "\n",
    "plt.show()"
   ]
  },
  {
   "cell_type": "markdown",
   "id": "20a77692",
   "metadata": {
    "papermill": {
     "duration": 0.06521,
     "end_time": "2021-07-08T12:56:31.503070",
     "exception": false,
     "start_time": "2021-07-08T12:56:31.437860",
     "status": "completed"
    },
    "tags": []
   },
   "source": [
    "# RFM analysis"
   ]
  },
  {
   "cell_type": "markdown",
   "id": "61014916",
   "metadata": {
    "papermill": {
     "duration": 0.061934,
     "end_time": "2021-07-08T12:56:31.625584",
     "exception": false,
     "start_time": "2021-07-08T12:56:31.563650",
     "status": "completed"
    },
    "tags": []
   },
   "source": [
    "### create a new df called rfm in order to calculate Recency, Frequency and Monetary values.\n",
    "\n",
    "* the number of days between the last purchase date of this customer is Recency\n",
    "* the number of unique invoices of this customer is Frequency\n",
    "* the sum of sales is this customer's Monetary"
   ]
  },
  {
   "cell_type": "code",
   "execution_count": 22,
   "id": "3efb66cc",
   "metadata": {
    "execution": {
     "iopub.execute_input": "2021-07-08T12:56:31.764501Z",
     "iopub.status.busy": "2021-07-08T12:56:31.763947Z",
     "iopub.status.idle": "2021-07-08T12:56:31.771829Z",
     "shell.execute_reply": "2021-07-08T12:56:31.772289Z",
     "shell.execute_reply.started": "2021-07-08T12:30:22.019576Z"
    },
    "papermill": {
     "duration": 0.077892,
     "end_time": "2021-07-08T12:56:31.772466",
     "exception": false,
     "start_time": "2021-07-08T12:56:31.694574",
     "status": "completed"
    },
    "tags": []
   },
   "outputs": [
    {
     "data": {
      "text/plain": [
       "Timestamp('2011-12-09 12:50:00')"
      ]
     },
     "execution_count": 22,
     "metadata": {},
     "output_type": "execute_result"
    }
   ],
   "source": [
    "last_date = df['InvoiceDate'].max() #+ dt.timedelta(days=1)\n",
    "last_date"
   ]
  },
  {
   "cell_type": "code",
   "execution_count": 23,
   "id": "11995807",
   "metadata": {
    "execution": {
     "iopub.execute_input": "2021-07-08T12:56:31.873650Z",
     "iopub.status.busy": "2021-07-08T12:56:31.873098Z",
     "iopub.status.idle": "2021-07-08T12:56:33.567959Z",
     "shell.execute_reply": "2021-07-08T12:56:33.568441Z",
     "shell.execute_reply.started": "2021-07-08T12:30:25.758742Z"
    },
    "papermill": {
     "duration": 1.750669,
     "end_time": "2021-07-08T12:56:33.568641",
     "exception": false,
     "start_time": "2021-07-08T12:56:31.817972",
     "status": "completed"
    },
    "tags": []
   },
   "outputs": [
    {
     "data": {
      "text/html": [
       "<div>\n",
       "<style scoped>\n",
       "    .dataframe tbody tr th:only-of-type {\n",
       "        vertical-align: middle;\n",
       "    }\n",
       "\n",
       "    .dataframe tbody tr th {\n",
       "        vertical-align: top;\n",
       "    }\n",
       "\n",
       "    .dataframe thead th {\n",
       "        text-align: right;\n",
       "    }\n",
       "</style>\n",
       "<table border=\"1\" class=\"dataframe\">\n",
       "  <thead>\n",
       "    <tr style=\"text-align: right;\">\n",
       "      <th></th>\n",
       "      <th>Recency</th>\n",
       "      <th>Frequency</th>\n",
       "      <th>Monetary</th>\n",
       "    </tr>\n",
       "    <tr>\n",
       "      <th>CustomerID</th>\n",
       "      <th></th>\n",
       "      <th></th>\n",
       "      <th></th>\n",
       "    </tr>\n",
       "  </thead>\n",
       "  <tbody>\n",
       "    <tr>\n",
       "      <th>12346.00000</th>\n",
       "      <td>325</td>\n",
       "      <td>1</td>\n",
       "      <td>77183.60000</td>\n",
       "    </tr>\n",
       "    <tr>\n",
       "      <th>12347.00000</th>\n",
       "      <td>1</td>\n",
       "      <td>7</td>\n",
       "      <td>4310.00000</td>\n",
       "    </tr>\n",
       "    <tr>\n",
       "      <th>12348.00000</th>\n",
       "      <td>74</td>\n",
       "      <td>4</td>\n",
       "      <td>1797.24000</td>\n",
       "    </tr>\n",
       "    <tr>\n",
       "      <th>12349.00000</th>\n",
       "      <td>18</td>\n",
       "      <td>1</td>\n",
       "      <td>1757.55000</td>\n",
       "    </tr>\n",
       "    <tr>\n",
       "      <th>12350.00000</th>\n",
       "      <td>309</td>\n",
       "      <td>1</td>\n",
       "      <td>334.40000</td>\n",
       "    </tr>\n",
       "  </tbody>\n",
       "</table>\n",
       "</div>"
      ],
      "text/plain": [
       "             Recency  Frequency    Monetary\n",
       "CustomerID                                 \n",
       "12346.00000      325          1 77183.60000\n",
       "12347.00000        1          7  4310.00000\n",
       "12348.00000       74          4  1797.24000\n",
       "12349.00000       18          1  1757.55000\n",
       "12350.00000      309          1   334.40000"
      ]
     },
     "execution_count": 23,
     "metadata": {},
     "output_type": "execute_result"
    }
   ],
   "source": [
    "rfm = df.groupby('CustomerID').agg({'InvoiceDate': lambda date: (last_date - date.max()).days,\n",
    "                                    'InvoiceNo': lambda inv: inv.nunique(),\n",
    "                                    'Sales': lambda price: price.sum()})\n",
    "rfm.columns = ['Recency', 'Frequency', 'Monetary']\n",
    "rfm.head()"
   ]
  },
  {
   "cell_type": "code",
   "execution_count": 24,
   "id": "a625f5f9",
   "metadata": {
    "execution": {
     "iopub.execute_input": "2021-07-08T12:56:33.661272Z",
     "iopub.status.busy": "2021-07-08T12:56:33.660698Z",
     "iopub.status.idle": "2021-07-08T12:56:33.685888Z",
     "shell.execute_reply": "2021-07-08T12:56:33.686447Z",
     "shell.execute_reply.started": "2021-07-08T12:30:27.471927Z"
    },
    "papermill": {
     "duration": 0.074355,
     "end_time": "2021-07-08T12:56:33.686674",
     "exception": false,
     "start_time": "2021-07-08T12:56:33.612319",
     "status": "completed"
    },
    "tags": []
   },
   "outputs": [
    {
     "data": {
      "text/html": [
       "<div>\n",
       "<style scoped>\n",
       "    .dataframe tbody tr th:only-of-type {\n",
       "        vertical-align: middle;\n",
       "    }\n",
       "\n",
       "    .dataframe tbody tr th {\n",
       "        vertical-align: top;\n",
       "    }\n",
       "\n",
       "    .dataframe thead th {\n",
       "        text-align: right;\n",
       "    }\n",
       "</style>\n",
       "<table border=\"1\" class=\"dataframe\">\n",
       "  <thead>\n",
       "    <tr style=\"text-align: right;\">\n",
       "      <th></th>\n",
       "      <th>count</th>\n",
       "      <th>mean</th>\n",
       "      <th>std</th>\n",
       "      <th>min</th>\n",
       "      <th>1%</th>\n",
       "      <th>5%</th>\n",
       "      <th>10%</th>\n",
       "      <th>25%</th>\n",
       "      <th>50%</th>\n",
       "      <th>75%</th>\n",
       "      <th>90%</th>\n",
       "      <th>95%</th>\n",
       "      <th>99%</th>\n",
       "      <th>max</th>\n",
       "    </tr>\n",
       "  </thead>\n",
       "  <tbody>\n",
       "    <tr>\n",
       "      <th>Recency</th>\n",
       "      <td>4339.00000</td>\n",
       "      <td>91.51832</td>\n",
       "      <td>100.00975</td>\n",
       "      <td>0.00000</td>\n",
       "      <td>0.00000</td>\n",
       "      <td>2.00000</td>\n",
       "      <td>4.00000</td>\n",
       "      <td>17.00000</td>\n",
       "      <td>50.00000</td>\n",
       "      <td>141.00000</td>\n",
       "      <td>262.00000</td>\n",
       "      <td>311.00000</td>\n",
       "      <td>368.00000</td>\n",
       "      <td>373.00000</td>\n",
       "    </tr>\n",
       "    <tr>\n",
       "      <th>Frequency</th>\n",
       "      <td>4339.00000</td>\n",
       "      <td>4.27195</td>\n",
       "      <td>7.70549</td>\n",
       "      <td>1.00000</td>\n",
       "      <td>1.00000</td>\n",
       "      <td>1.00000</td>\n",
       "      <td>1.00000</td>\n",
       "      <td>1.00000</td>\n",
       "      <td>2.00000</td>\n",
       "      <td>5.00000</td>\n",
       "      <td>9.00000</td>\n",
       "      <td>13.00000</td>\n",
       "      <td>30.00000</td>\n",
       "      <td>210.00000</td>\n",
       "    </tr>\n",
       "    <tr>\n",
       "      <th>Monetary</th>\n",
       "      <td>4339.00000</td>\n",
       "      <td>2053.79302</td>\n",
       "      <td>8988.24838</td>\n",
       "      <td>0.00000</td>\n",
       "      <td>52.07600</td>\n",
       "      <td>112.24500</td>\n",
       "      <td>156.56600</td>\n",
       "      <td>307.24500</td>\n",
       "      <td>674.45000</td>\n",
       "      <td>1661.64000</td>\n",
       "      <td>3646.16400</td>\n",
       "      <td>5840.18200</td>\n",
       "      <td>19880.09180</td>\n",
       "      <td>280206.02000</td>\n",
       "    </tr>\n",
       "  </tbody>\n",
       "</table>\n",
       "</div>"
      ],
      "text/plain": [
       "               count       mean        std     min       1%        5%  \\\n",
       "Recency   4339.00000   91.51832  100.00975 0.00000  0.00000   2.00000   \n",
       "Frequency 4339.00000    4.27195    7.70549 1.00000  1.00000   1.00000   \n",
       "Monetary  4339.00000 2053.79302 8988.24838 0.00000 52.07600 112.24500   \n",
       "\n",
       "                10%       25%       50%        75%        90%        95%  \\\n",
       "Recency     4.00000  17.00000  50.00000  141.00000  262.00000  311.00000   \n",
       "Frequency   1.00000   1.00000   2.00000    5.00000    9.00000   13.00000   \n",
       "Monetary  156.56600 307.24500 674.45000 1661.64000 3646.16400 5840.18200   \n",
       "\n",
       "                  99%          max  \n",
       "Recency     368.00000    373.00000  \n",
       "Frequency    30.00000    210.00000  \n",
       "Monetary  19880.09180 280206.02000  "
      ]
     },
     "execution_count": 24,
     "metadata": {},
     "output_type": "execute_result"
    }
   ],
   "source": [
    "#check if there are any zeros in rfm:\n",
    "rfm.describe([0.01, 0.05, 0.10, 0.25, 0.50, 0.75, 0.90, 0.95, 0.99]).T"
   ]
  },
  {
   "cell_type": "markdown",
   "id": "0a915a7b",
   "metadata": {
    "papermill": {
     "duration": 0.045049,
     "end_time": "2021-07-08T12:56:33.778710",
     "exception": false,
     "start_time": "2021-07-08T12:56:33.733661",
     "status": "completed"
    },
    "tags": []
   },
   "source": [
    "# RFM Scores\n",
    "* the min number of Recency metric means that this customer has just purchased, so the highest score (5) should be given to the lower number of Recency.\n",
    "* the max number of Frequency and Monetary metrics mean that the customer is purchasing frequently and spending more money, so the highest score (5) should be given to the highest Frequency and Monetary values."
   ]
  },
  {
   "cell_type": "code",
   "execution_count": 25,
   "id": "71672f08",
   "metadata": {
    "execution": {
     "iopub.execute_input": "2021-07-08T12:56:33.876632Z",
     "iopub.status.busy": "2021-07-08T12:56:33.875967Z",
     "iopub.status.idle": "2021-07-08T12:56:33.894968Z",
     "shell.execute_reply": "2021-07-08T12:56:33.893768Z",
     "shell.execute_reply.started": "2021-07-08T12:32:32.669040Z"
    },
    "papermill": {
     "duration": 0.071071,
     "end_time": "2021-07-08T12:56:33.895413",
     "exception": false,
     "start_time": "2021-07-08T12:56:33.824342",
     "status": "completed"
    },
    "tags": []
   },
   "outputs": [],
   "source": [
    "rfm[\"RecencyScore\"] = pd.qcut(rfm['Recency'], 5, labels=[5, 4, 3, 2, 1])\n",
    "\n",
    "rfm[\"FrequencyScore\"] = pd.qcut(rfm['Frequency'].rank(method=\"first\"), 5, labels=[1, 2, 3, 4, 5])\n",
    "\n",
    "rfm[\"MonetaryScore\"] = pd.qcut(rfm['Monetary'], 5, labels=[1, 2, 3, 4, 5])"
   ]
  },
  {
   "cell_type": "code",
   "execution_count": 26,
   "id": "e08e8d4e",
   "metadata": {
    "execution": {
     "iopub.execute_input": "2021-07-08T12:56:33.999329Z",
     "iopub.status.busy": "2021-07-08T12:56:33.998740Z",
     "iopub.status.idle": "2021-07-08T12:56:34.023161Z",
     "shell.execute_reply": "2021-07-08T12:56:34.023637Z",
     "shell.execute_reply.started": "2021-07-08T12:32:39.977567Z"
    },
    "papermill": {
     "duration": 0.080837,
     "end_time": "2021-07-08T12:56:34.023817",
     "exception": false,
     "start_time": "2021-07-08T12:56:33.942980",
     "status": "completed"
    },
    "tags": []
   },
   "outputs": [
    {
     "data": {
      "text/html": [
       "<div>\n",
       "<style scoped>\n",
       "    .dataframe tbody tr th:only-of-type {\n",
       "        vertical-align: middle;\n",
       "    }\n",
       "\n",
       "    .dataframe tbody tr th {\n",
       "        vertical-align: top;\n",
       "    }\n",
       "\n",
       "    .dataframe thead th {\n",
       "        text-align: right;\n",
       "    }\n",
       "</style>\n",
       "<table border=\"1\" class=\"dataframe\">\n",
       "  <thead>\n",
       "    <tr style=\"text-align: right;\">\n",
       "      <th></th>\n",
       "      <th>Recency</th>\n",
       "      <th>Frequency</th>\n",
       "      <th>Monetary</th>\n",
       "      <th>RecencyScore</th>\n",
       "      <th>FrequencyScore</th>\n",
       "      <th>MonetaryScore</th>\n",
       "      <th>RFM_SCORE</th>\n",
       "    </tr>\n",
       "    <tr>\n",
       "      <th>CustomerID</th>\n",
       "      <th></th>\n",
       "      <th></th>\n",
       "      <th></th>\n",
       "      <th></th>\n",
       "      <th></th>\n",
       "      <th></th>\n",
       "      <th></th>\n",
       "    </tr>\n",
       "  </thead>\n",
       "  <tbody>\n",
       "    <tr>\n",
       "      <th>12346.00000</th>\n",
       "      <td>325</td>\n",
       "      <td>1</td>\n",
       "      <td>77183.60000</td>\n",
       "      <td>1</td>\n",
       "      <td>1</td>\n",
       "      <td>5</td>\n",
       "      <td>115</td>\n",
       "    </tr>\n",
       "    <tr>\n",
       "      <th>12347.00000</th>\n",
       "      <td>1</td>\n",
       "      <td>7</td>\n",
       "      <td>4310.00000</td>\n",
       "      <td>5</td>\n",
       "      <td>5</td>\n",
       "      <td>5</td>\n",
       "      <td>555</td>\n",
       "    </tr>\n",
       "    <tr>\n",
       "      <th>12348.00000</th>\n",
       "      <td>74</td>\n",
       "      <td>4</td>\n",
       "      <td>1797.24000</td>\n",
       "      <td>2</td>\n",
       "      <td>4</td>\n",
       "      <td>4</td>\n",
       "      <td>244</td>\n",
       "    </tr>\n",
       "    <tr>\n",
       "      <th>12349.00000</th>\n",
       "      <td>18</td>\n",
       "      <td>1</td>\n",
       "      <td>1757.55000</td>\n",
       "      <td>4</td>\n",
       "      <td>1</td>\n",
       "      <td>4</td>\n",
       "      <td>414</td>\n",
       "    </tr>\n",
       "    <tr>\n",
       "      <th>12350.00000</th>\n",
       "      <td>309</td>\n",
       "      <td>1</td>\n",
       "      <td>334.40000</td>\n",
       "      <td>1</td>\n",
       "      <td>1</td>\n",
       "      <td>2</td>\n",
       "      <td>112</td>\n",
       "    </tr>\n",
       "  </tbody>\n",
       "</table>\n",
       "</div>"
      ],
      "text/plain": [
       "             Recency  Frequency    Monetary RecencyScore FrequencyScore  \\\n",
       "CustomerID                                                                \n",
       "12346.00000      325          1 77183.60000            1              1   \n",
       "12347.00000        1          7  4310.00000            5              5   \n",
       "12348.00000       74          4  1797.24000            2              4   \n",
       "12349.00000       18          1  1757.55000            4              1   \n",
       "12350.00000      309          1   334.40000            1              1   \n",
       "\n",
       "            MonetaryScore RFM_SCORE  \n",
       "CustomerID                           \n",
       "12346.00000             5       115  \n",
       "12347.00000             5       555  \n",
       "12348.00000             4       244  \n",
       "12349.00000             4       414  \n",
       "12350.00000             2       112  "
      ]
     },
     "execution_count": 26,
     "metadata": {},
     "output_type": "execute_result"
    }
   ],
   "source": [
    "rfm[\"RFM_SCORE\"] = (rfm['RecencyScore'].astype(str) +\n",
    "                    rfm['FrequencyScore'].astype(str) +\n",
    "                    rfm['MonetaryScore'].astype(str))\n",
    "\n",
    "rfm.head()"
   ]
  },
  {
   "cell_type": "code",
   "execution_count": 27,
   "id": "dc17e465",
   "metadata": {
    "execution": {
     "iopub.execute_input": "2021-07-08T12:56:34.149473Z",
     "iopub.status.busy": "2021-07-08T12:56:34.140364Z",
     "iopub.status.idle": "2021-07-08T12:56:34.158660Z",
     "shell.execute_reply": "2021-07-08T12:56:34.158095Z",
     "shell.execute_reply.started": "2021-07-08T12:33:15.011431Z"
    },
    "papermill": {
     "duration": 0.080166,
     "end_time": "2021-07-08T12:56:34.158797",
     "exception": false,
     "start_time": "2021-07-08T12:56:34.078631",
     "status": "completed"
    },
    "tags": []
   },
   "outputs": [
    {
     "data": {
      "text/html": [
       "<div>\n",
       "<style scoped>\n",
       "    .dataframe tbody tr th:only-of-type {\n",
       "        vertical-align: middle;\n",
       "    }\n",
       "\n",
       "    .dataframe tbody tr th {\n",
       "        vertical-align: top;\n",
       "    }\n",
       "\n",
       "    .dataframe thead th {\n",
       "        text-align: right;\n",
       "    }\n",
       "</style>\n",
       "<table border=\"1\" class=\"dataframe\">\n",
       "  <thead>\n",
       "    <tr style=\"text-align: right;\">\n",
       "      <th></th>\n",
       "      <th>Recency</th>\n",
       "      <th>Frequency</th>\n",
       "      <th>Monetary</th>\n",
       "      <th>RecencyScore</th>\n",
       "      <th>FrequencyScore</th>\n",
       "      <th>MonetaryScore</th>\n",
       "      <th>RFM_SCORE</th>\n",
       "    </tr>\n",
       "    <tr>\n",
       "      <th>CustomerID</th>\n",
       "      <th></th>\n",
       "      <th></th>\n",
       "      <th></th>\n",
       "      <th></th>\n",
       "      <th></th>\n",
       "      <th></th>\n",
       "      <th></th>\n",
       "    </tr>\n",
       "  </thead>\n",
       "  <tbody>\n",
       "    <tr>\n",
       "      <th>12347.00000</th>\n",
       "      <td>1</td>\n",
       "      <td>7</td>\n",
       "      <td>4310.00000</td>\n",
       "      <td>5</td>\n",
       "      <td>5</td>\n",
       "      <td>5</td>\n",
       "      <td>555</td>\n",
       "    </tr>\n",
       "    <tr>\n",
       "      <th>12362.00000</th>\n",
       "      <td>2</td>\n",
       "      <td>10</td>\n",
       "      <td>5226.23000</td>\n",
       "      <td>5</td>\n",
       "      <td>5</td>\n",
       "      <td>5</td>\n",
       "      <td>555</td>\n",
       "    </tr>\n",
       "    <tr>\n",
       "      <th>12417.00000</th>\n",
       "      <td>2</td>\n",
       "      <td>9</td>\n",
       "      <td>3649.10000</td>\n",
       "      <td>5</td>\n",
       "      <td>5</td>\n",
       "      <td>5</td>\n",
       "      <td>555</td>\n",
       "    </tr>\n",
       "    <tr>\n",
       "      <th>12433.00000</th>\n",
       "      <td>0</td>\n",
       "      <td>7</td>\n",
       "      <td>13375.87000</td>\n",
       "      <td>5</td>\n",
       "      <td>5</td>\n",
       "      <td>5</td>\n",
       "      <td>555</td>\n",
       "    </tr>\n",
       "    <tr>\n",
       "      <th>12437.00000</th>\n",
       "      <td>1</td>\n",
       "      <td>18</td>\n",
       "      <td>4951.41000</td>\n",
       "      <td>5</td>\n",
       "      <td>5</td>\n",
       "      <td>5</td>\n",
       "      <td>555</td>\n",
       "    </tr>\n",
       "  </tbody>\n",
       "</table>\n",
       "</div>"
      ],
      "text/plain": [
       "             Recency  Frequency    Monetary RecencyScore FrequencyScore  \\\n",
       "CustomerID                                                                \n",
       "12347.00000        1          7  4310.00000            5              5   \n",
       "12362.00000        2         10  5226.23000            5              5   \n",
       "12417.00000        2          9  3649.10000            5              5   \n",
       "12433.00000        0          7 13375.87000            5              5   \n",
       "12437.00000        1         18  4951.41000            5              5   \n",
       "\n",
       "            MonetaryScore RFM_SCORE  \n",
       "CustomerID                           \n",
       "12347.00000             5       555  \n",
       "12362.00000             5       555  \n",
       "12417.00000             5       555  \n",
       "12433.00000             5       555  \n",
       "12437.00000             5       555  "
      ]
     },
     "execution_count": 27,
     "metadata": {},
     "output_type": "execute_result"
    }
   ],
   "source": [
    "# display some of the customers with the highest scores:\n",
    "rfm[rfm['RFM_SCORE'] == \"555\"].head()"
   ]
  },
  {
   "cell_type": "markdown",
   "id": "ce17a45c",
   "metadata": {
    "papermill": {
     "duration": 0.051004,
     "end_time": "2021-07-08T12:56:34.258197",
     "exception": false,
     "start_time": "2021-07-08T12:56:34.207193",
     "status": "completed"
    },
    "tags": []
   },
   "source": [
    "# Naming the RFM Scores"
   ]
  },
  {
   "cell_type": "code",
   "execution_count": 28,
   "id": "8a970ebc",
   "metadata": {
    "execution": {
     "iopub.execute_input": "2021-07-08T12:56:34.365816Z",
     "iopub.status.busy": "2021-07-08T12:56:34.365027Z",
     "iopub.status.idle": "2021-07-08T12:56:34.368823Z",
     "shell.execute_reply": "2021-07-08T12:56:34.368189Z",
     "shell.execute_reply.started": "2021-07-08T12:34:02.397416Z"
    },
    "papermill": {
     "duration": 0.059121,
     "end_time": "2021-07-08T12:56:34.368998",
     "exception": false,
     "start_time": "2021-07-08T12:56:34.309877",
     "status": "completed"
    },
    "tags": []
   },
   "outputs": [],
   "source": [
    "# the following dict has been made according to the famous RFM graphic\n",
    "seg_map = {\n",
    "    r'[1-2][1-2]': 'Hibernating',      # Customer's shopped long ago but with less frequency and monetary value\n",
    "    r'[1-2][3-4]': 'At_Risk',          # Customer's shopping less often now who used to shop a lot\n",
    "    r'[1-2]5': 'Cant_Lose',            # Customer's shopped long ago who used to shop a lot.\n",
    "    r'3[1-2]': 'About_to_Sleep',\n",
    "    r'33': 'Need_Attention',           # High monetary value but good recency and frequency values\n",
    "    r'[3-4][4-5]': 'Loyal_Customers',  # High frequency as well as monetary value with good recency\n",
    "    r'41': 'Promising',\n",
    "    r'51': 'New_Customers',            # Customer's who recently started shopping a lot but with less monetary value\n",
    "    r'[4-5][2-3]': 'Potential_Loyalists', # High recency and monetary value, average frequency\n",
    "    r'5[4-5]': 'Best Customers'        # Highest frequency as well as monetary value with least recenc\n",
    "}"
   ]
  },
  {
   "cell_type": "code",
   "execution_count": 29,
   "id": "c83641d3",
   "metadata": {
    "execution": {
     "iopub.execute_input": "2021-07-08T12:56:34.542103Z",
     "iopub.status.busy": "2021-07-08T12:56:34.510978Z",
     "iopub.status.idle": "2021-07-08T12:56:34.662565Z",
     "shell.execute_reply": "2021-07-08T12:56:34.663215Z",
     "shell.execute_reply.started": "2021-07-08T12:45:51.199131Z"
    },
    "papermill": {
     "duration": 0.228092,
     "end_time": "2021-07-08T12:56:34.663426",
     "exception": false,
     "start_time": "2021-07-08T12:56:34.435334",
     "status": "completed"
    },
    "tags": []
   },
   "outputs": [
    {
     "data": {
      "text/html": [
       "<div>\n",
       "<style scoped>\n",
       "    .dataframe tbody tr th:only-of-type {\n",
       "        vertical-align: middle;\n",
       "    }\n",
       "\n",
       "    .dataframe tbody tr th {\n",
       "        vertical-align: top;\n",
       "    }\n",
       "\n",
       "    .dataframe thead th {\n",
       "        text-align: right;\n",
       "    }\n",
       "</style>\n",
       "<table border=\"1\" class=\"dataframe\">\n",
       "  <thead>\n",
       "    <tr style=\"text-align: right;\">\n",
       "      <th></th>\n",
       "      <th>CustomerID</th>\n",
       "      <th>Recency</th>\n",
       "      <th>Frequency</th>\n",
       "      <th>Monetary</th>\n",
       "      <th>RecencyScore</th>\n",
       "      <th>FrequencyScore</th>\n",
       "      <th>MonetaryScore</th>\n",
       "      <th>RFM_SCORE</th>\n",
       "      <th>Segment</th>\n",
       "    </tr>\n",
       "  </thead>\n",
       "  <tbody>\n",
       "    <tr>\n",
       "      <th>0</th>\n",
       "      <td>12346.00000</td>\n",
       "      <td>325</td>\n",
       "      <td>1</td>\n",
       "      <td>77183.60000</td>\n",
       "      <td>1</td>\n",
       "      <td>1</td>\n",
       "      <td>5</td>\n",
       "      <td>115</td>\n",
       "      <td>Hibernating</td>\n",
       "    </tr>\n",
       "    <tr>\n",
       "      <th>1</th>\n",
       "      <td>12347.00000</td>\n",
       "      <td>1</td>\n",
       "      <td>7</td>\n",
       "      <td>4310.00000</td>\n",
       "      <td>5</td>\n",
       "      <td>5</td>\n",
       "      <td>5</td>\n",
       "      <td>555</td>\n",
       "      <td>Best Customers</td>\n",
       "    </tr>\n",
       "  </tbody>\n",
       "</table>\n",
       "</div>"
      ],
      "text/plain": [
       "   CustomerID  Recency  Frequency    Monetary RecencyScore FrequencyScore  \\\n",
       "0 12346.00000      325          1 77183.60000            1              1   \n",
       "1 12347.00000        1          7  4310.00000            5              5   \n",
       "\n",
       "  MonetaryScore RFM_SCORE         Segment  \n",
       "0             5       115     Hibernating  \n",
       "1             5       555  Best Customers  "
      ]
     },
     "execution_count": 29,
     "metadata": {},
     "output_type": "execute_result"
    }
   ],
   "source": [
    "#we will be using Recency and Frequency scores for customer segmentation. \n",
    "#We are assuming that a customer who has recently purchased and who is often purchasing should have high RFM scores.\n",
    "rfm['Segment'] = rfm['RecencyScore'].astype(str) + rfm['FrequencyScore'].astype(str)\n",
    "rfm['Segment'] = rfm['Segment'].replace(seg_map, regex=True)\n",
    "rfm=rfm.reset_index()\n",
    "rfm.head(2)"
   ]
  },
  {
   "cell_type": "code",
   "execution_count": 30,
   "id": "d64c63fd",
   "metadata": {
    "execution": {
     "iopub.execute_input": "2021-07-08T12:56:34.826756Z",
     "iopub.status.busy": "2021-07-08T12:56:34.821951Z",
     "iopub.status.idle": "2021-07-08T12:56:34.860107Z",
     "shell.execute_reply": "2021-07-08T12:56:34.859322Z",
     "shell.execute_reply.started": "2021-07-08T12:39:09.090073Z"
    },
    "papermill": {
     "duration": 0.123558,
     "end_time": "2021-07-08T12:56:34.860274",
     "exception": false,
     "start_time": "2021-07-08T12:56:34.736716",
     "status": "completed"
    },
    "tags": []
   },
   "outputs": [
    {
     "data": {
      "text/html": [
       "<div>\n",
       "<style scoped>\n",
       "    .dataframe tbody tr th:only-of-type {\n",
       "        vertical-align: middle;\n",
       "    }\n",
       "\n",
       "    .dataframe tbody tr th {\n",
       "        vertical-align: top;\n",
       "    }\n",
       "\n",
       "    .dataframe thead tr th {\n",
       "        text-align: left;\n",
       "    }\n",
       "\n",
       "    .dataframe thead tr:last-of-type th {\n",
       "        text-align: right;\n",
       "    }\n",
       "</style>\n",
       "<table border=\"1\" class=\"dataframe\">\n",
       "  <thead>\n",
       "    <tr>\n",
       "      <th></th>\n",
       "      <th colspan=\"2\" halign=\"left\">Recency</th>\n",
       "      <th colspan=\"2\" halign=\"left\">Frequency</th>\n",
       "      <th colspan=\"2\" halign=\"left\">Monetary</th>\n",
       "    </tr>\n",
       "    <tr>\n",
       "      <th></th>\n",
       "      <th>mean</th>\n",
       "      <th>count</th>\n",
       "      <th>mean</th>\n",
       "      <th>count</th>\n",
       "      <th>mean</th>\n",
       "      <th>count</th>\n",
       "    </tr>\n",
       "    <tr>\n",
       "      <th>Segment</th>\n",
       "      <th></th>\n",
       "      <th></th>\n",
       "      <th></th>\n",
       "      <th></th>\n",
       "      <th></th>\n",
       "      <th></th>\n",
       "    </tr>\n",
       "  </thead>\n",
       "  <tbody>\n",
       "    <tr>\n",
       "      <th>About_to_Sleep</th>\n",
       "      <td>52.50427</td>\n",
       "      <td>351</td>\n",
       "      <td>1.16239</td>\n",
       "      <td>351</td>\n",
       "      <td>461.06151</td>\n",
       "      <td>351</td>\n",
       "    </tr>\n",
       "    <tr>\n",
       "      <th>At_Risk</th>\n",
       "      <td>154.06207</td>\n",
       "      <td>580</td>\n",
       "      <td>2.86552</td>\n",
       "      <td>580</td>\n",
       "      <td>1076.50643</td>\n",
       "      <td>580</td>\n",
       "    </tr>\n",
       "    <tr>\n",
       "      <th>Best Customers</th>\n",
       "      <td>4.87678</td>\n",
       "      <td>633</td>\n",
       "      <td>12.41706</td>\n",
       "      <td>633</td>\n",
       "      <td>6857.93548</td>\n",
       "      <td>633</td>\n",
       "    </tr>\n",
       "    <tr>\n",
       "      <th>Cant_Lose</th>\n",
       "      <td>131.42857</td>\n",
       "      <td>63</td>\n",
       "      <td>8.38095</td>\n",
       "      <td>63</td>\n",
       "      <td>2796.15587</td>\n",
       "      <td>63</td>\n",
       "    </tr>\n",
       "    <tr>\n",
       "      <th>Hibernating</th>\n",
       "      <td>216.89765</td>\n",
       "      <td>1065</td>\n",
       "      <td>1.10141</td>\n",
       "      <td>1065</td>\n",
       "      <td>487.70758</td>\n",
       "      <td>1065</td>\n",
       "    </tr>\n",
       "    <tr>\n",
       "      <th>Loyal_Customers</th>\n",
       "      <td>32.46917</td>\n",
       "      <td>827</td>\n",
       "      <td>6.45828</td>\n",
       "      <td>827</td>\n",
       "      <td>2856.72033</td>\n",
       "      <td>827</td>\n",
       "    </tr>\n",
       "    <tr>\n",
       "      <th>Need_Attention</th>\n",
       "      <td>52.06452</td>\n",
       "      <td>186</td>\n",
       "      <td>2.32796</td>\n",
       "      <td>186</td>\n",
       "      <td>889.22640</td>\n",
       "      <td>186</td>\n",
       "    </tr>\n",
       "    <tr>\n",
       "      <th>New_Customers</th>\n",
       "      <td>5.85714</td>\n",
       "      <td>42</td>\n",
       "      <td>1.00000</td>\n",
       "      <td>42</td>\n",
       "      <td>388.21286</td>\n",
       "      <td>42</td>\n",
       "    </tr>\n",
       "    <tr>\n",
       "      <th>Potential_Loyalists</th>\n",
       "      <td>16.12398</td>\n",
       "      <td>492</td>\n",
       "      <td>2.01016</td>\n",
       "      <td>492</td>\n",
       "      <td>1034.90547</td>\n",
       "      <td>492</td>\n",
       "    </tr>\n",
       "    <tr>\n",
       "      <th>Promising</th>\n",
       "      <td>22.35000</td>\n",
       "      <td>100</td>\n",
       "      <td>1.00000</td>\n",
       "      <td>100</td>\n",
       "      <td>351.79780</td>\n",
       "      <td>100</td>\n",
       "    </tr>\n",
       "  </tbody>\n",
       "</table>\n",
       "</div>"
      ],
      "text/plain": [
       "                      Recency       Frequency         Monetary      \n",
       "                         mean count      mean count       mean count\n",
       "Segment                                                             \n",
       "About_to_Sleep       52.50427   351   1.16239   351  461.06151   351\n",
       "At_Risk             154.06207   580   2.86552   580 1076.50643   580\n",
       "Best Customers        4.87678   633  12.41706   633 6857.93548   633\n",
       "Cant_Lose           131.42857    63   8.38095    63 2796.15587    63\n",
       "Hibernating         216.89765  1065   1.10141  1065  487.70758  1065\n",
       "Loyal_Customers      32.46917   827   6.45828   827 2856.72033   827\n",
       "Need_Attention       52.06452   186   2.32796   186  889.22640   186\n",
       "New_Customers         5.85714    42   1.00000    42  388.21286    42\n",
       "Potential_Loyalists  16.12398   492   2.01016   492 1034.90547   492\n",
       "Promising            22.35000   100   1.00000   100  351.79780   100"
      ]
     },
     "execution_count": 30,
     "metadata": {},
     "output_type": "execute_result"
    }
   ],
   "source": [
    "rfm[[\"Segment\", \"Recency\", \"Frequency\", \"Monetary\"]].groupby(\"Segment\").agg([\"mean\", \"count\"])"
   ]
  },
  {
   "cell_type": "code",
   "execution_count": 31,
   "id": "0ff3d6d9",
   "metadata": {
    "execution": {
     "iopub.execute_input": "2021-07-08T12:56:35.046282Z",
     "iopub.status.busy": "2021-07-08T12:56:35.027025Z",
     "iopub.status.idle": "2021-07-08T12:56:35.064025Z",
     "shell.execute_reply": "2021-07-08T12:56:35.063115Z",
     "shell.execute_reply.started": "2021-07-08T12:44:57.443771Z"
    },
    "papermill": {
     "duration": 0.125166,
     "end_time": "2021-07-08T12:56:35.064215",
     "exception": false,
     "start_time": "2021-07-08T12:56:34.939049",
     "status": "completed"
    },
    "tags": []
   },
   "outputs": [
    {
     "data": {
      "text/html": [
       "<div>\n",
       "<style scoped>\n",
       "    .dataframe tbody tr th:only-of-type {\n",
       "        vertical-align: middle;\n",
       "    }\n",
       "\n",
       "    .dataframe tbody tr th {\n",
       "        vertical-align: top;\n",
       "    }\n",
       "\n",
       "    .dataframe thead th {\n",
       "        text-align: right;\n",
       "    }\n",
       "</style>\n",
       "<table border=\"1\" class=\"dataframe\">\n",
       "  <thead>\n",
       "    <tr style=\"text-align: right;\">\n",
       "      <th></th>\n",
       "      <th>CustomerID</th>\n",
       "      <th>Recency</th>\n",
       "      <th>Frequency</th>\n",
       "      <th>Monetary</th>\n",
       "      <th>RecencyScore</th>\n",
       "      <th>FrequencyScore</th>\n",
       "      <th>MonetaryScore</th>\n",
       "      <th>RFM_SCORE</th>\n",
       "      <th>Segment</th>\n",
       "    </tr>\n",
       "  </thead>\n",
       "  <tbody>\n",
       "    <tr>\n",
       "      <th>0</th>\n",
       "      <td>12346.00000</td>\n",
       "      <td>325</td>\n",
       "      <td>1</td>\n",
       "      <td>77183.60000</td>\n",
       "      <td>1</td>\n",
       "      <td>1</td>\n",
       "      <td>5</td>\n",
       "      <td>115</td>\n",
       "      <td>Hibernating</td>\n",
       "    </tr>\n",
       "    <tr>\n",
       "      <th>1</th>\n",
       "      <td>12347.00000</td>\n",
       "      <td>1</td>\n",
       "      <td>7</td>\n",
       "      <td>4310.00000</td>\n",
       "      <td>5</td>\n",
       "      <td>5</td>\n",
       "      <td>5</td>\n",
       "      <td>555</td>\n",
       "      <td>Best Customers</td>\n",
       "    </tr>\n",
       "    <tr>\n",
       "      <th>2</th>\n",
       "      <td>12348.00000</td>\n",
       "      <td>74</td>\n",
       "      <td>4</td>\n",
       "      <td>1797.24000</td>\n",
       "      <td>2</td>\n",
       "      <td>4</td>\n",
       "      <td>4</td>\n",
       "      <td>244</td>\n",
       "      <td>At_Risk</td>\n",
       "    </tr>\n",
       "    <tr>\n",
       "      <th>3</th>\n",
       "      <td>12349.00000</td>\n",
       "      <td>18</td>\n",
       "      <td>1</td>\n",
       "      <td>1757.55000</td>\n",
       "      <td>4</td>\n",
       "      <td>1</td>\n",
       "      <td>4</td>\n",
       "      <td>414</td>\n",
       "      <td>Promising</td>\n",
       "    </tr>\n",
       "    <tr>\n",
       "      <th>4</th>\n",
       "      <td>12350.00000</td>\n",
       "      <td>309</td>\n",
       "      <td>1</td>\n",
       "      <td>334.40000</td>\n",
       "      <td>1</td>\n",
       "      <td>1</td>\n",
       "      <td>2</td>\n",
       "      <td>112</td>\n",
       "      <td>Hibernating</td>\n",
       "    </tr>\n",
       "  </tbody>\n",
       "</table>\n",
       "</div>"
      ],
      "text/plain": [
       "   CustomerID  Recency  Frequency    Monetary RecencyScore FrequencyScore  \\\n",
       "0 12346.00000      325          1 77183.60000            1              1   \n",
       "1 12347.00000        1          7  4310.00000            5              5   \n",
       "2 12348.00000       74          4  1797.24000            2              4   \n",
       "3 12349.00000       18          1  1757.55000            4              1   \n",
       "4 12350.00000      309          1   334.40000            1              1   \n",
       "\n",
       "  MonetaryScore RFM_SCORE         Segment  \n",
       "0             5       115     Hibernating  \n",
       "1             5       555  Best Customers  \n",
       "2             4       244         At_Risk  \n",
       "3             4       414       Promising  \n",
       "4             2       112     Hibernating  "
      ]
     },
     "execution_count": 31,
     "metadata": {},
     "output_type": "execute_result"
    }
   ],
   "source": [
    "rfm.head()"
   ]
  },
  {
   "cell_type": "code",
   "execution_count": 32,
   "id": "5661d103",
   "metadata": {
    "execution": {
     "iopub.execute_input": "2021-07-08T12:56:35.216118Z",
     "iopub.status.busy": "2021-07-08T12:56:35.215353Z",
     "iopub.status.idle": "2021-07-08T12:56:35.233086Z",
     "shell.execute_reply": "2021-07-08T12:56:35.232313Z",
     "shell.execute_reply.started": "2021-07-08T12:46:08.093261Z"
    },
    "papermill": {
     "duration": 0.095826,
     "end_time": "2021-07-08T12:56:35.233252",
     "exception": false,
     "start_time": "2021-07-08T12:56:35.137426",
     "status": "completed"
    },
    "tags": []
   },
   "outputs": [
    {
     "data": {
      "text/html": [
       "<div>\n",
       "<style scoped>\n",
       "    .dataframe tbody tr th:only-of-type {\n",
       "        vertical-align: middle;\n",
       "    }\n",
       "\n",
       "    .dataframe tbody tr th {\n",
       "        vertical-align: top;\n",
       "    }\n",
       "\n",
       "    .dataframe thead th {\n",
       "        text-align: right;\n",
       "    }\n",
       "</style>\n",
       "<table border=\"1\" class=\"dataframe\">\n",
       "  <thead>\n",
       "    <tr style=\"text-align: right;\">\n",
       "      <th></th>\n",
       "      <th>Segment</th>\n",
       "      <th>counts</th>\n",
       "    </tr>\n",
       "  </thead>\n",
       "  <tbody>\n",
       "    <tr>\n",
       "      <th>0</th>\n",
       "      <td>About_to_Sleep</td>\n",
       "      <td>351</td>\n",
       "    </tr>\n",
       "    <tr>\n",
       "      <th>1</th>\n",
       "      <td>At_Risk</td>\n",
       "      <td>580</td>\n",
       "    </tr>\n",
       "    <tr>\n",
       "      <th>2</th>\n",
       "      <td>Best Customers</td>\n",
       "      <td>633</td>\n",
       "    </tr>\n",
       "    <tr>\n",
       "      <th>3</th>\n",
       "      <td>Cant_Lose</td>\n",
       "      <td>63</td>\n",
       "    </tr>\n",
       "    <tr>\n",
       "      <th>4</th>\n",
       "      <td>Hibernating</td>\n",
       "      <td>1065</td>\n",
       "    </tr>\n",
       "    <tr>\n",
       "      <th>5</th>\n",
       "      <td>Loyal_Customers</td>\n",
       "      <td>827</td>\n",
       "    </tr>\n",
       "    <tr>\n",
       "      <th>6</th>\n",
       "      <td>Need_Attention</td>\n",
       "      <td>186</td>\n",
       "    </tr>\n",
       "    <tr>\n",
       "      <th>7</th>\n",
       "      <td>New_Customers</td>\n",
       "      <td>42</td>\n",
       "    </tr>\n",
       "    <tr>\n",
       "      <th>8</th>\n",
       "      <td>Potential_Loyalists</td>\n",
       "      <td>492</td>\n",
       "    </tr>\n",
       "    <tr>\n",
       "      <th>9</th>\n",
       "      <td>Promising</td>\n",
       "      <td>100</td>\n",
       "    </tr>\n",
       "  </tbody>\n",
       "</table>\n",
       "</div>"
      ],
      "text/plain": [
       "               Segment  counts\n",
       "0       About_to_Sleep     351\n",
       "1              At_Risk     580\n",
       "2       Best Customers     633\n",
       "3            Cant_Lose      63\n",
       "4          Hibernating    1065\n",
       "5      Loyal_Customers     827\n",
       "6       Need_Attention     186\n",
       "7        New_Customers      42\n",
       "8  Potential_Loyalists     492\n",
       "9            Promising     100"
      ]
     },
     "execution_count": 32,
     "metadata": {},
     "output_type": "execute_result"
    }
   ],
   "source": [
    "retail_rfm_segments = rfm.groupby('Segment')['CustomerID'].count().reset_index(name='counts')\n",
    "retail_rfm_segments.head(15)"
   ]
  },
  {
   "cell_type": "code",
   "execution_count": 33,
   "id": "749a2bf3",
   "metadata": {
    "execution": {
     "iopub.execute_input": "2021-07-08T12:56:35.423769Z",
     "iopub.status.busy": "2021-07-08T12:56:35.423008Z",
     "iopub.status.idle": "2021-07-08T12:56:35.618518Z",
     "shell.execute_reply": "2021-07-08T12:56:35.618053Z",
     "shell.execute_reply.started": "2021-07-08T12:48:55.772410Z"
    },
    "papermill": {
     "duration": 0.313806,
     "end_time": "2021-07-08T12:56:35.618674",
     "exception": false,
     "start_time": "2021-07-08T12:56:35.304868",
     "status": "completed"
    },
    "tags": []
   },
   "outputs": [
    {
     "data": {
      "image/png": "[encoded data removed]",
      "text/plain": [
       "<Figure size 864x576 with 1 Axes>"
      ]
     },
     "metadata": {
      "needs_background": "light"
     },
     "output_type": "display_data"
    }
   ],
   "source": [
    "#let's exclude others segment for visualization\n",
    "segment = list(retail_rfm_segments.Segment)\n",
    "score = list(retail_rfm_segments.counts)\n",
    "color_list = [\"#248af1\", \"#eb5d50\", \"#8bc4f6\", \"#8c5c94\", \"#a170e8\", \"#fba521\", \"#75bc3f\",'#50ebde','#808080']\n",
    "plt.figure(figsize=(12,8))\n",
    "plt.title('Customer Segments distribution')\n",
    "squarify.plot(sizes=score, label=segment,color=color_list, alpha=0.7)\n",
    "\n",
    "plt.show()"
   ]
  },
  {
   "cell_type": "code",
   "execution_count": null,
   "id": "b1e6c723",
   "metadata": {
    "papermill": {
     "duration": 0.045004,
     "end_time": "2021-07-08T12:56:35.711089",
     "exception": false,
     "start_time": "2021-07-08T12:56:35.666085",
     "status": "completed"
    },
    "tags": []
   },
   "outputs": [],
   "source": []
  }
 ],
 "metadata": {
  "kernelspec": {
   "display_name": "Python 3",
   "language": "python",
   "name": "python3"
  },
  "language_info": {
   "codemirror_mode": {
    "name": "ipython",
    "version": 3
   },
   "file_extension": ".py",
   "mimetype": "text/x-python",
   "name": "python",
   "nbconvert_exporter": "python",
   "pygments_lexer": "ipython3",
   "version": "3.8.8"
  },
  "papermill": {
   "default_parameters": {},
   "duration": 30.264923,
   "end_time": "2021-07-08T12:56:37.917847",
   "environment_variables": {},
   "exception": null,
   "input_path": "__notebook__.ipynb",
   "output_path": "__notebook__.ipynb",
   "parameters": {},
   "start_time": "2021-07-08T12:56:07.652924",
   "version": "2.3.3"
  }
 },
 "nbformat": 4,
 "nbformat_minor": 5
}
